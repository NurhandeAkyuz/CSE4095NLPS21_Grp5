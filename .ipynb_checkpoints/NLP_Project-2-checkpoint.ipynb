{
 "cells": [
  {
   "cell_type": "markdown",
   "metadata": {},
   "source": [
    "# TBMM Dataset"
   ]
  },
  {
   "cell_type": "markdown",
   "metadata": {},
   "source": [
    "### Importing Libraries"
   ]
  },
  {
   "cell_type": "code",
   "execution_count": null,
   "metadata": {},
   "outputs": [],
   "source": [
    "import os\n",
    "import re\n",
    "from nltk.util import ngrams\n",
    "from nltk.corpus import stopwords "
   ]
  },
  {
   "cell_type": "markdown",
   "metadata": {},
   "source": [
    "### Cleaning the Data"
   ]
  },
  {
   "cell_type": "code",
   "execution_count": null,
   "metadata": {},
   "outputs": [],
   "source": [
    "#cleaning data\n",
    "def cleanData_with_stopwords(text):\n",
    "    words=re.sub(\"[IVX]+\\\\.\",\"\", text) #roman numbers\n",
    "    words = re.split(r'\\W+', words)  #punctionation\n",
    "    string_words = ' '.join((item for item in words if not item.isdigit())) #numbers\n",
    "    tokens = [token for token in string_words.split(\" \") if (token != \"\" and len(token)>1)]\n",
    "    tokensList = []\n",
    "    for token in tokens:\n",
    "        tokensList.append(token.lower())\n",
    "    return tokensList"
   ]
  },
  {
   "cell_type": "code",
   "execution_count": null,
   "metadata": {},
   "outputs": [],
   "source": [
    "#cleaning data\n",
    "def cleanData_without_stopwords(text):\n",
    "    words=re.sub(\"[IVX]+\\\\.\",\"\", text) #roman numbers\n",
    "    words = re.split(r'\\W+', words)  #punctionation\n",
    "    string_words = ' '.join((item for item in words if not item.isdigit())) #numbers\n",
    "    stop_words = set(stopwords.words('turkish')) \n",
    "    tokens = [token for token in string_words.split(\" \") if (token != \"\" and len(token)>1 and token not in stop_words)]\n",
    "    tokensList = []\n",
    "    for token in tokens:\n",
    "        tokensList.append(token.lower())\n",
    "    return tokensList"
   ]
  },
  {
   "cell_type": "markdown",
   "metadata": {},
   "source": [
    "### Loading the Data"
   ]
  },
  {
   "cell_type": "code",
   "execution_count": null,
   "metadata": {},
   "outputs": [],
   "source": [
    "#loading the data for each donem according to its number\n",
    "def loadData(donemNumber, stopwords):\n",
    "    donem = os.listdir(f\"/Users/nurhandeakyuz/Downloads/NLP/{donemNumber}\")\n",
    "    for yil in donem:\n",
    "        textFiles = os.listdir(f\"/Users/nurhandeakyuz/Downloads/NLP/{donemNumber}/{yil}\")\n",
    "        for textFile in textFiles: \n",
    "            fileHandler =  open(f\"/Users/nurhandeakyuz/Downloads/NLP/{donemNumber}/{yil}/{textFile}\",\"r\")\n",
    "            text = fileHandler.read()\n",
    "            fileHandler.close()\n",
    "            if stopwords:\n",
    "                data = cleanData_with_stopwords(text)\n",
    "            else:\n",
    "                data = cleanData_without_stopwords(text)\n",
    "            return data"
   ]
  },
  {
   "cell_type": "markdown",
   "metadata": {},
   "source": [
    "### Extracting n-grams with Stopwords"
   ]
  },
  {
   "cell_type": "code",
   "execution_count": null,
   "metadata": {},
   "outputs": [],
   "source": [
    "#extracting nGrams\n",
    "def extractNGrams(donemNumber, nGrams, stopwords=True):\n",
    "    stopwords = True\n",
    "    data = loadData(donemNumber,stopwords)\n",
    "    result = list(ngrams(data, nGrams))\n",
    "    return result"
   ]
  },
  {
   "cell_type": "markdown",
   "metadata": {},
   "source": [
    "#### For Each Donem"
   ]
  },
  {
   "cell_type": "markdown",
   "metadata": {},
   "source": [
    "Donem20"
   ]
  },
  {
   "cell_type": "code",
   "execution_count": null,
   "metadata": {},
   "outputs": [],
   "source": [
    "#Donem20\n",
    "unigram_20 = extractNGrams('donem20', 1)\n",
    "bigram_20 = extractNGrams('donem20', 2)\n",
    "trigram_20 = extractNGrams('donem20', 3)"
   ]
  },
  {
   "cell_type": "markdown",
   "metadata": {},
   "source": [
    "Frequency for unigrams"
   ]
  },
  {
   "cell_type": "code",
   "execution_count": null,
   "metadata": {},
   "outputs": [],
   "source": [
    "frequencyForUnigram20 = {x:unigram_20.count(x) for x in unigram_20}"
   ]
  },
  {
   "cell_type": "code",
   "execution_count": null,
   "metadata": {},
   "outputs": [],
   "source": [
    "topFrequencyUnigram20 = sorted(frequencyForUnigram20.items(), key=lambda kv: kv[1])[-10:]"
   ]
  },
  {
   "cell_type": "code",
   "execution_count": null,
   "metadata": {},
   "outputs": [],
   "source": [
    "wordsUnigram20 = []\n",
    "freqUnigram20 = []\n",
    "for elem1,elem2 in topFrequencyUnigram20:\n",
    "        freq.append(elem2)\n",
    "        for i in elem1:\n",
    "            words.append(i)\n",
    "wordsUnigram20 = wordsUnigram20[::-1]\n",
    "freqUnigram20 = freqUnigram20[::-1]"
   ]
  },
  {
   "cell_type": "code",
   "execution_count": null,
   "metadata": {},
   "outputs": [],
   "source": [
    "import plotly.express as px\n",
    "fig = px.bar(x=wordsUnigram20, y=freqUnigram20, labels={'x':'words', 'y':'frequency of words'}, \n",
    "             title='Top 10 Frequent Words for Unigrams', color_discrete_sequence=['indianred'])\n",
    "fig.show()"
   ]
  },
  {
   "cell_type": "markdown",
   "metadata": {},
   "source": [
    "Frequency for bigrams"
   ]
  },
  {
   "cell_type": "code",
   "execution_count": null,
   "metadata": {},
   "outputs": [],
   "source": [
    "frequencyForBigram20 = {x:bigram_20.count(x) for x in bigram_20}"
   ]
  },
  {
   "cell_type": "code",
   "execution_count": null,
   "metadata": {},
   "outputs": [],
   "source": [
    "topFrequencyBigram20 = sorted(frequencyForBigram20.items(), key=lambda kv: kv[1])[-10:]"
   ]
  },
  {
   "cell_type": "markdown",
   "metadata": {},
   "source": [
    "Frequency for trigrams"
   ]
  },
  {
   "cell_type": "code",
   "execution_count": null,
   "metadata": {},
   "outputs": [],
   "source": [
    "frequencyForTrigram20 = {x:trigram_20.count(x) for x in trigram_20}"
   ]
  },
  {
   "cell_type": "code",
   "execution_count": null,
   "metadata": {},
   "outputs": [],
   "source": [
    "topFrequencyTrigram20 = sorted(frequencyForTrigram20.items(), key=lambda kv: kv[1])[-10:]"
   ]
  },
  {
   "cell_type": "markdown",
   "metadata": {},
   "source": [
    "Donem21"
   ]
  },
  {
   "cell_type": "code",
   "execution_count": null,
   "metadata": {},
   "outputs": [],
   "source": [
    "#Donem21\n",
    "unigram_21 = extractNGrams('donem21', 1)\n",
    "bigram_21 = extractNGrams('donem21', 2)\n",
    "trigram_21 = extractNGrams('donem21', 3)"
   ]
  },
  {
   "cell_type": "markdown",
   "metadata": {},
   "source": [
    "Frequency for unigrams"
   ]
  },
  {
   "cell_type": "code",
   "execution_count": null,
   "metadata": {},
   "outputs": [],
   "source": [
    "frequencyForUnigram21 = {x:unigram_21.count(x) for x in unigram_21}"
   ]
  },
  {
   "cell_type": "code",
   "execution_count": null,
   "metadata": {},
   "outputs": [],
   "source": [
    "topFrequencyUnigram21 = sorted(frequencyForUnigram21.items(), key=lambda kv: kv[1])[-10:]"
   ]
  },
  {
   "cell_type": "markdown",
   "metadata": {},
   "source": [
    "Frequency for bigrams"
   ]
  },
  {
   "cell_type": "code",
   "execution_count": null,
   "metadata": {},
   "outputs": [],
   "source": [
    "frequencyForBigram21 = {x:bigram_21.count(x) for x in bigram_21}"
   ]
  },
  {
   "cell_type": "code",
   "execution_count": null,
   "metadata": {},
   "outputs": [],
   "source": [
    "topFrequencyBigram21 = sorted(frequencyForBigram21.items(), key=lambda kv: kv[1])[-10:]"
   ]
  },
  {
   "cell_type": "markdown",
   "metadata": {},
   "source": [
    "Frequency for trigrams"
   ]
  },
  {
   "cell_type": "code",
   "execution_count": null,
   "metadata": {},
   "outputs": [],
   "source": [
    "frequencyForTrigram21 = {x:trigram_21.count(x) for x in trigram_21}"
   ]
  },
  {
   "cell_type": "code",
   "execution_count": null,
   "metadata": {},
   "outputs": [],
   "source": [
    "topFrequencyTrigram21 = sorted(frequencyForTrigram21.items(), key=lambda kv: kv[1])[-10:]"
   ]
  },
  {
   "cell_type": "markdown",
   "metadata": {},
   "source": [
    "Donem22"
   ]
  },
  {
   "cell_type": "code",
   "execution_count": null,
   "metadata": {},
   "outputs": [],
   "source": [
    "#Donem22\n",
    "unigram_22 = extractNGrams('donem22', 1)\n",
    "bigram_22 = extractNGrams('donem22', 2)\n",
    "trigram_22 = extractNGrams('donem22', 3)"
   ]
  },
  {
   "cell_type": "markdown",
   "metadata": {},
   "source": [
    "Frequency for unigrams"
   ]
  },
  {
   "cell_type": "code",
   "execution_count": null,
   "metadata": {},
   "outputs": [],
   "source": [
    "frequencyForUnigram22 = {x:unigram_22.count(x) for x in unigram_22}"
   ]
  },
  {
   "cell_type": "code",
   "execution_count": null,
   "metadata": {},
   "outputs": [],
   "source": [
    "topFrequencyUnigram22 = sorted(frequencyForUnigram22.items(), key=lambda kv: kv[1])[-10:]"
   ]
  },
  {
   "cell_type": "markdown",
   "metadata": {},
   "source": [
    "Frequency for bigrams"
   ]
  },
  {
   "cell_type": "code",
   "execution_count": null,
   "metadata": {},
   "outputs": [],
   "source": [
    "frequencyForBigram22 = {x:bigram_22.count(x) for x in bigram_22}"
   ]
  },
  {
   "cell_type": "code",
   "execution_count": null,
   "metadata": {},
   "outputs": [],
   "source": [
    "topFrequencyBigram22 = sorted(frequencyForBigram22.items(), key=lambda kv: kv[1])[-10:]"
   ]
  },
  {
   "cell_type": "markdown",
   "metadata": {},
   "source": [
    "Frequency for trigrams"
   ]
  },
  {
   "cell_type": "code",
   "execution_count": null,
   "metadata": {},
   "outputs": [],
   "source": [
    "frequencyForTrigram22 = {x:trigram_22.count(x) for x in trigram_22}"
   ]
  },
  {
   "cell_type": "code",
   "execution_count": null,
   "metadata": {},
   "outputs": [],
   "source": [
    "topFrequencyTrigram22 = sorted(frequencyForTrigram22.items(), key=lambda kv: kv[1])[-10:]"
   ]
  },
  {
   "cell_type": "markdown",
   "metadata": {},
   "source": [
    "Donem23"
   ]
  },
  {
   "cell_type": "code",
   "execution_count": null,
   "metadata": {},
   "outputs": [],
   "source": [
    "#Donem23\n",
    "unigram_23 = extractNGrams('donem23', 1)\n",
    "bigram_23 = extractNGrams('donem23', 2)\n",
    "trigram_23 = extractNGrams('donem23', 3)"
   ]
  },
  {
   "cell_type": "markdown",
   "metadata": {},
   "source": [
    "Frequency for unigrams"
   ]
  },
  {
   "cell_type": "code",
   "execution_count": null,
   "metadata": {},
   "outputs": [],
   "source": [
    "frequencyForUnigram23 = {x:unigram_23.count(x) for x in unigram_23}"
   ]
  },
  {
   "cell_type": "code",
   "execution_count": null,
   "metadata": {},
   "outputs": [],
   "source": [
    "topFrequencyUnigram23 = sorted(frequencyForUnigram23.items(), key=lambda kv: kv[1])[-10:]"
   ]
  },
  {
   "cell_type": "markdown",
   "metadata": {},
   "source": [
    "Frequency for bigrams"
   ]
  },
  {
   "cell_type": "code",
   "execution_count": null,
   "metadata": {},
   "outputs": [],
   "source": [
    "frequencyForBigram23 = {x:bigram_23.count(x) for x in bigram_23}"
   ]
  },
  {
   "cell_type": "code",
   "execution_count": null,
   "metadata": {},
   "outputs": [],
   "source": [
    "topFrequencyBigram23 = sorted(frequencyForBigram23.items(), key=lambda kv: kv[1])[-10:]"
   ]
  },
  {
   "cell_type": "markdown",
   "metadata": {},
   "source": [
    "Frequency for trigrams"
   ]
  },
  {
   "cell_type": "code",
   "execution_count": null,
   "metadata": {},
   "outputs": [],
   "source": [
    "frequencyForTrigram23 = {x:trigram_23.count(x) for x in trigram_23}"
   ]
  },
  {
   "cell_type": "code",
   "execution_count": null,
   "metadata": {},
   "outputs": [],
   "source": [
    "topFrequencyTrigram23 = sorted(frequencyForTrigram23.items(), key=lambda kv: kv[1])[-10:]"
   ]
  },
  {
   "cell_type": "markdown",
   "metadata": {},
   "source": [
    "Donem24"
   ]
  },
  {
   "cell_type": "code",
   "execution_count": null,
   "metadata": {},
   "outputs": [],
   "source": [
    "#Donem24\n",
    "unigram_24 = extractNGrams('donem24', 1)\n",
    "bigram_24 = extractNGrams('donem24', 2)\n",
    "trigram_24 = extractNGrams('donem24', 3)"
   ]
  },
  {
   "cell_type": "markdown",
   "metadata": {},
   "source": [
    "Frequency for unigrams"
   ]
  },
  {
   "cell_type": "code",
   "execution_count": null,
   "metadata": {},
   "outputs": [],
   "source": [
    "frequencyForUnigram24 = {x:unigram_24.count(x) for x in unigram_24}"
   ]
  },
  {
   "cell_type": "code",
   "execution_count": null,
   "metadata": {},
   "outputs": [],
   "source": [
    "topFrequencyUnigram24 = sorted(frequencyForUnigram24.items(), key=lambda kv: kv[1])[-10:]"
   ]
  },
  {
   "cell_type": "markdown",
   "metadata": {},
   "source": [
    "Frequency for bigrams"
   ]
  },
  {
   "cell_type": "code",
   "execution_count": null,
   "metadata": {},
   "outputs": [],
   "source": [
    "frequencyForBigram24 = {x:bigram_24.count(x) for x in bigram_24}"
   ]
  },
  {
   "cell_type": "code",
   "execution_count": null,
   "metadata": {},
   "outputs": [],
   "source": [
    "topFrequencyBigram24 = sorted(frequencyForBigram24.items(), key=lambda kv: kv[1])[-10:]"
   ]
  },
  {
   "cell_type": "markdown",
   "metadata": {},
   "source": [
    "Frequency for trigrams"
   ]
  },
  {
   "cell_type": "code",
   "execution_count": null,
   "metadata": {},
   "outputs": [],
   "source": [
    "frequencyForTrigram24 = {x:trigram_24.count(x) for x in trigram_24}"
   ]
  },
  {
   "cell_type": "code",
   "execution_count": null,
   "metadata": {},
   "outputs": [],
   "source": [
    "topFrequencyTrigram24 = sorted(frequencyForTrigram24.items(), key=lambda kv: kv[1])[-10:]"
   ]
  },
  {
   "cell_type": "markdown",
   "metadata": {},
   "source": [
    "Donem25"
   ]
  },
  {
   "cell_type": "code",
   "execution_count": null,
   "metadata": {},
   "outputs": [],
   "source": [
    "#Donem25\n",
    "unigram_25 = extractNGrams('donem25', 1)\n",
    "bigram_25 = extractNGrams('donem25', 2)\n",
    "trigram_25 = extractNGrams('donem25', 3)"
   ]
  },
  {
   "cell_type": "markdown",
   "metadata": {},
   "source": [
    "Frequency for unigrams"
   ]
  },
  {
   "cell_type": "code",
   "execution_count": null,
   "metadata": {},
   "outputs": [],
   "source": [
    "frequencyForUnigram25 = {x:unigram_25.count(x) for x in unigram_25}"
   ]
  },
  {
   "cell_type": "code",
   "execution_count": null,
   "metadata": {},
   "outputs": [],
   "source": [
    "topFrequencyUnigram25 = sorted(frequencyForUnigram25.items(), key=lambda kv: kv[1])[-10:]"
   ]
  },
  {
   "cell_type": "markdown",
   "metadata": {},
   "source": [
    "Frequency for bigrams"
   ]
  },
  {
   "cell_type": "code",
   "execution_count": null,
   "metadata": {},
   "outputs": [],
   "source": [
    "frequencyForBigram25 = {x:bigram_25.count(x) for x in bigram_25}"
   ]
  },
  {
   "cell_type": "code",
   "execution_count": null,
   "metadata": {},
   "outputs": [],
   "source": [
    "topFrequencyBigram25 = sorted(frequencyForBigram25.items(), key=lambda kv: kv[1])[-10:]"
   ]
  },
  {
   "cell_type": "markdown",
   "metadata": {},
   "source": [
    "Frequency for trigrams"
   ]
  },
  {
   "cell_type": "code",
   "execution_count": null,
   "metadata": {},
   "outputs": [],
   "source": [
    "frequencyForTrigram25 = {x:trigram_25.count(x) for x in trigram_25}"
   ]
  },
  {
   "cell_type": "code",
   "execution_count": null,
   "metadata": {},
   "outputs": [],
   "source": [
    "topFrequencyTrigram25 = sorted(frequencyForTrigram25.items(), key=lambda kv: kv[1])[-10:]"
   ]
  },
  {
   "cell_type": "markdown",
   "metadata": {},
   "source": [
    "Donem26"
   ]
  },
  {
   "cell_type": "code",
   "execution_count": null,
   "metadata": {},
   "outputs": [],
   "source": [
    "#Donem26\n",
    "unigram_26 = extractNGrams('donem26', 1)\n",
    "bigram_26 = extractNGrams('donem26', 2)\n",
    "trigram_26 = extractNGrams('donem26', 3)"
   ]
  },
  {
   "cell_type": "markdown",
   "metadata": {},
   "source": [
    "Frequency for unigrams"
   ]
  },
  {
   "cell_type": "code",
   "execution_count": null,
   "metadata": {},
   "outputs": [],
   "source": [
    "frequencyForUnigram26 = {x:unigram_26.count(x) for x in unigram_26}"
   ]
  },
  {
   "cell_type": "code",
   "execution_count": null,
   "metadata": {},
   "outputs": [],
   "source": [
    "topFrequencyUnigram26 = sorted(frequencyForUnigram26.items(), key=lambda kv: kv[1])[-10:]"
   ]
  },
  {
   "cell_type": "markdown",
   "metadata": {},
   "source": [
    "Frequency for bigrams"
   ]
  },
  {
   "cell_type": "code",
   "execution_count": null,
   "metadata": {},
   "outputs": [],
   "source": [
    "frequencyForBigram26 = {x:bigram_26.count(x) for x in bigram_26}"
   ]
  },
  {
   "cell_type": "code",
   "execution_count": null,
   "metadata": {},
   "outputs": [],
   "source": [
    "topFrequencyBigram26 = sorted(frequencyForBigram26.items(), key=lambda kv: kv[1])[-10:]"
   ]
  },
  {
   "cell_type": "markdown",
   "metadata": {},
   "source": [
    "Frequency for trigrams"
   ]
  },
  {
   "cell_type": "code",
   "execution_count": null,
   "metadata": {},
   "outputs": [],
   "source": [
    "frequencyForTrigram26 = {x:trigram_26.count(x) for x in trigram_26}"
   ]
  },
  {
   "cell_type": "code",
   "execution_count": null,
   "metadata": {},
   "outputs": [],
   "source": [
    "topFrequencyTrigram26 = sorted(frequencyForTrigram26.items(), key=lambda kv: kv[1])[-10:]"
   ]
  },
  {
   "cell_type": "markdown",
   "metadata": {},
   "source": [
    "Donem27"
   ]
  },
  {
   "cell_type": "code",
   "execution_count": null,
   "metadata": {},
   "outputs": [],
   "source": [
    "#Donem27\n",
    "unigram_27 = extractNGrams('donem27', 1)\n",
    "bigram_27 = extractNGrams('donem27', 2)\n",
    "trigram_27 = extractNGrams('donem27', 3)"
   ]
  },
  {
   "cell_type": "markdown",
   "metadata": {},
   "source": [
    "Frequency for unigrams"
   ]
  },
  {
   "cell_type": "code",
   "execution_count": null,
   "metadata": {},
   "outputs": [],
   "source": [
    "frequencyForUnigram27 = {x:unigram_27.count(x) for x in unigram_27}"
   ]
  },
  {
   "cell_type": "code",
   "execution_count": null,
   "metadata": {},
   "outputs": [],
   "source": [
    "topFrequencyUnigram27 = sorted(frequencyForUnigram27.items(), key=lambda kv: kv[1])[-10:]"
   ]
  },
  {
   "cell_type": "markdown",
   "metadata": {},
   "source": [
    "Frequency for bigrams"
   ]
  },
  {
   "cell_type": "code",
   "execution_count": null,
   "metadata": {},
   "outputs": [],
   "source": [
    "frequencyForBigram27 = {x:bigram_27.count(x) for x in bigram_27}"
   ]
  },
  {
   "cell_type": "code",
   "execution_count": null,
   "metadata": {},
   "outputs": [],
   "source": [
    "topFrequencyBigram27 = sorted(frequencyForBigram27.items(), key=lambda kv: kv[1])[-10:]"
   ]
  },
  {
   "cell_type": "markdown",
   "metadata": {},
   "source": [
    "Frequency for trigrams"
   ]
  },
  {
   "cell_type": "code",
   "execution_count": null,
   "metadata": {},
   "outputs": [],
   "source": [
    "frequencyForTrigram27 = {x:trigram_27.count(x) for x in trigram_27}"
   ]
  },
  {
   "cell_type": "code",
   "execution_count": null,
   "metadata": {},
   "outputs": [],
   "source": [
    "topFrequencyTrigram27 = sorted(frequencyForTrigram27.items(), key=lambda kv: kv[1])[-10:]"
   ]
  },
  {
   "cell_type": "markdown",
   "metadata": {},
   "source": [
    "#### For Whole Corpus"
   ]
  },
  {
   "cell_type": "code",
   "execution_count": null,
   "metadata": {},
   "outputs": [],
   "source": [
    "Unigram_corpus = unigram_20+unigram_21+unigram_22+unigram_23+unigram_24+unigram_25+unigram_26+unigram_27\n",
    "Bigram_corpus = bigram_20+bigram_21+bigram_22+bigram_23+bigram_24+bigram_25+bigram_26+bigram_27\n",
    "Trigram_corpus = trigram_20+trigram_21+trigram_22+trigram_23+trigram_24+trigram_25+trigram_26+trigram_27"
   ]
  },
  {
   "cell_type": "markdown",
   "metadata": {},
   "source": [
    "Frequency for unigrams"
   ]
  },
  {
   "cell_type": "code",
   "execution_count": null,
   "metadata": {},
   "outputs": [],
   "source": [
    "frequencyForUnigram_corpus = {x:Unigram_corpus.count(x) for x in Unigram_corpus}"
   ]
  },
  {
   "cell_type": "code",
   "execution_count": null,
   "metadata": {},
   "outputs": [],
   "source": [
    "topFrequencyUnigram_corpus = sorted(frequencyForUnigram_corpus.items(), key=lambda kv: kv[1])[-10:]"
   ]
  },
  {
   "cell_type": "code",
   "execution_count": null,
   "metadata": {},
   "outputs": [],
   "source": [
    "wordsUnigramCorpus = []\n",
    "freqUnigramCorpus = []\n",
    "for elem1,elem2 in topFrequencyUnigram_corpus:\n",
    "        freq.append(elem2)\n",
    "        for i in elem1:\n",
    "            words.append(i)\n",
    "wordsUnigramCorpus = wordsUnigramCorpus[::-1]\n",
    "freqUnigramCorpus = freqUnigramCorpus[::-1]"
   ]
  },
  {
   "cell_type": "code",
   "execution_count": null,
   "metadata": {},
   "outputs": [],
   "source": [
    "import plotly.express as px\n",
    "fig = px.bar(x=wordsUnigramCorpus, y=freqUnigramCorpus, labels={'x':'words', 'y':'frequency of words'}, \n",
    "             title='Top 10 Frequent Words for Unigrams', color_discrete_sequence=['indianred'])\n",
    "fig.show()"
   ]
  },
  {
   "cell_type": "markdown",
   "metadata": {},
   "source": [
    "Frequency for bigrams"
   ]
  },
  {
   "cell_type": "code",
   "execution_count": null,
   "metadata": {},
   "outputs": [],
   "source": [
    "frequencyForBigram_corpus = {x:Bigram_corpus.count(x) for x in Bigram_corpus}"
   ]
  },
  {
   "cell_type": "code",
   "execution_count": null,
   "metadata": {},
   "outputs": [],
   "source": [
    "topFrequencyBigram_corpus = sorted(frequencyForBigram_corpus.items(), key=lambda kv: kv[1])[-10:]"
   ]
  },
  {
   "cell_type": "markdown",
   "metadata": {},
   "source": [
    "Frequency for trigrams"
   ]
  },
  {
   "cell_type": "code",
   "execution_count": null,
   "metadata": {},
   "outputs": [],
   "source": [
    "frequencyForTrigram_corpus = {x:Trigram_corpus.count(x) for x in Trigram_corpus}"
   ]
  },
  {
   "cell_type": "code",
   "execution_count": null,
   "metadata": {},
   "outputs": [],
   "source": [
    "topFrequencyTrigram_corpus = sorted(frequencyForTrigram_corpus.items(), key=lambda kv: kv[1])[-10:]"
   ]
  }
 ],
 "metadata": {
  "kernelspec": {
   "display_name": "Python 3",
   "language": "python",
   "name": "python3"
  },
  "language_info": {
   "codemirror_mode": {
    "name": "ipython",
    "version": 3
   },
   "file_extension": ".py",
   "mimetype": "text/x-python",
   "name": "python",
   "nbconvert_exporter": "python",
   "pygments_lexer": "ipython3",
   "version": "3.8.5"
  }
 },
 "nbformat": 4,
 "nbformat_minor": 2
}
