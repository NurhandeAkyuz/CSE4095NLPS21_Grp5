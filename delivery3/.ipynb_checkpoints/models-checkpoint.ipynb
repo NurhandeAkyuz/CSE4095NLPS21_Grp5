{
 "cells": [
  {
   "cell_type": "code",
   "execution_count": 1,
   "metadata": {
    "id": "vCaA1G1C_-gZ"
   },
   "outputs": [],
   "source": [
    "from IPython.core.debugger import set_trace\n",
    "import pandas as pd\n",
    "import numpy as np\n",
    "import os\n",
    "import matplotlib.pyplot as plt\n",
    "import time\n",
    "import re\n",
    "import string\n",
    "import nltk\n",
    "import tensorflow as tf\n",
    "from nltk.corpus import stopwords\n",
    "from sklearn.model_selection import train_test_split\n",
    "from collections import Counter\n",
    "from keras.preprocessing.text import Tokenizer\n",
    "from keras.preprocessing.sequence import pad_sequences\n",
    "from keras.layers import Embedding, LSTM, Dense, Dropout\n",
    "from keras.initializers import Constant\n",
    "from keras.optimizers import Adam\n",
    "plt.style.use(style=\"seaborn\")\n",
    "%matplotlib inline"
   ]
  },
  {
   "cell_type": "markdown",
   "metadata": {},
   "source": [
    "### Loading the Data"
   ]
  },
  {
   "cell_type": "code",
   "execution_count": 2,
   "metadata": {
    "colab": {
     "base_uri": "https://localhost:8080/"
    },
    "id": "u-OVpBIY_-gc",
    "outputId": "2570258f-ef2f-42cc-8a06-5c706634d361",
    "scrolled": true
   },
   "outputs": [
    {
     "name": "stderr",
     "output_type": "stream",
     "text": [
      "/Library/Frameworks/Python.framework/Versions/3.7/lib/python3.7/site-packages/IPython/core/interactiveshell.py:2718: DtypeWarning: Columns (29,30,31,32) have mixed types.Specify dtype option on import or set low_memory=False.\n",
      "  interactivity=interactivity, compiler=compiler, result=result)\n"
     ]
    }
   ],
   "source": [
    "csv_file_path = ('data/kickstarter_data_with_features.csv')\n",
    "dataframe = pd.read_csv(csv_file_path)"
   ]
  },
  {
   "cell_type": "markdown",
   "metadata": {},
   "source": [
    "### Defining  some functions"
   ]
  },
  {
   "cell_type": "code",
   "execution_count": 3,
   "metadata": {
    "id": "2oNlkK-r_-gn"
   },
   "outputs": [],
   "source": [
    "# Multiple functions for cleaning data \n",
    "\n",
    "def remove_URL(text):\n",
    "    url = re.compile(r\"https?://\\S+|www\\.\\S+\")\n",
    "    return url.sub(r\"\", text)\n",
    "\n",
    "\n",
    "def remove_html(text):\n",
    "    html = re.compile(r\"<.*?>\")\n",
    "    return html.sub(r\"\", text)\n",
    "\n",
    "def remove_number(text):\n",
    "    newstring = re.sub(r'[0-9]+', '', text)\n",
    "    return newstring\n",
    "\n",
    "\n",
    "def remove_emoji(string):\n",
    "    emoji_pattern = re.compile(\n",
    "        \"[\"\n",
    "        u\"\\U0001F600-\\U0001F64F\"  # emoticons\n",
    "        u\"\\U0001F300-\\U0001F5FF\"  # symbols & pictographs\n",
    "        u\"\\U0001F680-\\U0001F6FF\"  # transport & map symbols\n",
    "        u\"\\U0001F1E0-\\U0001F1FF\"  # flags (iOS)\n",
    "        u\"\\U00002702-\\U000027B0\"\n",
    "        u\"\\U000024C2-\\U0001F251\"\n",
    "        \"]+\",\n",
    "        flags=re.UNICODE,\n",
    "    )\n",
    "    return emoji_pattern.sub(r\"\", string)\n",
    "\n",
    "\n",
    "def remove_punct(text):\n",
    "    table = str.maketrans(\"\", \"\", string.punctuation)\n",
    "    return text.translate(table)\n",
    "\n",
    "def remove_stopwords(text):\n",
    "    # nltk.download('stopwords') \n",
    "    stop = set(stopwords.words(\"english\"))\n",
    "    text = [word.lower() for word in text.split() if word.lower() not in stop]\n",
    "\n",
    "    return \" \".join(text)\n",
    "\n",
    "\n",
    "def get_vocab_size(text):\n",
    "    \"\"\"Count unique words\"\"\"\n",
    "    count = Counter()\n",
    "    for i in text.values:\n",
    "        i = remove_punct(i)\n",
    "        i = remove_emoji(i)\n",
    "        i = remove_URL(i)\n",
    "        i = remove_html(i)\n",
    "        i = remove_number(i)\n",
    "        for word in i.split():\n",
    "            count[word] += 1\n",
    "    return len(count)"
   ]
  },
  {
   "cell_type": "code",
   "execution_count": 4,
   "metadata": {},
   "outputs": [
    {
     "data": {
      "text/html": [
       "<div>\n",
       "<style scoped>\n",
       "    .dataframe tbody tr th:only-of-type {\n",
       "        vertical-align: middle;\n",
       "    }\n",
       "\n",
       "    .dataframe tbody tr th {\n",
       "        vertical-align: top;\n",
       "    }\n",
       "\n",
       "    .dataframe thead th {\n",
       "        text-align: right;\n",
       "    }\n",
       "</style>\n",
       "<table border=\"1\" class=\"dataframe\">\n",
       "  <thead>\n",
       "    <tr style=\"text-align: right;\">\n",
       "      <th></th>\n",
       "      <th>Unnamed: 0</th>\n",
       "      <th>id</th>\n",
       "      <th>photo</th>\n",
       "      <th>name</th>\n",
       "      <th>blurb</th>\n",
       "      <th>goal</th>\n",
       "      <th>pledged</th>\n",
       "      <th>state</th>\n",
       "      <th>slug</th>\n",
       "      <th>disable_communication</th>\n",
       "      <th>...</th>\n",
       "      <th>created_at_day</th>\n",
       "      <th>created_at_yr</th>\n",
       "      <th>created_at_hr</th>\n",
       "      <th>launched_at_month</th>\n",
       "      <th>launched_at_day</th>\n",
       "      <th>launched_at_yr</th>\n",
       "      <th>launched_at_hr</th>\n",
       "      <th>create_to_launch</th>\n",
       "      <th>launch_to_deadline</th>\n",
       "      <th>launch_to_state_change</th>\n",
       "    </tr>\n",
       "  </thead>\n",
       "  <tbody>\n",
       "    <tr>\n",
       "      <th>0</th>\n",
       "      <td>0</td>\n",
       "      <td>1454391034</td>\n",
       "      <td>{\"small\":\"https://ksr-ugc.imgix.net/assets/011...</td>\n",
       "      <td>Auntie Di's Music Time Sign ASL for Hearing an...</td>\n",
       "      <td>MTS ASL Curriculum Workbook is a reproducible ...</td>\n",
       "      <td>1500.0</td>\n",
       "      <td>0.0</td>\n",
       "      <td>failed</td>\n",
       "      <td>auntie-dis-music-time-sign-asl-for-hearing-and...</td>\n",
       "      <td>False</td>\n",
       "      <td>...</td>\n",
       "      <td>29</td>\n",
       "      <td>2014</td>\n",
       "      <td>22</td>\n",
       "      <td>12</td>\n",
       "      <td>17</td>\n",
       "      <td>2014</td>\n",
       "      <td>13</td>\n",
       "      <td>17 days 14:51:39.000000000</td>\n",
       "      <td>36 days 20:47:24.000000000</td>\n",
       "      <td>NaN</td>\n",
       "    </tr>\n",
       "    <tr>\n",
       "      <th>1</th>\n",
       "      <td>1</td>\n",
       "      <td>1655206086</td>\n",
       "      <td>{\"small\":\"https://ksr-ugc.imgix.net/assets/012...</td>\n",
       "      <td>Jump Start Kindergarten Toolkit</td>\n",
       "      <td>This kit teaches how to print, correct an ugly...</td>\n",
       "      <td>500.0</td>\n",
       "      <td>0.0</td>\n",
       "      <td>failed</td>\n",
       "      <td>jump-start-kindergarten-toolkit</td>\n",
       "      <td>False</td>\n",
       "      <td>...</td>\n",
       "      <td>20</td>\n",
       "      <td>2015</td>\n",
       "      <td>9</td>\n",
       "      <td>3</td>\n",
       "      <td>2</td>\n",
       "      <td>2015</td>\n",
       "      <td>16</td>\n",
       "      <td>10 days 06:44:39.000000000</td>\n",
       "      <td>60 days 00:00:00.000000000</td>\n",
       "      <td>NaN</td>\n",
       "    </tr>\n",
       "    <tr>\n",
       "      <th>2</th>\n",
       "      <td>2</td>\n",
       "      <td>311581827</td>\n",
       "      <td>{\"small\":\"https://ksr-ugc.imgix.net/assets/012...</td>\n",
       "      <td>Ojukwu Balewa Awolowo (O.B.A.) Public Library ...</td>\n",
       "      <td>Establishing a free, world-class, public libra...</td>\n",
       "      <td>100000.0</td>\n",
       "      <td>120.0</td>\n",
       "      <td>failed</td>\n",
       "      <td>ojukwu-balewa-awolowo-oba-public-library-of-ni...</td>\n",
       "      <td>False</td>\n",
       "      <td>...</td>\n",
       "      <td>24</td>\n",
       "      <td>2015</td>\n",
       "      <td>0</td>\n",
       "      <td>1</td>\n",
       "      <td>25</td>\n",
       "      <td>2015</td>\n",
       "      <td>8</td>\n",
       "      <td>1 days 08:08:58.000000000</td>\n",
       "      <td>60 days 00:00:00.000000000</td>\n",
       "      <td>NaN</td>\n",
       "    </tr>\n",
       "    <tr>\n",
       "      <th>3</th>\n",
       "      <td>3</td>\n",
       "      <td>859724515</td>\n",
       "      <td>{\"small\":\"https://ksr-ugc.imgix.net/assets/011...</td>\n",
       "      <td>MASTIZE - [mas-TAHYZ, MAS-tahyz]  - to spread</td>\n",
       "      <td>Goal: Introducing a new word into the English ...</td>\n",
       "      <td>5000.0</td>\n",
       "      <td>0.0</td>\n",
       "      <td>failed</td>\n",
       "      <td>mastize-mas-tahyz-mas-tahyz-to-spread</td>\n",
       "      <td>False</td>\n",
       "      <td>...</td>\n",
       "      <td>5</td>\n",
       "      <td>2014</td>\n",
       "      <td>22</td>\n",
       "      <td>9</td>\n",
       "      <td>6</td>\n",
       "      <td>2014</td>\n",
       "      <td>0</td>\n",
       "      <td>0 days 02:11:17.000000000</td>\n",
       "      <td>30 days 00:00:00.000000000</td>\n",
       "      <td>NaN</td>\n",
       "    </tr>\n",
       "    <tr>\n",
       "      <th>4</th>\n",
       "      <td>4</td>\n",
       "      <td>1613604977</td>\n",
       "      <td>{\"small\":\"https://ksr-ugc.imgix.net/assets/012...</td>\n",
       "      <td>Synopse der EU-DSGVO - Artikel, Erwägungsgründ...</td>\n",
       "      <td>Zu den Artikeln der DSGVO sind die korrespondi...</td>\n",
       "      <td>3222.0</td>\n",
       "      <td>356.0</td>\n",
       "      <td>failed</td>\n",
       "      <td>synopse-der-eu-dsgvo-artikel-erwagungsgrunde-bdsg</td>\n",
       "      <td>False</td>\n",
       "      <td>...</td>\n",
       "      <td>25</td>\n",
       "      <td>2016</td>\n",
       "      <td>14</td>\n",
       "      <td>5</td>\n",
       "      <td>26</td>\n",
       "      <td>2016</td>\n",
       "      <td>5</td>\n",
       "      <td>0 days 15:47:38.000000000</td>\n",
       "      <td>32 days 06:02:33.000000000</td>\n",
       "      <td>NaN</td>\n",
       "    </tr>\n",
       "    <tr>\n",
       "      <th>...</th>\n",
       "      <td>...</td>\n",
       "      <td>...</td>\n",
       "      <td>...</td>\n",
       "      <td>...</td>\n",
       "      <td>...</td>\n",
       "      <td>...</td>\n",
       "      <td>...</td>\n",
       "      <td>...</td>\n",
       "      <td>...</td>\n",
       "      <td>...</td>\n",
       "      <td>...</td>\n",
       "      <td>...</td>\n",
       "      <td>...</td>\n",
       "      <td>...</td>\n",
       "      <td>...</td>\n",
       "      <td>...</td>\n",
       "      <td>...</td>\n",
       "      <td>...</td>\n",
       "      <td>...</td>\n",
       "      <td>...</td>\n",
       "      <td>...</td>\n",
       "    </tr>\n",
       "    <tr>\n",
       "      <th>20627</th>\n",
       "      <td>20627</td>\n",
       "      <td>2118633700</td>\n",
       "      <td>{\"small\":\"https://ksr-ugc.imgix.net/assets/012...</td>\n",
       "      <td>StorySnap: Your voice, their stories... in a s...</td>\n",
       "      <td>The easy way to be present for story time anyt...</td>\n",
       "      <td>32500.0</td>\n",
       "      <td>25868.0</td>\n",
       "      <td>failed</td>\n",
       "      <td>storysnap-your-voice-their-stories-in-a-snap</td>\n",
       "      <td>False</td>\n",
       "      <td>...</td>\n",
       "      <td>4</td>\n",
       "      <td>2015</td>\n",
       "      <td>3</td>\n",
       "      <td>12</td>\n",
       "      <td>9</td>\n",
       "      <td>2015</td>\n",
       "      <td>17</td>\n",
       "      <td>5 days 13:26:50.000000000</td>\n",
       "      <td>31 days 23:47:41.000000000</td>\n",
       "      <td>NaN</td>\n",
       "    </tr>\n",
       "    <tr>\n",
       "      <th>20628</th>\n",
       "      <td>20628</td>\n",
       "      <td>657198274</td>\n",
       "      <td>{\"small\":\"https://ksr-ugc.imgix.net/assets/014...</td>\n",
       "      <td>Smart Fit!</td>\n",
       "      <td>A revolutionary App that makes getting fit as ...</td>\n",
       "      <td>100000.0</td>\n",
       "      <td>1559.0</td>\n",
       "      <td>failed</td>\n",
       "      <td>smart-fit</td>\n",
       "      <td>False</td>\n",
       "      <td>...</td>\n",
       "      <td>11</td>\n",
       "      <td>2016</td>\n",
       "      <td>9</td>\n",
       "      <td>12</td>\n",
       "      <td>6</td>\n",
       "      <td>2016</td>\n",
       "      <td>11</td>\n",
       "      <td>56 days 02:24:44.000000000</td>\n",
       "      <td>30 days 00:00:00.000000000</td>\n",
       "      <td>NaN</td>\n",
       "    </tr>\n",
       "    <tr>\n",
       "      <th>20629</th>\n",
       "      <td>20629</td>\n",
       "      <td>1790340460</td>\n",
       "      <td>{\"small\":\"https://ksr-ugc.imgix.net/assets/012...</td>\n",
       "      <td>Sloth Face App</td>\n",
       "      <td>We all love fatbooth and Ugly booth, why not s...</td>\n",
       "      <td>10000.0</td>\n",
       "      <td>0.0</td>\n",
       "      <td>failed</td>\n",
       "      <td>sloth-face-app</td>\n",
       "      <td>False</td>\n",
       "      <td>...</td>\n",
       "      <td>12</td>\n",
       "      <td>2015</td>\n",
       "      <td>12</td>\n",
       "      <td>2</td>\n",
       "      <td>13</td>\n",
       "      <td>2015</td>\n",
       "      <td>12</td>\n",
       "      <td>0 days 23:56:32.000000000</td>\n",
       "      <td>60 days 00:00:00.000000000</td>\n",
       "      <td>NaN</td>\n",
       "    </tr>\n",
       "    <tr>\n",
       "      <th>20630</th>\n",
       "      <td>20630</td>\n",
       "      <td>2028578264</td>\n",
       "      <td>{\"small\":\"https://ksr-ugc.imgix.net/assets/012...</td>\n",
       "      <td>DriverTools</td>\n",
       "      <td>Production android app for cab drivers and tru...</td>\n",
       "      <td>2500.0</td>\n",
       "      <td>0.0</td>\n",
       "      <td>failed</td>\n",
       "      <td>drivertools</td>\n",
       "      <td>False</td>\n",
       "      <td>...</td>\n",
       "      <td>18</td>\n",
       "      <td>2015</td>\n",
       "      <td>20</td>\n",
       "      <td>4</td>\n",
       "      <td>20</td>\n",
       "      <td>2015</td>\n",
       "      <td>13</td>\n",
       "      <td>1 days 17:10:17.000000000</td>\n",
       "      <td>30 days 00:00:00.000000000</td>\n",
       "      <td>NaN</td>\n",
       "    </tr>\n",
       "    <tr>\n",
       "      <th>20631</th>\n",
       "      <td>20631</td>\n",
       "      <td>1484954094</td>\n",
       "      <td>{\"small\":\"https://ksr-ugc.imgix.net/assets/011...</td>\n",
       "      <td>Let's Trail app</td>\n",
       "      <td>We recently launched version 1 of our unique t...</td>\n",
       "      <td>50000.0</td>\n",
       "      <td>380.0</td>\n",
       "      <td>failed</td>\n",
       "      <td>lets-trail-app</td>\n",
       "      <td>False</td>\n",
       "      <td>...</td>\n",
       "      <td>28</td>\n",
       "      <td>2014</td>\n",
       "      <td>5</td>\n",
       "      <td>10</td>\n",
       "      <td>21</td>\n",
       "      <td>2014</td>\n",
       "      <td>4</td>\n",
       "      <td>22 days 22:42:01.000000000</td>\n",
       "      <td>30 days 00:00:00.000000000</td>\n",
       "      <td>NaN</td>\n",
       "    </tr>\n",
       "  </tbody>\n",
       "</table>\n",
       "<p>20632 rows × 60 columns</p>\n",
       "</div>"
      ],
      "text/plain": [
       "       Unnamed: 0          id  \\\n",
       "0               0  1454391034   \n",
       "1               1  1655206086   \n",
       "2               2   311581827   \n",
       "3               3   859724515   \n",
       "4               4  1613604977   \n",
       "...           ...         ...   \n",
       "20627       20627  2118633700   \n",
       "20628       20628   657198274   \n",
       "20629       20629  1790340460   \n",
       "20630       20630  2028578264   \n",
       "20631       20631  1484954094   \n",
       "\n",
       "                                                   photo  \\\n",
       "0      {\"small\":\"https://ksr-ugc.imgix.net/assets/011...   \n",
       "1      {\"small\":\"https://ksr-ugc.imgix.net/assets/012...   \n",
       "2      {\"small\":\"https://ksr-ugc.imgix.net/assets/012...   \n",
       "3      {\"small\":\"https://ksr-ugc.imgix.net/assets/011...   \n",
       "4      {\"small\":\"https://ksr-ugc.imgix.net/assets/012...   \n",
       "...                                                  ...   \n",
       "20627  {\"small\":\"https://ksr-ugc.imgix.net/assets/012...   \n",
       "20628  {\"small\":\"https://ksr-ugc.imgix.net/assets/014...   \n",
       "20629  {\"small\":\"https://ksr-ugc.imgix.net/assets/012...   \n",
       "20630  {\"small\":\"https://ksr-ugc.imgix.net/assets/012...   \n",
       "20631  {\"small\":\"https://ksr-ugc.imgix.net/assets/011...   \n",
       "\n",
       "                                                    name  \\\n",
       "0      Auntie Di's Music Time Sign ASL for Hearing an...   \n",
       "1                        Jump Start Kindergarten Toolkit   \n",
       "2      Ojukwu Balewa Awolowo (O.B.A.) Public Library ...   \n",
       "3          MASTIZE - [mas-TAHYZ, MAS-tahyz]  - to spread   \n",
       "4      Synopse der EU-DSGVO - Artikel, Erwägungsgründ...   \n",
       "...                                                  ...   \n",
       "20627  StorySnap: Your voice, their stories... in a s...   \n",
       "20628                                         Smart Fit!   \n",
       "20629                                     Sloth Face App   \n",
       "20630                                        DriverTools   \n",
       "20631                                    Let's Trail app   \n",
       "\n",
       "                                                   blurb      goal  pledged  \\\n",
       "0      MTS ASL Curriculum Workbook is a reproducible ...    1500.0      0.0   \n",
       "1      This kit teaches how to print, correct an ugly...     500.0      0.0   \n",
       "2      Establishing a free, world-class, public libra...  100000.0    120.0   \n",
       "3      Goal: Introducing a new word into the English ...    5000.0      0.0   \n",
       "4      Zu den Artikeln der DSGVO sind die korrespondi...    3222.0    356.0   \n",
       "...                                                  ...       ...      ...   \n",
       "20627  The easy way to be present for story time anyt...   32500.0  25868.0   \n",
       "20628  A revolutionary App that makes getting fit as ...  100000.0   1559.0   \n",
       "20629  We all love fatbooth and Ugly booth, why not s...   10000.0      0.0   \n",
       "20630  Production android app for cab drivers and tru...    2500.0      0.0   \n",
       "20631  We recently launched version 1 of our unique t...   50000.0    380.0   \n",
       "\n",
       "        state                                               slug  \\\n",
       "0      failed  auntie-dis-music-time-sign-asl-for-hearing-and...   \n",
       "1      failed                    jump-start-kindergarten-toolkit   \n",
       "2      failed  ojukwu-balewa-awolowo-oba-public-library-of-ni...   \n",
       "3      failed              mastize-mas-tahyz-mas-tahyz-to-spread   \n",
       "4      failed  synopse-der-eu-dsgvo-artikel-erwagungsgrunde-bdsg   \n",
       "...       ...                                                ...   \n",
       "20627  failed       storysnap-your-voice-their-stories-in-a-snap   \n",
       "20628  failed                                          smart-fit   \n",
       "20629  failed                                     sloth-face-app   \n",
       "20630  failed                                        drivertools   \n",
       "20631  failed                                     lets-trail-app   \n",
       "\n",
       "       disable_communication  ... created_at_day created_at_yr created_at_hr  \\\n",
       "0                      False  ...             29          2014            22   \n",
       "1                      False  ...             20          2015             9   \n",
       "2                      False  ...             24          2015             0   \n",
       "3                      False  ...              5          2014            22   \n",
       "4                      False  ...             25          2016            14   \n",
       "...                      ...  ...            ...           ...           ...   \n",
       "20627                  False  ...              4          2015             3   \n",
       "20628                  False  ...             11          2016             9   \n",
       "20629                  False  ...             12          2015            12   \n",
       "20630                  False  ...             18          2015            20   \n",
       "20631                  False  ...             28          2014             5   \n",
       "\n",
       "       launched_at_month launched_at_day launched_at_yr launched_at_hr  \\\n",
       "0                     12              17           2014             13   \n",
       "1                      3               2           2015             16   \n",
       "2                      1              25           2015              8   \n",
       "3                      9               6           2014              0   \n",
       "4                      5              26           2016              5   \n",
       "...                  ...             ...            ...            ...   \n",
       "20627                 12               9           2015             17   \n",
       "20628                 12               6           2016             11   \n",
       "20629                  2              13           2015             12   \n",
       "20630                  4              20           2015             13   \n",
       "20631                 10              21           2014              4   \n",
       "\n",
       "                 create_to_launch          launch_to_deadline  \\\n",
       "0      17 days 14:51:39.000000000  36 days 20:47:24.000000000   \n",
       "1      10 days 06:44:39.000000000  60 days 00:00:00.000000000   \n",
       "2       1 days 08:08:58.000000000  60 days 00:00:00.000000000   \n",
       "3       0 days 02:11:17.000000000  30 days 00:00:00.000000000   \n",
       "4       0 days 15:47:38.000000000  32 days 06:02:33.000000000   \n",
       "...                           ...                         ...   \n",
       "20627   5 days 13:26:50.000000000  31 days 23:47:41.000000000   \n",
       "20628  56 days 02:24:44.000000000  30 days 00:00:00.000000000   \n",
       "20629   0 days 23:56:32.000000000  60 days 00:00:00.000000000   \n",
       "20630   1 days 17:10:17.000000000  30 days 00:00:00.000000000   \n",
       "20631  22 days 22:42:01.000000000  30 days 00:00:00.000000000   \n",
       "\n",
       "       launch_to_state_change  \n",
       "0                         NaN  \n",
       "1                         NaN  \n",
       "2                         NaN  \n",
       "3                         NaN  \n",
       "4                         NaN  \n",
       "...                       ...  \n",
       "20627                     NaN  \n",
       "20628                     NaN  \n",
       "20629                     NaN  \n",
       "20630                     NaN  \n",
       "20631                     NaN  \n",
       "\n",
       "[20632 rows x 60 columns]"
      ]
     },
     "execution_count": 4,
     "metadata": {},
     "output_type": "execute_result"
    }
   ],
   "source": [
    "dataframe"
   ]
  },
  {
   "cell_type": "markdown",
   "metadata": {},
   "source": [
    "### Preprocessing the data"
   ]
  },
  {
   "cell_type": "code",
   "execution_count": 5,
   "metadata": {
    "id": "xLf57Jab_-gp"
   },
   "outputs": [],
   "source": [
    "dataframe['blurb']=dataframe['blurb'].astype(\"string\") \n",
    "dataframe = dataframe[['blurb','state', 'pledged']] # only using these 2 cols\n",
    "dataframe = dataframe[dataframe['state'].isin(['successful', 'failed'])]\n",
    "dataframe['state'] = dataframe['state'].replace({'failed': 0, 'successful': 1})\n",
    "dataframe['blurb'] = dataframe['blurb'].map(remove_stopwords) # remove stop words\n",
    "dataframe = dataframe.dropna() "
   ]
  },
  {
   "cell_type": "code",
   "execution_count": 6,
   "metadata": {},
   "outputs": [
    {
     "data": {
      "text/html": [
       "<div>\n",
       "<style scoped>\n",
       "    .dataframe tbody tr th:only-of-type {\n",
       "        vertical-align: middle;\n",
       "    }\n",
       "\n",
       "    .dataframe tbody tr th {\n",
       "        vertical-align: top;\n",
       "    }\n",
       "\n",
       "    .dataframe thead th {\n",
       "        text-align: right;\n",
       "    }\n",
       "</style>\n",
       "<table border=\"1\" class=\"dataframe\">\n",
       "  <thead>\n",
       "    <tr style=\"text-align: right;\">\n",
       "      <th></th>\n",
       "      <th>blurb</th>\n",
       "      <th>state</th>\n",
       "      <th>pledged</th>\n",
       "    </tr>\n",
       "  </thead>\n",
       "  <tbody>\n",
       "    <tr>\n",
       "      <th>0</th>\n",
       "      <td>mts asl curriculum workbook reproducible study...</td>\n",
       "      <td>0</td>\n",
       "      <td>0.0</td>\n",
       "    </tr>\n",
       "    <tr>\n",
       "      <th>1</th>\n",
       "      <td>kit teaches print, correct ugly grasp, make su...</td>\n",
       "      <td>0</td>\n",
       "      <td>0.0</td>\n",
       "    </tr>\n",
       "    <tr>\n",
       "      <th>2</th>\n",
       "      <td>establishing free, world-class, public library...</td>\n",
       "      <td>0</td>\n",
       "      <td>120.0</td>\n",
       "    </tr>\n",
       "    <tr>\n",
       "      <th>3</th>\n",
       "      <td>goal: introducing new word english language/di...</td>\n",
       "      <td>0</td>\n",
       "      <td>0.0</td>\n",
       "    </tr>\n",
       "    <tr>\n",
       "      <th>4</th>\n",
       "      <td>zu den artikeln der dsgvo sind die korrespondi...</td>\n",
       "      <td>0</td>\n",
       "      <td>356.0</td>\n",
       "    </tr>\n",
       "    <tr>\n",
       "      <th>...</th>\n",
       "      <td>...</td>\n",
       "      <td>...</td>\n",
       "      <td>...</td>\n",
       "    </tr>\n",
       "    <tr>\n",
       "      <th>20627</th>\n",
       "      <td>easy way present story time anytime, wherever ...</td>\n",
       "      <td>0</td>\n",
       "      <td>25868.0</td>\n",
       "    </tr>\n",
       "    <tr>\n",
       "      <th>20628</th>\n",
       "      <td>revolutionary app makes getting fit easy effic...</td>\n",
       "      <td>0</td>\n",
       "      <td>1559.0</td>\n",
       "    </tr>\n",
       "    <tr>\n",
       "      <th>20629</th>\n",
       "      <td>love fatbooth ugly booth, see look three toed ...</td>\n",
       "      <td>0</td>\n",
       "      <td>0.0</td>\n",
       "    </tr>\n",
       "    <tr>\n",
       "      <th>20630</th>\n",
       "      <td>production android app cab drivers truckers.</td>\n",
       "      <td>0</td>\n",
       "      <td>0.0</td>\n",
       "    </tr>\n",
       "    <tr>\n",
       "      <th>20631</th>\n",
       "      <td>recently launched version 1 unique travel app ...</td>\n",
       "      <td>0</td>\n",
       "      <td>380.0</td>\n",
       "    </tr>\n",
       "  </tbody>\n",
       "</table>\n",
       "<p>17434 rows × 3 columns</p>\n",
       "</div>"
      ],
      "text/plain": [
       "                                                   blurb  state  pledged\n",
       "0      mts asl curriculum workbook reproducible study...      0      0.0\n",
       "1      kit teaches print, correct ugly grasp, make su...      0      0.0\n",
       "2      establishing free, world-class, public library...      0    120.0\n",
       "3      goal: introducing new word english language/di...      0      0.0\n",
       "4      zu den artikeln der dsgvo sind die korrespondi...      0    356.0\n",
       "...                                                  ...    ...      ...\n",
       "20627  easy way present story time anytime, wherever ...      0  25868.0\n",
       "20628  revolutionary app makes getting fit easy effic...      0   1559.0\n",
       "20629  love fatbooth ugly booth, see look three toed ...      0      0.0\n",
       "20630       production android app cab drivers truckers.      0      0.0\n",
       "20631  recently launched version 1 unique travel app ...      0    380.0\n",
       "\n",
       "[17434 rows x 3 columns]"
      ]
     },
     "execution_count": 6,
     "metadata": {},
     "output_type": "execute_result"
    }
   ],
   "source": [
    "dataframe"
   ]
  },
  {
   "cell_type": "markdown",
   "metadata": {},
   "source": [
    "### Splitting the Data"
   ]
  },
  {
   "cell_type": "code",
   "execution_count": 7,
   "metadata": {
    "id": "C7k1a9Fr_-gs"
   },
   "outputs": [],
   "source": [
    "from sklearn.model_selection import train_test_split\n",
    "X = dataframe.drop(['state', 'pledged'], axis=1)\n",
    "Y = dataframe[['state', 'pledged']]\n",
    "X_train, X_test, y_train, y_test = train_test_split(X,Y, test_size=0.3, random_state=123)"
   ]
  },
  {
   "cell_type": "code",
   "execution_count": null,
   "metadata": {},
   "outputs": [],
   "source": []
  },
  {
   "cell_type": "code",
   "execution_count": 8,
   "metadata": {},
   "outputs": [
    {
     "data": {
      "text/html": [
       "<div>\n",
       "<style scoped>\n",
       "    .dataframe tbody tr th:only-of-type {\n",
       "        vertical-align: middle;\n",
       "    }\n",
       "\n",
       "    .dataframe tbody tr th {\n",
       "        vertical-align: top;\n",
       "    }\n",
       "\n",
       "    .dataframe thead th {\n",
       "        text-align: right;\n",
       "    }\n",
       "</style>\n",
       "<table border=\"1\" class=\"dataframe\">\n",
       "  <thead>\n",
       "    <tr style=\"text-align: right;\">\n",
       "      <th></th>\n",
       "      <th>state</th>\n",
       "      <th>pledged</th>\n",
       "    </tr>\n",
       "  </thead>\n",
       "  <tbody>\n",
       "    <tr>\n",
       "      <th>11285</th>\n",
       "      <td>0</td>\n",
       "      <td>1.0</td>\n",
       "    </tr>\n",
       "    <tr>\n",
       "      <th>9165</th>\n",
       "      <td>0</td>\n",
       "      <td>1.0</td>\n",
       "    </tr>\n",
       "    <tr>\n",
       "      <th>8447</th>\n",
       "      <td>1</td>\n",
       "      <td>550.0</td>\n",
       "    </tr>\n",
       "    <tr>\n",
       "      <th>16794</th>\n",
       "      <td>0</td>\n",
       "      <td>11291.0</td>\n",
       "    </tr>\n",
       "    <tr>\n",
       "      <th>6185</th>\n",
       "      <td>0</td>\n",
       "      <td>199.0</td>\n",
       "    </tr>\n",
       "    <tr>\n",
       "      <th>...</th>\n",
       "      <td>...</td>\n",
       "      <td>...</td>\n",
       "    </tr>\n",
       "    <tr>\n",
       "      <th>96</th>\n",
       "      <td>0</td>\n",
       "      <td>25.0</td>\n",
       "    </tr>\n",
       "    <tr>\n",
       "      <th>15419</th>\n",
       "      <td>0</td>\n",
       "      <td>207.0</td>\n",
       "    </tr>\n",
       "    <tr>\n",
       "      <th>9032</th>\n",
       "      <td>0</td>\n",
       "      <td>1001.0</td>\n",
       "    </tr>\n",
       "    <tr>\n",
       "      <th>18228</th>\n",
       "      <td>0</td>\n",
       "      <td>50.0</td>\n",
       "    </tr>\n",
       "    <tr>\n",
       "      <th>18679</th>\n",
       "      <td>1</td>\n",
       "      <td>1593.0</td>\n",
       "    </tr>\n",
       "  </tbody>\n",
       "</table>\n",
       "<p>12203 rows × 2 columns</p>\n",
       "</div>"
      ],
      "text/plain": [
       "       state  pledged\n",
       "11285      0      1.0\n",
       "9165       0      1.0\n",
       "8447       1    550.0\n",
       "16794      0  11291.0\n",
       "6185       0    199.0\n",
       "...      ...      ...\n",
       "96         0     25.0\n",
       "15419      0    207.0\n",
       "9032       0   1001.0\n",
       "18228      0     50.0\n",
       "18679      1   1593.0\n",
       "\n",
       "[12203 rows x 2 columns]"
      ]
     },
     "execution_count": 8,
     "metadata": {},
     "output_type": "execute_result"
    }
   ],
   "source": [
    "y_train"
   ]
  },
  {
   "cell_type": "markdown",
   "metadata": {},
   "source": [
    "### Getting the Vocabular size: # of unique words"
   ]
  },
  {
   "cell_type": "code",
   "execution_count": 9,
   "metadata": {
    "id": "fRD4aw7L_-gs"
   },
   "outputs": [],
   "source": [
    "train_v_size = get_vocab_size(X_train.blurb)"
   ]
  },
  {
   "cell_type": "code",
   "execution_count": 10,
   "metadata": {},
   "outputs": [
    {
     "data": {
      "text/plain": [
       "23927"
      ]
     },
     "execution_count": 10,
     "metadata": {},
     "output_type": "execute_result"
    }
   ],
   "source": [
    "train_v_size"
   ]
  },
  {
   "cell_type": "markdown",
   "metadata": {},
   "source": [
    "### Sequencing the text\n",
    "\n",
    "Fitting a tokenizer to assign indices to words and converting the text to sequence of indices."
   ]
  },
  {
   "cell_type": "code",
   "execution_count": 11,
   "metadata": {},
   "outputs": [],
   "source": [
    "#fit tokenizer on training data\n",
    "tokenizer = Tokenizer()\n",
    "tokenizer.fit_on_texts(X_train.blurb)\n",
    "#get train sequences\n",
    "train_seqs = tokenizer.texts_to_sequences(X_train.blurb)\n",
    "train_seqs_max_size = max([len(seq) for seq in train_seqs])\n",
    "#get test sequences\n",
    "test_seqs = tokenizer.texts_to_sequences(X_test.blurb)\n",
    "test_seqs_max_size = max([len(seq) for seq in test_seqs])"
   ]
  },
  {
   "cell_type": "code",
   "execution_count": 12,
   "metadata": {
    "scrolled": true
   },
   "outputs": [
    {
     "data": {
      "text/plain": [
       "(26, 23)"
      ]
     },
     "execution_count": 12,
     "metadata": {},
     "output_type": "execute_result"
    }
   ],
   "source": [
    "train_seqs_max_size, test_seqs_max_size"
   ]
  },
  {
   "cell_type": "markdown",
   "metadata": {},
   "source": [
    "### Padding the sequences\n",
    "\n",
    "Padding the sequences to have seqencies of equal length. "
   ]
  },
  {
   "cell_type": "code",
   "execution_count": 13,
   "metadata": {
    "id": "F0kfjuwX_-gv"
   },
   "outputs": [],
   "source": [
    "train_padded = pad_sequences(train_seqs, maxlen=train_seqs_max_size, padding=\"post\", truncating=\"post\")\n",
    "test_padded = pad_sequences(test_seqs, maxlen=train_seqs_max_size, padding=\"post\", truncating=\"post\")"
   ]
  },
  {
   "cell_type": "code",
   "execution_count": 14,
   "metadata": {
    "colab": {
     "base_uri": "https://localhost:8080/"
    },
    "id": "rCJZj60W_-g3",
    "outputId": "709256b2-8fce-405a-ffe5-b22badd0e978",
    "scrolled": true
   },
   "outputs": [
    {
     "name": "stdout",
     "output_type": "stream",
     "text": [
      "Shape of train (12203, 26)\n",
      "Shape of test (5231, 26)\n"
     ]
    }
   ],
   "source": [
    "print(f\"Shape of train {train_padded.shape}\")\n",
    "print(f\"Shape of test {test_padded.shape}\")"
   ]
  },
  {
   "cell_type": "markdown",
   "metadata": {},
   "source": [
    "### Embeddings"
   ]
  },
  {
   "cell_type": "code",
   "execution_count": 15,
   "metadata": {},
   "outputs": [],
   "source": [
    "documents = X_train.blurb\n",
    "X_train_tokenized = [[word for word in document.lower().split()] for document in documents]"
   ]
  },
  {
   "cell_type": "markdown",
   "metadata": {},
   "source": [
    "#### Word2Vec"
   ]
  },
  {
   "cell_type": "code",
   "execution_count": 16,
   "metadata": {
    "scrolled": true
   },
   "outputs": [
    {
     "name": "stderr",
     "output_type": "stream",
     "text": [
      "/Library/Frameworks/Python.framework/Versions/3.7/lib/python3.7/site-packages/gensim/similarities/__init__.py:15: UserWarning: The gensim.similarities.levenshtein submodule is disabled, because the optional Levenshtein package <https://pypi.org/project/python-Levenshtein/> is unavailable. Install Levenhstein (e.g. `pip install python-Levenshtein`) to suppress this warning.\n",
      "  warnings.warn(msg)\n"
     ]
    }
   ],
   "source": [
    "from gensim.models import Word2Vec, FastText\n",
    "word_model = Word2Vec(X_train_tokenized, vector_size=100)\n",
    "\n",
    "#build matrix \n",
    "embedding_matrix_w2v = np.random.random(((train_v_size) + 1, 100))\n",
    "for word,i in tokenizer.word_index.items():  \n",
    "    try:\n",
    "        embedding_matrix_ft[i] = word_model.wv[word]\n",
    "    except:\n",
    "        pass\n",
    "\n",
    "# create layer\n",
    "embedding_layer_w2v = Embedding((train_v_size) + 1, output_dim=100, \n",
    "                            weights=[embedding_matrix_w2v], trainable=False)"
   ]
  },
  {
   "cell_type": "markdown",
   "metadata": {},
   "source": [
    "#### FastText"
   ]
  },
  {
   "cell_type": "code",
   "execution_count": 71,
   "metadata": {},
   "outputs": [],
   "source": [
    "ft = FastText(vector_size=300)\n",
    "ft.build_vocab(X_train_tokenized)\n",
    "ft.train(tokenizer.word_index, total_examples=ft.corpus_count, epochs=10)\n",
    "\n",
    "# build matrix\n",
    "embedding_matrix_ft = np.random.random(((train_v_size) + 1, ft.vector_size))\n",
    "for word,i in tokenizer.word_index.items(): \n",
    "    try:\n",
    "        embedding_matrix_ft[i] = ft.wv[word]\n",
    "    except:\n",
    "        pass\n",
    "\n",
    "# create layer\n",
    "embedding_layer_ft = Embedding((train_v_size) + 1, output_dim=300, \n",
    "                            weights=[embedding_matrix_ft], trainable=False)"
   ]
  },
  {
   "cell_type": "markdown",
   "metadata": {},
   "source": [
    "#### Keras Embeddings "
   ]
  },
  {
   "cell_type": "code",
   "execution_count": 18,
   "metadata": {},
   "outputs": [],
   "source": [
    "embedding_layer_keras = Embedding(train_v_size, output_dim=100, input_length=train_seqs_max_size)"
   ]
  },
  {
   "cell_type": "markdown",
   "metadata": {},
   "source": [
    "### Modeling"
   ]
  },
  {
   "cell_type": "code",
   "execution_count": 48,
   "metadata": {
    "id": "4iYENlcw_-g3"
   },
   "outputs": [],
   "source": [
    "from keras.models import Sequential\n",
    "from keras.layers import Embedding, LSTM, Dense, Dropout, Conv1D, GlobalMaxPooling1D\n",
    "from keras.initializers import Constant\n",
    "from keras.optimizers import Adam, SGD\n",
    "from tensorflow.keras.regularizers import L2"
   ]
  },
  {
   "cell_type": "code",
   "execution_count": 44,
   "metadata": {},
   "outputs": [],
   "source": [
    "def lstm_model(embeddings, classification=True):\n",
    "    model = Sequential()\n",
    "    model.add(embeddings)\n",
    "    model.add(LSTM(20, dropout=.9))\n",
    "    model.add(Dense(1, activation=\"sigmoid\"))\n",
    "\n",
    "    adam_opt = Adam(learning_rate=3e-4)\n",
    "    if classification:\n",
    "        model.compile(loss=\"binary_crossentropy\", optimizer=adam_opt, metrics=[\"accuracy\"])\n",
    "    else: \n",
    "        model.compile(loss=\"mean_squared_error\", optimizer=adam_opt, metrics=[\"mse\"])\n",
    "        \n",
    "    return model \n",
    "\n",
    "def train_model(model, train_padded, test_padded, y_train, y_test):\n",
    "    early_stopping = tf.keras.callbacks.EarlyStopping(monitor='val_loss', patience=3, restore_best_weights=True)\n",
    "    history = model.fit( train_padded, y_train, epochs=20,\n",
    "                            validation_data=(test_padded, y_test), callbacks=[early_stopping])\n",
    "    \n",
    "    return history\n",
    "    \n",
    "    \n",
    "def evaluate_model(model, test_padded, y_test):\n",
    "    results = model.evaluate(test_padded, y_test, batch_size=128)\n",
    "    return results \n",
    "\n",
    "def plot_history(history):\n",
    "    metrics_df = pd.DataFrame(history.history)\n",
    "    metrics_df[[\"loss\",\"val_loss\"]].plot()\n",
    "    "
   ]
  },
  {
   "cell_type": "markdown",
   "metadata": {},
   "source": [
    "### LSTM"
   ]
  },
  {
   "cell_type": "markdown",
   "metadata": {},
   "source": [
    "#### LSTM -  Predict if a project/campaign will be successful or not"
   ]
  },
  {
   "cell_type": "code",
   "execution_count": 21,
   "metadata": {},
   "outputs": [
    {
     "name": "stdout",
     "output_type": "stream",
     "text": [
      "Epoch 1/20\n",
      "382/382 [==============================] - 19s 44ms/step - loss: 0.6575 - accuracy: 0.6427 - val_loss: 0.6460 - val_accuracy: 0.6492\n",
      "Epoch 2/20\n",
      "382/382 [==============================] - 16s 42ms/step - loss: 0.6287 - accuracy: 0.6586 - val_loss: 0.5728 - val_accuracy: 0.7075\n",
      "Epoch 3/20\n",
      "382/382 [==============================] - 14s 36ms/step - loss: 0.5586 - accuracy: 0.7198 - val_loss: 0.5622 - val_accuracy: 0.7113\n",
      "Epoch 4/20\n",
      "382/382 [==============================] - 14s 36ms/step - loss: 0.5335 - accuracy: 0.7412 - val_loss: 0.5699 - val_accuracy: 0.7108\n",
      "Epoch 5/20\n",
      "382/382 [==============================] - 14s 37ms/step - loss: 0.4967 - accuracy: 0.7643 - val_loss: 0.5694 - val_accuracy: 0.7106\n",
      "Epoch 6/20\n",
      "382/382 [==============================] - 14s 37ms/step - loss: 0.4746 - accuracy: 0.7797 - val_loss: 0.5698 - val_accuracy: 0.7050\n"
     ]
    }
   ],
   "source": [
    "model = lstm_model(embedding_layer_keras)    \n",
    "history = train_model(model, train_padded, test_padded, y_train['state'], y_test['state'])"
   ]
  },
  {
   "cell_type": "code",
   "execution_count": 22,
   "metadata": {},
   "outputs": [
    {
     "name": "stdout",
     "output_type": "stream",
     "text": [
      "41/41 [==============================] - 1s 7ms/step - loss: 7990.5601 - accuracy: 0.1076\n"
     ]
    },
    {
     "data": {
      "text/plain": [
       "[7990.56005859375, 0.10762760788202286]"
      ]
     },
     "execution_count": 22,
     "metadata": {},
     "output_type": "execute_result"
    }
   ],
   "source": [
    "evaluate_model(model, test_padded, y_test['pledged'])"
   ]
  },
  {
   "cell_type": "code",
   "execution_count": 23,
   "metadata": {},
   "outputs": [
    {
     "data": {
      "image/png": "[encoded data removed]",
      "text/plain": [
       "<Figure size 432x288 with 1 Axes>"
      ]
     },
     "metadata": {
      "needs_background": "light"
     },
     "output_type": "display_data"
    }
   ],
   "source": [
    "plot_history(history)"
   ]
  },
  {
   "cell_type": "markdown",
   "metadata": {},
   "source": [
    "#### LSTM - Predict the amount of money collected"
   ]
  },
  {
   "cell_type": "code",
   "execution_count": 24,
   "metadata": {},
   "outputs": [
    {
     "name": "stdout",
     "output_type": "stream",
     "text": [
      "Epoch 1/20\n",
      "382/382 [==============================] - 16s 36ms/step - loss: 27836298543.4569 - mse: 27836298543.4569 - val_loss: 12649415680.0000 - val_mse: 12649415680.0000\n",
      "Epoch 2/20\n",
      "382/382 [==============================] - 14s 36ms/step - loss: 18517563534.3708 - mse: 18517563534.3708 - val_loss: 12649415680.0000 - val_mse: 12649415680.0000\n",
      "Epoch 3/20\n",
      "382/382 [==============================] - 14s 36ms/step - loss: 19676146495.4987 - mse: 19676146495.4987 - val_loss: 12649415680.0000 - val_mse: 12649415680.0000\n",
      "Epoch 4/20\n",
      "382/382 [==============================] - 13s 35ms/step - loss: 19802954839.5614 - mse: 19802954839.5614 - val_loss: 12649415680.0000 - val_mse: 12649415680.0000\n"
     ]
    }
   ],
   "source": [
    "model = lstm_model(embedding_layer_keras, classification=False)    \n",
    "history = train_model(model, train_padded, test_padded, y_train['pledged'], y_test['pledged'])"
   ]
  },
  {
   "cell_type": "code",
   "execution_count": 25,
   "metadata": {},
   "outputs": [
    {
     "name": "stdout",
     "output_type": "stream",
     "text": [
      "41/41 [==============================] - 0s 6ms/step - loss: 12649413632.0000 - mse: 12649413632.0000\n"
     ]
    },
    {
     "data": {
      "text/plain": [
       "[12649413632.0, 12649413632.0]"
      ]
     },
     "execution_count": 25,
     "metadata": {},
     "output_type": "execute_result"
    }
   ],
   "source": [
    "evaluate_model(model, test_padded, y_test['pledged'])"
   ]
  },
  {
   "cell_type": "code",
   "execution_count": 26,
   "metadata": {
    "scrolled": false
   },
   "outputs": [
    {
     "data": {
      "image/png": "[encoded data removed]",
      "text/plain": [
       "<Figure size 432x288 with 1 Axes>"
      ]
     },
     "metadata": {
      "needs_background": "light"
     },
     "output_type": "display_data"
    }
   ],
   "source": [
    "plot_history(history)"
   ]
  },
  {
   "cell_type": "markdown",
   "metadata": {},
   "source": [
    "### CNN"
   ]
  },
  {
   "cell_type": "code",
   "execution_count": 61,
   "metadata": {},
   "outputs": [],
   "source": [
    "def cnn_model(embeddings, classification=True):\n",
    "    model = Sequential()\n",
    "    model.add(embeddings)\n",
    "    model.add(Conv1D(10, 3, activation='relu', kernel_regularizer=L2(0.1), bias_regularizer=L2(0.9)))\n",
    "    model.add(GlobalMaxPooling1D())\n",
    "    model.add(Dense(1, activation='sigmoid'))\n",
    "\n",
    "    adam_opt = Adam(learning_rate=3e-4)\n",
    "    if classification:\n",
    "        model.compile(loss=\"binary_crossentropy\", optimizer=adam_opt, metrics=[\"accuracy\"])\n",
    "    else: \n",
    "        model.compile(loss=\"mean_squared_error\", optimizer=adam_opt, metrics=[\"mse\"])\n",
    "        \n",
    "    return model "
   ]
  },
  {
   "cell_type": "markdown",
   "metadata": {},
   "source": [
    "#### CNN -  Predict if a project/campaign will be successful or not"
   ]
  },
  {
   "cell_type": "code",
   "execution_count": 74,
   "metadata": {
    "scrolled": true
   },
   "outputs": [
    {
     "name": "stdout",
     "output_type": "stream",
     "text": [
      "Epoch 1/20\n",
      "382/382 [==============================] - 14s 34ms/step - loss: 1.7760 - accuracy: 0.6238 - val_loss: 0.7929 - val_accuracy: 0.6794\n",
      "Epoch 2/20\n",
      "382/382 [==============================] - 13s 33ms/step - loss: 0.6192 - accuracy: 0.7861 - val_loss: 0.6677 - val_accuracy: 0.6880\n",
      "Epoch 3/20\n",
      "382/382 [==============================] - 15s 39ms/step - loss: 0.4878 - accuracy: 0.8578 - val_loss: 0.6728 - val_accuracy: 0.6936\n",
      "Epoch 4/20\n",
      "382/382 [==============================] - 16s 42ms/step - loss: 0.4414 - accuracy: 0.8854 - val_loss: 0.6752 - val_accuracy: 0.6934\n",
      "Epoch 5/20\n",
      "382/382 [==============================] - 13s 33ms/step - loss: 0.4080 - accuracy: 0.9034 - val_loss: 0.6873 - val_accuracy: 0.6905\n"
     ]
    }
   ],
   "source": [
    "model = cnn_model(embedding_layer_keras)    \n",
    "history = train_model(model, train_padded, test_padded, y_train['state'], y_test['state'])"
   ]
  },
  {
   "cell_type": "code",
   "execution_count": 75,
   "metadata": {},
   "outputs": [
    {
     "name": "stdout",
     "output_type": "stream",
     "text": [
      "41/41 [==============================] - 0s 5ms/step - loss: 0.6677 - accuracy: 0.6880\n"
     ]
    },
    {
     "data": {
      "text/plain": [
       "[0.6677179336547852, 0.6880137920379639]"
      ]
     },
     "execution_count": 75,
     "metadata": {},
     "output_type": "execute_result"
    }
   ],
   "source": [
    "evaluate_model(model, test_padded, y_test['state'])"
   ]
  },
  {
   "cell_type": "code",
   "execution_count": 76,
   "metadata": {},
   "outputs": [
    {
     "data": {
      "image/png": "[encoded data removed]",
      "text/plain": [
       "<Figure size 432x288 with 1 Axes>"
      ]
     },
     "metadata": {
      "needs_background": "light"
     },
     "output_type": "display_data"
    }
   ],
   "source": [
    "plot_history(history)"
   ]
  },
  {
   "cell_type": "markdown",
   "metadata": {},
   "source": [
    "#### CNN - Predict the amount of money collected"
   ]
  },
  {
   "cell_type": "code",
   "execution_count": 67,
   "metadata": {},
   "outputs": [
    {
     "name": "stdout",
     "output_type": "stream",
     "text": [
      "Epoch 1/20\n",
      "382/382 [==============================] - 21s 46ms/step - loss: 22018467953.6292 - mse: 22018467953.6292 - val_loss: 12649415680.0000 - val_mse: 12649415680.0000\n",
      "Epoch 2/20\n",
      "382/382 [==============================] - 17s 43ms/step - loss: 16968136970.0261 - mse: 16968136970.0261 - val_loss: 12649415680.0000 - val_mse: 12649415680.0000\n",
      "Epoch 3/20\n",
      "382/382 [==============================] - 14s 36ms/step - loss: 23763108427.6971 - mse: 23763108427.6971 - val_loss: 12649415680.0000 - val_mse: 12649415680.0000\n",
      "Epoch 4/20\n",
      "382/382 [==============================] - 14s 36ms/step - loss: 29179287683.0078 - mse: 29179287683.0078 - val_loss: 12649415680.0000 - val_mse: 12649415680.0000\n"
     ]
    }
   ],
   "source": [
    "model = lstm_model(embedding_layer_keras, classification=False)    \n",
    "history = train_model(model, train_padded, test_padded, y_train['pledged'], y_test['pledged'])"
   ]
  },
  {
   "cell_type": "code",
   "execution_count": 68,
   "metadata": {},
   "outputs": [
    {
     "name": "stdout",
     "output_type": "stream",
     "text": [
      "41/41 [==============================] - 0s 6ms/step - loss: 12649413632.0000 - mse: 12649413632.0000\n"
     ]
    },
    {
     "data": {
      "text/plain": [
       "[12649413632.0, 12649413632.0]"
      ]
     },
     "execution_count": 68,
     "metadata": {},
     "output_type": "execute_result"
    }
   ],
   "source": [
    "evaluate_model(model, test_padded, y_test['pledged'])"
   ]
  },
  {
   "cell_type": "code",
   "execution_count": 69,
   "metadata": {},
   "outputs": [
    {
     "data": {
      "image/png": "[encoded data removed]",
      "text/plain": [
       "<Figure size 432x288 with 1 Axes>"
      ]
     },
     "metadata": {
      "needs_background": "light"
     },
     "output_type": "display_data"
    }
   ],
   "source": [
    "plot_history(history)"
   ]
  },
  {
   "cell_type": "markdown",
   "metadata": {},
   "source": [
    "### References\n",
    "\n",
    "https://radimrehurek.com/gensim/models/word2vec.html\n",
    "\n",
    "https://keras.io/api/"
   ]
  }
 ],
 "metadata": {
  "colab": {
   "collapsed_sections": [],
   "name": "notebook_lstm.ipynb",
   "provenance": []
  },
  "kernelspec": {
   "display_name": "Python 3",
   "language": "python",
   "name": "python3"
  },
  "language_info": {
   "codemirror_mode": {
    "name": "ipython",
    "version": 3
   },
   "file_extension": ".py",
   "mimetype": "text/x-python",
   "name": "python",
   "nbconvert_exporter": "python",
   "pygments_lexer": "ipython3",
   "version": "3.8.5"
  }
 },
 "nbformat": 4,
 "nbformat_minor": 1
}
