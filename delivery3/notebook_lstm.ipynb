{
  "nbformat": 4,
  "nbformat_minor": 0,
  "metadata": {
    "kernelspec": {
      "display_name": "Python 3",
      "language": "python",
      "name": "python3"
    },
    "language_info": {
      "codemirror_mode": {
        "name": "ipython",
        "version": 3
      },
      "file_extension": ".py",
      "mimetype": "text/x-python",
      "name": "python",
      "nbconvert_exporter": "python",
      "pygments_lexer": "ipython3",
      "version": "3.7.4"
    },
    "colab": {
      "name": "notebook_lstm.ipynb",
      "provenance": [],
      "collapsed_sections": []
    }
  },
  "cells": [
    {
      "cell_type": "code",
      "metadata": {
        "colab": {
          "base_uri": "https://localhost:8080/"
        },
        "id": "61h651BNAMfA",
        "outputId": "97ccdcff-7e3f-4f3f-d7a4-e30e8a75755b"
      },
      "source": [
        "from google.colab import drive\n",
        "drive.mount('/content/gdrive')"
      ],
      "execution_count": null,
      "outputs": [
        {
          "output_type": "stream",
          "text": [
            "Drive already mounted at /content/gdrive; to attempt to forcibly remount, call drive.mount(\"/content/gdrive\", force_remount=True).\n"
          ],
          "name": "stdout"
        }
      ]
    },
    {
      "cell_type": "code",
      "metadata": {
        "id": "vCaA1G1C_-gZ"
      },
      "source": [
        "from IPython.core.debugger import set_trace\n",
        "import pandas as pd\n",
        "import numpy as np\n",
        "import os\n",
        "import matplotlib.pyplot as plt\n",
        "import time\n",
        "import re\n",
        "import string\n",
        "import nltk\n",
        "import tensorflow as tf\n",
        "from nltk.corpus import stopwords\n",
        "from sklearn.model_selection import train_test_split\n",
        "from collections import Counter\n",
        "from keras.preprocessing.text import Tokenizer\n",
        "from keras.preprocessing.sequence import pad_sequences\n",
        "from keras.layers import Embedding, LSTM, Dense, Dropout\n",
        "from keras.initializers import Constant\n",
        "from keras.optimizers import Adam\n",
        "plt.style.use(style=\"seaborn\")\n",
        "%matplotlib inline"
      ],
      "execution_count": null,
      "outputs": []
    },
    {
      "cell_type": "code",
      "metadata": {
        "colab": {
          "base_uri": "https://localhost:8080/"
        },
        "id": "u-OVpBIY_-gc",
        "outputId": "2570258f-ef2f-42cc-8a06-5c706634d361"
      },
      "source": [
        "csv_file = ('/content/gdrive/My Drive/kickstarter_data_with_features.csv')\n",
        "dataframe = pd.read_csv(csv_file)"
      ],
      "execution_count": null,
      "outputs": [
        {
          "output_type": "stream",
          "text": [
            "/usr/local/lib/python3.7/dist-packages/IPython/core/interactiveshell.py:2718: DtypeWarning: Columns (29,30,31,32) have mixed types.Specify dtype option on import or set low_memory=False.\n",
            "  interactivity=interactivity, compiler=compiler, result=result)\n"
          ],
          "name": "stderr"
        }
      ]
    },
    {
      "cell_type": "code",
      "metadata": {
        "id": "2oNlkK-r_-gn"
      },
      "source": [
        "##Multiple functions for cleaning data\n",
        "\n",
        "def remove_URL(text):\n",
        "    url = re.compile(r\"https?://\\S+|www\\.\\S+\")\n",
        "    return url.sub(r\"\", text)\n",
        "\n",
        "\n",
        "def remove_html(text):\n",
        "    html = re.compile(r\"<.*?>\")\n",
        "    return html.sub(r\"\", text)\n",
        "\n",
        "def remove_number(text):\n",
        "    newstring = re.sub(r'[0-9]+', '', text)\n",
        "    return newstring\n",
        "\n",
        "\n",
        "def remove_emoji(string):\n",
        "    emoji_pattern = re.compile(\n",
        "        \"[\"\n",
        "        u\"\\U0001F600-\\U0001F64F\"  # emoticons\n",
        "        u\"\\U0001F300-\\U0001F5FF\"  # symbols & pictographs\n",
        "        u\"\\U0001F680-\\U0001F6FF\"  # transport & map symbols\n",
        "        u\"\\U0001F1E0-\\U0001F1FF\"  # flags (iOS)\n",
        "        u\"\\U00002702-\\U000027B0\"\n",
        "        u\"\\U000024C2-\\U0001F251\"\n",
        "        \"]+\",\n",
        "        flags=re.UNICODE,\n",
        "    )\n",
        "    return emoji_pattern.sub(r\"\", string)\n",
        "\n",
        "\n",
        "def remove_punct(text):\n",
        "    table = str.maketrans(\"\", \"\", string.punctuation)\n",
        "    return text.translate(table)\n"
      ],
      "execution_count": null,
      "outputs": []
    },
    {
      "cell_type": "code",
      "metadata": {
        "id": "xLf57Jab_-gp"
      },
      "source": [
        "dataframe['blurb']=dataframe['blurb'].astype(\"string\")"
      ],
      "execution_count": null,
      "outputs": []
    },
    {
      "cell_type": "code",
      "metadata": {
        "id": "9eVQJbQn_-gp"
      },
      "source": [
        "dataframe = dataframe[['blurb','state']]"
      ],
      "execution_count": null,
      "outputs": []
    },
    {
      "cell_type": "code",
      "metadata": {
        "id": "fuy6CDw8_-gq"
      },
      "source": [
        "dataframe = dataframe[dataframe['state'].isin(['successful', 'failed'])]"
      ],
      "execution_count": null,
      "outputs": []
    },
    {
      "cell_type": "code",
      "metadata": {
        "id": "BEKP4j4B_-gq"
      },
      "source": [
        "dataframe['state'] = dataframe['state'].replace({'failed': 0, 'successful': 1})"
      ],
      "execution_count": null,
      "outputs": []
    },
    {
      "cell_type": "code",
      "metadata": {
        "id": "VF-T5GTE_-gr"
      },
      "source": [
        "stop = set(stopwords.words(\"english\"))\n",
        "def remove_stopwords(text):\n",
        "    text = [word.lower() for word in text.split() if word.lower() not in stop]\n",
        "\n",
        "    return \" \".join(text)"
      ],
      "execution_count": null,
      "outputs": []
    },
    {
      "cell_type": "code",
      "metadata": {
        "id": "uCHsxmQU_-gr"
      },
      "source": [
        "dataframe['blurb'] = dataframe['blurb'].map(remove_stopwords)"
      ],
      "execution_count": null,
      "outputs": []
    },
    {
      "cell_type": "code",
      "metadata": {
        "id": "Qp932dJZ_-gs"
      },
      "source": [
        "dataframe = dataframe.dropna()"
      ],
      "execution_count": null,
      "outputs": []
    },
    {
      "cell_type": "code",
      "metadata": {
        "id": "C7k1a9Fr_-gs"
      },
      "source": [
        "from sklearn.model_selection import train_test_split\n",
        "X = dataframe.drop('state', axis=1)\n",
        "Y = dataframe.state\n",
        "X_train, X_test, y_train, y_test = train_test_split(X,Y, test_size=0.3, random_state=123)"
      ],
      "execution_count": null,
      "outputs": []
    },
    {
      "cell_type": "code",
      "metadata": {
        "id": "fRD4aw7L_-gs"
      },
      "source": [
        "text_train = X_train.blurb"
      ],
      "execution_count": null,
      "outputs": []
    },
    {
      "cell_type": "code",
      "metadata": {
        "id": "hGAUZARG_-gt"
      },
      "source": [
        "from collections import Counter\n",
        "# Count unique words\n",
        "def counter_word(text):\n",
        "    count = Counter()\n",
        "    for i in text.values:\n",
        "        i = remove_punct(i)\n",
        "        i = remove_emoji(i)\n",
        "        i = remove_URL(i)\n",
        "        i = remove_html(i)\n",
        "        i = remove_number(i)\n",
        "        for word in i.split():\n",
        "            count[word] += 1\n",
        "    return count"
      ],
      "execution_count": null,
      "outputs": []
    },
    {
      "cell_type": "code",
      "metadata": {
        "id": "9450OCX1_-gt"
      },
      "source": [
        "counter = counter_word(text_train)"
      ],
      "execution_count": null,
      "outputs": []
    },
    {
      "cell_type": "code",
      "metadata": {
        "id": "nMhokG0R_-gt"
      },
      "source": [
        "num_words = len(counter)"
      ],
      "execution_count": null,
      "outputs": []
    },
    {
      "cell_type": "code",
      "metadata": {
        "id": "OzOOfP_N_-gu"
      },
      "source": [
        "from keras.preprocessing.text import Tokenizer"
      ],
      "execution_count": null,
      "outputs": []
    },
    {
      "cell_type": "code",
      "metadata": {
        "id": "Jj0PK-hv_-gu"
      },
      "source": [
        "tokenizer = Tokenizer(num_words=num_words)\n",
        "tokenizer.fit_on_texts(text_train)"
      ],
      "execution_count": null,
      "outputs": []
    },
    {
      "cell_type": "code",
      "metadata": {
        "id": "IbBNjeyv_-gu"
      },
      "source": [
        "word_index = tokenizer.word_index"
      ],
      "execution_count": null,
      "outputs": []
    },
    {
      "cell_type": "code",
      "metadata": {
        "id": "X777bocr_-gv"
      },
      "source": [
        "train_sequences = tokenizer.texts_to_sequences(text_train)"
      ],
      "execution_count": null,
      "outputs": []
    },
    {
      "cell_type": "code",
      "metadata": {
        "colab": {
          "base_uri": "https://localhost:8080/"
        },
        "id": "9OgkzSbg_-gv",
        "outputId": "a01ffc6c-ab9a-41c3-a4ac-f8cffe2dbf4b"
      },
      "source": [
        "def find_max_list(list):\n",
        "    list_len = [len(i) for i in list]\n",
        "    print(max(list_len))\n",
        "max_length = find_max_list(train_sequences)"
      ],
      "execution_count": null,
      "outputs": [
        {
          "output_type": "stream",
          "text": [
            "26\n"
          ],
          "name": "stdout"
        }
      ]
    },
    {
      "cell_type": "code",
      "metadata": {
        "id": "F0kfjuwX_-gv"
      },
      "source": [
        "from keras.preprocessing.sequence import pad_sequences\n",
        "\n",
        "train_padded = pad_sequences(\n",
        "    train_sequences, maxlen=max_length, padding=\"post\", truncating=\"post\"\n",
        ")"
      ],
      "execution_count": null,
      "outputs": []
    },
    {
      "cell_type": "code",
      "metadata": {
        "colab": {
          "base_uri": "https://localhost:8080/"
        },
        "id": "V5iQMduh_-gw",
        "outputId": "be25bc4b-faf3-4cea-9fee-6346c9faa73a"
      },
      "source": [
        "train_padded[0]"
      ],
      "execution_count": null,
      "outputs": [
        {
          "output_type": "execute_result",
          "data": {
            "text/plain": [
              "array([ 172,   77,  517, 7038,  202,    2, 1592, 3632,  103, 1666, 2956,\n",
              "        701,    0,    0,    0,    0,    0,    0,    0,    0,    0,    0,\n",
              "          0,    0,    0,    0], dtype=int32)"
            ]
          },
          "metadata": {
            "tags": []
          },
          "execution_count": 136
        }
      ]
    },
    {
      "cell_type": "code",
      "metadata": {
        "id": "XYxNMhU2_-gw"
      },
      "source": [
        "text_test = X_test.blurb"
      ],
      "execution_count": null,
      "outputs": []
    },
    {
      "cell_type": "code",
      "metadata": {
        "id": "olXrA7Fs_-gw"
      },
      "source": [
        "test_sequences = tokenizer.texts_to_sequences(text_test)"
      ],
      "execution_count": null,
      "outputs": []
    },
    {
      "cell_type": "code",
      "metadata": {
        "colab": {
          "base_uri": "https://localhost:8080/"
        },
        "id": "DbCmgxhH_-gw",
        "outputId": "64149a43-d855-40a7-b9a7-e9933ecf8cd4"
      },
      "source": [
        "max_length_test = find_max_list(test_sequences)"
      ],
      "execution_count": null,
      "outputs": [
        {
          "output_type": "stream",
          "text": [
            "23\n"
          ],
          "name": "stdout"
        }
      ]
    },
    {
      "cell_type": "code",
      "metadata": {
        "id": "ieU-0ez6_-gw"
      },
      "source": [
        "test_padded = pad_sequences(\n",
        "    test_sequences, maxlen=max_length_test, padding=\"post\", truncating=\"post\"\n",
        ")"
      ],
      "execution_count": null,
      "outputs": []
    },
    {
      "cell_type": "code",
      "metadata": {
        "colab": {
          "base_uri": "https://localhost:8080/"
        },
        "id": "HCVWZwGj_-gx",
        "outputId": "c06541af-5705-4ae1-882b-37316964e564"
      },
      "source": [
        "print(X_train.blurb[0])\n",
        "print(train_sequences[0])"
      ],
      "execution_count": null,
      "outputs": [
        {
          "output_type": "stream",
          "text": [
            "mts asl curriculum workbook reproducible study book build early literacy academic skills primary school age children.\n",
            "[172, 77, 517, 7038, 202, 2, 1592, 3632, 103, 1666, 2956, 701]\n"
          ],
          "name": "stdout"
        }
      ]
    },
    {
      "cell_type": "code",
      "metadata": {
        "colab": {
          "base_uri": "https://localhost:8080/"
        },
        "id": "rCJZj60W_-g3",
        "outputId": "709256b2-8fce-405a-ffe5-b22badd0e978"
      },
      "source": [
        "print(f\"Shape of train {train_padded.shape}\")\n",
        "print(f\"Shape of test {test_padded.shape}\")"
      ],
      "execution_count": null,
      "outputs": [
        {
          "output_type": "stream",
          "text": [
            "Shape of train (12203, 26)\n",
            "Shape of test (5231, 23)\n"
          ],
          "name": "stdout"
        }
      ]
    },
    {
      "cell_type": "code",
      "metadata": {
        "id": "4iYENlcw_-g3"
      },
      "source": [
        "from keras.models import Sequential\n",
        "from keras.layers import Embedding, LSTM, Dense, Dropout\n",
        "from keras.initializers import Constant\n",
        "from keras.optimizers import Adam\n",
        "\n",
        "model = Sequential()\n",
        "\n",
        "model.add(Embedding(num_words, 32, input_length=max_length))\n",
        "model.add(LSTM(64, dropout=0.1))\n",
        "model.add(Dense(1, activation=\"sigmoid\"))\n",
        "\n",
        "\n",
        "optimizer = Adam(learning_rate=3e-4)\n",
        "\n",
        "model.compile(loss=\"binary_crossentropy\", optimizer=optimizer, metrics=[\"accuracy\"])"
      ],
      "execution_count": null,
      "outputs": []
    },
    {
      "cell_type": "code",
      "metadata": {
        "colab": {
          "base_uri": "https://localhost:8080/"
        },
        "id": "BGq_yY2j_-g3",
        "outputId": "c7f5b55d-ecd5-4de2-b89c-f7e27c4ba9b2"
      },
      "source": [
        "model.summary()"
      ],
      "execution_count": null,
      "outputs": [
        {
          "output_type": "stream",
          "text": [
            "Model: \"sequential_2\"\n",
            "_________________________________________________________________\n",
            "Layer (type)                 Output Shape              Param #   \n",
            "=================================================================\n",
            "embedding_2 (Embedding)      (None, None, 32)          765664    \n",
            "_________________________________________________________________\n",
            "lstm_2 (LSTM)                (None, 64)                24832     \n",
            "_________________________________________________________________\n",
            "dense_2 (Dense)              (None, 1)                 65        \n",
            "=================================================================\n",
            "Total params: 790,561\n",
            "Trainable params: 790,561\n",
            "Non-trainable params: 0\n",
            "_________________________________________________________________\n"
          ],
          "name": "stdout"
        }
      ]
    },
    {
      "cell_type": "code",
      "metadata": {
        "colab": {
          "base_uri": "https://localhost:8080/",
          "height": 422
        },
        "id": "w_Uozmk1IPl3",
        "outputId": "6c82a44d-11a0-430c-ba90-ce4d2866b2b0"
      },
      "source": [
        "tf.keras.utils.plot_model(\n",
        "    model,\n",
        "    to_file=\"model.png\",\n",
        "    show_shapes=True,\n",
        "    show_layer_names=True,\n",
        "    rankdir=\"TB\",\n",
        "    expand_nested=True,\n",
        "    dpi=96,\n",
        ")"
      ],
      "execution_count": null,
      "outputs": [
        {
          "output_type": "execute_result",
          "data": {
            "image/png": "[encoded data removed]",
            "text/plain": [
              "<IPython.core.display.Image object>"
            ]
          },
          "metadata": {
            "tags": []
          },
          "execution_count": 145
        }
      ]
    },
    {
      "cell_type": "code",
      "metadata": {
        "colab": {
          "base_uri": "https://localhost:8080/"
        },
        "id": "drd4Oaqc_-g4",
        "outputId": "3c1bb30b-c52a-42ce-a9e7-1e1c9c0eedc2"
      },
      "source": [
        "\n",
        "history = model.fit(\n",
        "    train_padded, y_train, epochs=10, validation_data=(test_padded, y_test))"
      ],
      "execution_count": null,
      "outputs": [
        {
          "output_type": "stream",
          "text": [
            "Epoch 1/10\n",
            "382/382 [==============================] - 12s 27ms/step - loss: 0.6399 - accuracy: 0.6635 - val_loss: 0.5748 - val_accuracy: 0.7031\n",
            "Epoch 2/10\n",
            "382/382 [==============================] - 10s 25ms/step - loss: 0.4785 - accuracy: 0.7810 - val_loss: 0.5693 - val_accuracy: 0.6985\n",
            "Epoch 3/10\n",
            "382/382 [==============================] - 10s 25ms/step - loss: 0.3597 - accuracy: 0.8552 - val_loss: 0.6339 - val_accuracy: 0.6760\n",
            "Epoch 4/10\n",
            "382/382 [==============================] - 10s 25ms/step - loss: 0.2290 - accuracy: 0.9165 - val_loss: 0.7495 - val_accuracy: 0.6666\n",
            "Epoch 5/10\n",
            "382/382 [==============================] - 10s 25ms/step - loss: 0.1632 - accuracy: 0.9470 - val_loss: 0.8623 - val_accuracy: 0.6502\n",
            "Epoch 6/10\n",
            "382/382 [==============================] - 10s 25ms/step - loss: 0.1122 - accuracy: 0.9647 - val_loss: 1.0246 - val_accuracy: 0.6494\n",
            "Epoch 7/10\n",
            "382/382 [==============================] - 10s 25ms/step - loss: 0.0923 - accuracy: 0.9721 - val_loss: 0.9764 - val_accuracy: 0.6439\n",
            "Epoch 8/10\n",
            "382/382 [==============================] - 10s 25ms/step - loss: 0.0735 - accuracy: 0.9792 - val_loss: 1.0859 - val_accuracy: 0.6534\n",
            "Epoch 9/10\n",
            "382/382 [==============================] - 10s 25ms/step - loss: 0.0575 - accuracy: 0.9831 - val_loss: 1.3478 - val_accuracy: 0.6312\n",
            "Epoch 10/10\n",
            "382/382 [==============================] - 10s 25ms/step - loss: 0.0508 - accuracy: 0.9861 - val_loss: 1.3814 - val_accuracy: 0.6412\n"
          ],
          "name": "stdout"
        }
      ]
    },
    {
      "cell_type": "code",
      "metadata": {
        "colab": {
          "base_uri": "https://localhost:8080/"
        },
        "id": "Nn3GIHks_-g4",
        "outputId": "48b36186-a560-4add-961a-191959ab260a"
      },
      "source": [
        "results = model.evaluate(test_padded, y_test, batch_size=128)"
      ],
      "execution_count": null,
      "outputs": [
        {
          "output_type": "stream",
          "text": [
            "41/41 [==============================] - 0s 10ms/step - loss: 1.3814 - accuracy: 0.6412\n"
          ],
          "name": "stdout"
        }
      ]
    },
    {
      "cell_type": "code",
      "metadata": {
        "colab": {
          "base_uri": "https://localhost:8080/",
          "height": 359
        },
        "id": "MrxTEjrcI_md",
        "outputId": "fbe494df-84d0-4a64-ca4d-75195e02fe17"
      },
      "source": [
        "metrics_df = pd.DataFrame(history.history)\n",
        "metrics_df"
      ],
      "execution_count": null,
      "outputs": [
        {
          "output_type": "execute_result",
          "data": {
            "text/html": [
              "<div>\n",
              "<style scoped>\n",
              "    .dataframe tbody tr th:only-of-type {\n",
              "        vertical-align: middle;\n",
              "    }\n",
              "\n",
              "    .dataframe tbody tr th {\n",
              "        vertical-align: top;\n",
              "    }\n",
              "\n",
              "    .dataframe thead th {\n",
              "        text-align: right;\n",
              "    }\n",
              "</style>\n",
              "<table border=\"1\" class=\"dataframe\">\n",
              "  <thead>\n",
              "    <tr style=\"text-align: right;\">\n",
              "      <th></th>\n",
              "      <th>loss</th>\n",
              "      <th>accuracy</th>\n",
              "      <th>val_loss</th>\n",
              "      <th>val_accuracy</th>\n",
              "    </tr>\n",
              "  </thead>\n",
              "  <tbody>\n",
              "    <tr>\n",
              "      <th>0</th>\n",
              "      <td>0.612188</td>\n",
              "      <td>0.678194</td>\n",
              "      <td>0.574783</td>\n",
              "      <td>0.703116</td>\n",
              "    </tr>\n",
              "    <tr>\n",
              "      <th>1</th>\n",
              "      <td>0.475673</td>\n",
              "      <td>0.778989</td>\n",
              "      <td>0.569328</td>\n",
              "      <td>0.698528</td>\n",
              "    </tr>\n",
              "    <tr>\n",
              "      <th>2</th>\n",
              "      <td>0.351853</td>\n",
              "      <td>0.856265</td>\n",
              "      <td>0.633863</td>\n",
              "      <td>0.675970</td>\n",
              "    </tr>\n",
              "    <tr>\n",
              "      <th>3</th>\n",
              "      <td>0.245051</td>\n",
              "      <td>0.909858</td>\n",
              "      <td>0.749474</td>\n",
              "      <td>0.666603</td>\n",
              "    </tr>\n",
              "    <tr>\n",
              "      <th>4</th>\n",
              "      <td>0.173786</td>\n",
              "      <td>0.940015</td>\n",
              "      <td>0.862282</td>\n",
              "      <td>0.650163</td>\n",
              "    </tr>\n",
              "    <tr>\n",
              "      <th>5</th>\n",
              "      <td>0.129492</td>\n",
              "      <td>0.957388</td>\n",
              "      <td>1.024586</td>\n",
              "      <td>0.649398</td>\n",
              "    </tr>\n",
              "    <tr>\n",
              "      <th>6</th>\n",
              "      <td>0.098761</td>\n",
              "      <td>0.968860</td>\n",
              "      <td>0.976438</td>\n",
              "      <td>0.643854</td>\n",
              "    </tr>\n",
              "    <tr>\n",
              "      <th>7</th>\n",
              "      <td>0.080163</td>\n",
              "      <td>0.976563</td>\n",
              "      <td>1.085888</td>\n",
              "      <td>0.653412</td>\n",
              "    </tr>\n",
              "    <tr>\n",
              "      <th>8</th>\n",
              "      <td>0.064801</td>\n",
              "      <td>0.981234</td>\n",
              "      <td>1.347814</td>\n",
              "      <td>0.631237</td>\n",
              "    </tr>\n",
              "    <tr>\n",
              "      <th>9</th>\n",
              "      <td>0.058584</td>\n",
              "      <td>0.982627</td>\n",
              "      <td>1.381423</td>\n",
              "      <td>0.641178</td>\n",
              "    </tr>\n",
              "  </tbody>\n",
              "</table>\n",
              "</div>"
            ],
            "text/plain": [
              "       loss  accuracy  val_loss  val_accuracy\n",
              "0  0.612188  0.678194  0.574783      0.703116\n",
              "1  0.475673  0.778989  0.569328      0.698528\n",
              "2  0.351853  0.856265  0.633863      0.675970\n",
              "3  0.245051  0.909858  0.749474      0.666603\n",
              "4  0.173786  0.940015  0.862282      0.650163\n",
              "5  0.129492  0.957388  1.024586      0.649398\n",
              "6  0.098761  0.968860  0.976438      0.643854\n",
              "7  0.080163  0.976563  1.085888      0.653412\n",
              "8  0.064801  0.981234  1.347814      0.631237\n",
              "9  0.058584  0.982627  1.381423      0.641178"
            ]
          },
          "metadata": {
            "tags": []
          },
          "execution_count": 148
        }
      ]
    },
    {
      "cell_type": "code",
      "metadata": {
        "colab": {
          "base_uri": "https://localhost:8080/",
          "height": 265
        },
        "id": "Li64b9hjJveG",
        "outputId": "6bb6f75e-7e4e-4ad7-f5e3-d5f26413ba51"
      },
      "source": [
        "metrics_df[[\"loss\",\"val_loss\"]].plot();\n",
        "#### OVERFITTING!"
      ],
      "execution_count": null,
      "outputs": [
        {
          "output_type": "display_data",
          "data": {
            "image/png": "[encoded data removed]",
            "text/plain": [
              "<Figure size 432x288 with 1 Axes>"
            ]
          },
          "metadata": {
            "tags": [],
            "needs_background": "light"
          }
        }
      ]
    }
  ]
}