{
 "cells": [
  {
   "cell_type": "code",
   "execution_count": 1,
   "metadata": {
    "id": "vCaA1G1C_-gZ"
   },
   "outputs": [],
   "source": [
    "from IPython.core.debugger import set_trace\n",
    "import pandas as pd\n",
    "import numpy as np\n",
    "import os\n",
    "import matplotlib.pyplot as plt\n",
    "import time\n",
    "import re\n",
    "import string\n",
    "import nltk\n",
    "import tensorflow as tf\n",
    "from nltk.corpus import stopwords\n",
    "from sklearn.model_selection import train_test_split\n",
    "from collections import Counter\n",
    "from keras.preprocessing.text import Tokenizer\n",
    "from keras.preprocessing.sequence import pad_sequences\n",
    "from keras.layers import Embedding, LSTM, Dense, Dropout\n",
    "from keras.initializers import Constant\n",
    "from keras.optimizers import Adam\n",
    "plt.style.use(style=\"seaborn\")\n",
    "%matplotlib inline"
   ]
  },
  {
   "cell_type": "markdown",
   "metadata": {},
   "source": [
    "### Loading the Data"
   ]
  },
  {
   "cell_type": "code",
   "execution_count": 2,
   "metadata": {
    "colab": {
     "base_uri": "https://localhost:8080/"
    },
    "id": "u-OVpBIY_-gc",
    "outputId": "2570258f-ef2f-42cc-8a06-5c706634d361",
    "scrolled": true
   },
   "outputs": [
    {
     "name": "stderr",
     "output_type": "stream",
     "text": [
      "/Library/Frameworks/Python.framework/Versions/3.7/lib/python3.7/site-packages/IPython/core/interactiveshell.py:2718: DtypeWarning: Columns (29,30,31,32) have mixed types.Specify dtype option on import or set low_memory=False.\n",
      "  interactivity=interactivity, compiler=compiler, result=result)\n"
     ]
    }
   ],
   "source": [
    "csv_file_path = ('data/kickstarter_data_with_features.csv')\n",
    "dataframe = pd.read_csv(csv_file_path)"
   ]
  },
  {
   "cell_type": "markdown",
   "metadata": {},
   "source": [
    "### Defining  some functions"
   ]
  },
  {
   "cell_type": "code",
   "execution_count": 3,
   "metadata": {
    "id": "2oNlkK-r_-gn"
   },
   "outputs": [],
   "source": [
    "# Multiple functions for cleaning data \n",
    "\n",
    "def remove_URL(text):\n",
    "    url = re.compile(r\"https?://\\S+|www\\.\\S+\")\n",
    "    return url.sub(r\"\", text)\n",
    "\n",
    "\n",
    "def remove_html(text):\n",
    "    html = re.compile(r\"<.*?>\")\n",
    "    return html.sub(r\"\", text)\n",
    "\n",
    "def remove_number(text):\n",
    "    newstring = re.sub(r'[0-9]+', '', text)\n",
    "    return newstring\n",
    "\n",
    "\n",
    "def remove_emoji(string):\n",
    "    emoji_pattern = re.compile(\n",
    "        \"[\"\n",
    "        u\"\\U0001F600-\\U0001F64F\"  # emoticons\n",
    "        u\"\\U0001F300-\\U0001F5FF\"  # symbols & pictographs\n",
    "        u\"\\U0001F680-\\U0001F6FF\"  # transport & map symbols\n",
    "        u\"\\U0001F1E0-\\U0001F1FF\"  # flags (iOS)\n",
    "        u\"\\U00002702-\\U000027B0\"\n",
    "        u\"\\U000024C2-\\U0001F251\"\n",
    "        \"]+\",\n",
    "        flags=re.UNICODE,\n",
    "    )\n",
    "    return emoji_pattern.sub(r\"\", string)\n",
    "\n",
    "\n",
    "def remove_punct(text):\n",
    "    table = str.maketrans(\"\", \"\", string.punctuation)\n",
    "    return text.translate(table)\n",
    "\n",
    "def remove_stopwords(text):\n",
    "    # nltk.download('stopwords') \n",
    "    stop = set(stopwords.words(\"english\"))\n",
    "    text = [word.lower() for word in text.split() if word.lower() not in stop]\n",
    "\n",
    "    return \" \".join(text)\n",
    "\n",
    "\n",
    "def get_vocab_size(text):\n",
    "    \"\"\"Count unique words\"\"\"\n",
    "    count = Counter()\n",
    "    for i in text.values:\n",
    "        i = remove_punct(i)\n",
    "        i = remove_emoji(i)\n",
    "        i = remove_URL(i)\n",
    "        i = remove_html(i)\n",
    "        i = remove_number(i)\n",
    "        for word in i.split():\n",
    "            count[word] += 1\n",
    "    return len(count)"
   ]
  },
  {
   "cell_type": "markdown",
   "metadata": {},
   "source": [
    "### Preprocessing the data"
   ]
  },
  {
   "cell_type": "code",
   "execution_count": 4,
   "metadata": {
    "id": "xLf57Jab_-gp"
   },
   "outputs": [],
   "source": [
    "dataframe['blurb']=dataframe['blurb'].astype(\"string\") \n",
    "dataframe = dataframe[['blurb','state']] # only using these 2 cols\n",
    "dataframe = dataframe[dataframe['state'].isin(['successful', 'failed'])]\n",
    "dataframe['state'] = dataframe['state'].replace({'failed': 0, 'successful': 1})\n",
    "dataframe['blurb'] = dataframe['blurb'].map(remove_stopwords) # remove stop words\n",
    "dataframe = dataframe.dropna() "
   ]
  },
  {
   "cell_type": "markdown",
   "metadata": {},
   "source": [
    "### Splitting the Data"
   ]
  },
  {
   "cell_type": "code",
   "execution_count": 5,
   "metadata": {
    "id": "C7k1a9Fr_-gs"
   },
   "outputs": [],
   "source": [
    "from sklearn.model_selection import train_test_split\n",
    "X = dataframe.drop('state', axis=1)\n",
    "Y = dataframe.state\n",
    "X_train, X_test, y_train, y_test = train_test_split(X,Y, test_size=0.3, random_state=123)"
   ]
  },
  {
   "cell_type": "markdown",
   "metadata": {},
   "source": [
    "### Getting the Vocabular size: # of unique words"
   ]
  },
  {
   "cell_type": "code",
   "execution_count": 6,
   "metadata": {
    "id": "fRD4aw7L_-gs"
   },
   "outputs": [],
   "source": [
    "train_v_size = get_vocab_size(X_train.blurb)"
   ]
  },
  {
   "cell_type": "code",
   "execution_count": 7,
   "metadata": {},
   "outputs": [
    {
     "data": {
      "text/plain": [
       "23927"
      ]
     },
     "execution_count": 7,
     "metadata": {},
     "output_type": "execute_result"
    }
   ],
   "source": [
    "train_v_size"
   ]
  },
  {
   "cell_type": "markdown",
   "metadata": {},
   "source": [
    "### Sequencing the text\n",
    "\n",
    "Fitting a tokenizer to assign indices to words and converting the text to sequence of indices."
   ]
  },
  {
   "cell_type": "code",
   "execution_count": 8,
   "metadata": {},
   "outputs": [],
   "source": [
    "#fit tokenizer on training data\n",
    "tokenizer = Tokenizer()\n",
    "tokenizer.fit_on_texts(X_train.blurb)\n",
    "#get train sequences\n",
    "train_seqs = tokenizer.texts_to_sequences(X_train.blurb)\n",
    "train_seqs_max_size = max([len(seq) for seq in train_seqs])\n",
    "#get test sequences\n",
    "test_seqs = tokenizer.texts_to_sequences(X_test.blurb)\n",
    "test_seqs_max_size = max([len(seq) for seq in test_seqs])"
   ]
  },
  {
   "cell_type": "code",
   "execution_count": 121,
   "metadata": {
    "scrolled": true
   },
   "outputs": [
    {
     "data": {
      "text/plain": [
       "(26, 23)"
      ]
     },
     "execution_count": 121,
     "metadata": {},
     "output_type": "execute_result"
    }
   ],
   "source": [
    "train_seqs_max_size, test_seqs_max_size"
   ]
  },
  {
   "cell_type": "markdown",
   "metadata": {},
   "source": [
    "### Padding the sequences\n",
    "\n",
    "Padding the sequences to have seqencies of equal length. "
   ]
  },
  {
   "cell_type": "code",
   "execution_count": 122,
   "metadata": {
    "id": "F0kfjuwX_-gv"
   },
   "outputs": [],
   "source": [
    "train_padded = pad_sequences(train_seqs, maxlen=train_seqs_max_size, padding=\"post\", truncating=\"post\")\n",
    "test_padded = pad_sequences(test_seqs, maxlen=train_seqs_max_size, padding=\"post\", truncating=\"post\")"
   ]
  },
  {
   "cell_type": "code",
   "execution_count": 123,
   "metadata": {
    "colab": {
     "base_uri": "https://localhost:8080/"
    },
    "id": "rCJZj60W_-g3",
    "outputId": "709256b2-8fce-405a-ffe5-b22badd0e978",
    "scrolled": true
   },
   "outputs": [
    {
     "name": "stdout",
     "output_type": "stream",
     "text": [
      "Shape of train (12203, 26)\n",
      "Shape of test (5231, 26)\n"
     ]
    }
   ],
   "source": [
    "print(f\"Shape of train {train_padded.shape}\")\n",
    "print(f\"Shape of test {test_padded.shape}\")"
   ]
  },
  {
   "cell_type": "markdown",
   "metadata": {},
   "source": [
    "### Embeddings"
   ]
  },
  {
   "cell_type": "code",
   "execution_count": 92,
   "metadata": {},
   "outputs": [],
   "source": [
    "documents = X_train.blurb\n",
    "X_train_tokenized = [[word for word in document.lower().split()] for document in documents]"
   ]
  },
  {
   "cell_type": "markdown",
   "metadata": {},
   "source": [
    "#### Word2Vec"
   ]
  },
  {
   "cell_type": "code",
   "execution_count": 129,
   "metadata": {
    "scrolled": true
   },
   "outputs": [],
   "source": [
    "from gensim.models import Word2Vec, FastText\n",
    "word_model = Word2Vec(X_train_tokenized, vector_size=100)\n",
    "\n",
    "#build matrix \n",
    "embedding_matrix_w2v = np.random.random(((train_v_size) + 1, 100))\n",
    "for word,i in tokenizer.word_index.items():  \n",
    "    try:\n",
    "        embedding_matrix_ft[i] = word_model.wv[word]\n",
    "    except:\n",
    "        pass\n",
    "\n",
    "# create layer\n",
    "embedding_layer_w2v = Embedding((train_v_size) + 1, output_dim=100, \n",
    "                            weights=[embedding_matrix_w2v], trainable=False)"
   ]
  },
  {
   "cell_type": "markdown",
   "metadata": {},
   "source": [
    "#### FastText"
   ]
  },
  {
   "cell_type": "code",
   "execution_count": 144,
   "metadata": {},
   "outputs": [],
   "source": [
    "ft = FastText(vector_size=100)\n",
    "ft.build_vocab(tokenizer.word_index)\n",
    "ft.train(tokenizer.word_index, total_examples=ft.corpus_count, epochs=10)\n",
    "\n",
    "# build matrix\n",
    "embedding_matrix_ft = np.random.random((len(tokenizer.word_index) + 1, ft.vector_size))\n",
    "for word,i in tokenizer.word_index.items(): \n",
    "    try:\n",
    "        embedding_matrix_ft[i] = ft.wv[word]\n",
    "    except:\n",
    "        pass\n",
    "\n",
    "# create layer\n",
    "embedding_layer_ft = Embedding(len(tokenizer.word_index) + 1, output_dim=100, \n",
    "                            weights=[embedding_matrix_ft], trainable=False)"
   ]
  },
  {
   "cell_type": "markdown",
   "metadata": {},
   "source": [
    "### Modeling"
   ]
  },
  {
   "cell_type": "code",
   "execution_count": 145,
   "metadata": {
    "id": "4iYENlcw_-g3"
   },
   "outputs": [],
   "source": [
    "from keras.models import Sequential\n",
    "from keras.layers import Embedding, LSTM, Dense, Dropout\n",
    "from keras.initializers import Constant\n",
    "from keras.optimizers import Adam\n",
    "\n",
    "model = Sequential()\n",
    "\n",
    "# model.add(Embedding(train_v_size, output_dim=100, input_length=train_seqs_max_size))\n",
    "# model.add(embedding_layer_w2v)\n",
    "model.add(embedding_layer_ft)\n",
    "\n",
    "model.add(LSTM(20, dropout=.9))\n",
    "model.add(Dense(1, activation=\"sigmoid\"))\n",
    "\n",
    "\n",
    "optimizer = Adam(learning_rate=3e-4)\n",
    "model.compile(loss=\"binary_crossentropy\", optimizer=optimizer, metrics=[\"accuracy\"])"
   ]
  },
  {
   "cell_type": "code",
   "execution_count": 146,
   "metadata": {
    "colab": {
     "base_uri": "https://localhost:8080/"
    },
    "id": "BGq_yY2j_-g3",
    "outputId": "c7f5b55d-ecd5-4de2-b89c-f7e27c4ba9b2",
    "scrolled": true
   },
   "outputs": [
    {
     "name": "stdout",
     "output_type": "stream",
     "text": [
      "Model: \"sequential_11\"\n",
      "_________________________________________________________________\n",
      "Layer (type)                 Output Shape              Param #   \n",
      "=================================================================\n",
      "embedding_10 (Embedding)     (None, None, 100)         2310200   \n",
      "_________________________________________________________________\n",
      "lstm_9 (LSTM)                (None, 20)                9680      \n",
      "_________________________________________________________________\n",
      "dense_8 (Dense)              (None, 1)                 21        \n",
      "=================================================================\n",
      "Total params: 2,319,901\n",
      "Trainable params: 9,701\n",
      "Non-trainable params: 2,310,200\n",
      "_________________________________________________________________\n"
     ]
    }
   ],
   "source": [
    "model.summary()"
   ]
  },
  {
   "cell_type": "code",
   "execution_count": 147,
   "metadata": {
    "colab": {
     "base_uri": "https://localhost:8080/",
     "height": 422
    },
    "id": "w_Uozmk1IPl3",
    "outputId": "6c82a44d-11a0-430c-ba90-ce4d2866b2b0"
   },
   "outputs": [
    {
     "name": "stdout",
     "output_type": "stream",
     "text": [
      "('Failed to import pydot. You must `pip install pydot` and install graphviz (https://graphviz.gitlab.io/download/), ', 'for `pydotprint` to work.')\n"
     ]
    }
   ],
   "source": [
    "tf.keras.utils.plot_model(\n",
    "    model,\n",
    "    to_file=\"model.png\",\n",
    "    show_shapes=True,\n",
    "    show_layer_names=True,\n",
    "    rankdir=\"TB\",\n",
    "    expand_nested=True,\n",
    "    dpi=96,\n",
    ")"
   ]
  },
  {
   "cell_type": "code",
   "execution_count": 148,
   "metadata": {
    "colab": {
     "base_uri": "https://localhost:8080/"
    },
    "id": "drd4Oaqc_-g4",
    "outputId": "3c1bb30b-c52a-42ce-a9e7-1e1c9c0eedc2"
   },
   "outputs": [
    {
     "name": "stdout",
     "output_type": "stream",
     "text": [
      "Epoch 1/10\n",
      "382/382 [==============================] - 7s 14ms/step - loss: 0.6766 - accuracy: 0.5937 - val_loss: 0.7117 - val_accuracy: 0.6492\n",
      "Epoch 2/10\n",
      "382/382 [==============================] - 5s 12ms/step - loss: 0.6501 - accuracy: 0.6547 - val_loss: 0.6803 - val_accuracy: 0.6492\n",
      "Epoch 3/10\n",
      "382/382 [==============================] - 5s 13ms/step - loss: 0.6510 - accuracy: 0.6542 - val_loss: 0.6646 - val_accuracy: 0.6492\n",
      "Epoch 4/10\n",
      "382/382 [==============================] - 5s 13ms/step - loss: 0.6475 - accuracy: 0.6554 - val_loss: 0.6622 - val_accuracy: 0.6492\n",
      "Epoch 5/10\n",
      "382/382 [==============================] - 6s 16ms/step - loss: 0.6496 - accuracy: 0.6543 - val_loss: 0.6595 - val_accuracy: 0.6492\n",
      "Epoch 6/10\n",
      "382/382 [==============================] - 5s 13ms/step - loss: 0.6461 - accuracy: 0.6561 - val_loss: 0.6575 - val_accuracy: 0.6492\n",
      "Epoch 7/10\n",
      "382/382 [==============================] - 5s 13ms/step - loss: 0.6469 - accuracy: 0.6575 - val_loss: 0.6554 - val_accuracy: 0.6492\n",
      "Epoch 8/10\n",
      "382/382 [==============================] - 5s 14ms/step - loss: 0.6481 - accuracy: 0.6544 - val_loss: 0.6555 - val_accuracy: 0.6492\n",
      "Epoch 9/10\n",
      "382/382 [==============================] - 5s 13ms/step - loss: 0.6488 - accuracy: 0.6507 - val_loss: 0.6519 - val_accuracy: 0.6492\n",
      "Epoch 10/10\n",
      "382/382 [==============================] - 5s 13ms/step - loss: 0.6494 - accuracy: 0.6491 - val_loss: 0.6526 - val_accuracy: 0.6492\n"
     ]
    }
   ],
   "source": [
    "early_stopping = tf.keras.callbacks.EarlyStopping(monitor='val_loss', patience=3, restore_best_weights=True)\n",
    "history = model.fit(\n",
    "    train_padded, y_train, epochs=10, validation_data=(test_padded, y_test),\n",
    "    callbacks=[early_stopping],\n",
    "\n",
    ")"
   ]
  },
  {
   "cell_type": "code",
   "execution_count": 149,
   "metadata": {
    "colab": {
     "base_uri": "https://localhost:8080/"
    },
    "id": "Nn3GIHks_-g4",
    "outputId": "48b36186-a560-4add-961a-191959ab260a"
   },
   "outputs": [
    {
     "name": "stdout",
     "output_type": "stream",
     "text": [
      "41/41 [==============================] - 0s 7ms/step - loss: 0.6526 - accuracy: 0.6492\n"
     ]
    }
   ],
   "source": [
    "results = model.evaluate(test_padded, y_test, batch_size=128)"
   ]
  },
  {
   "cell_type": "code",
   "execution_count": 150,
   "metadata": {
    "colab": {
     "base_uri": "https://localhost:8080/",
     "height": 359
    },
    "id": "MrxTEjrcI_md",
    "outputId": "fbe494df-84d0-4a64-ca4d-75195e02fe17"
   },
   "outputs": [
    {
     "data": {
      "text/html": [
       "<div>\n",
       "<style scoped>\n",
       "    .dataframe tbody tr th:only-of-type {\n",
       "        vertical-align: middle;\n",
       "    }\n",
       "\n",
       "    .dataframe tbody tr th {\n",
       "        vertical-align: top;\n",
       "    }\n",
       "\n",
       "    .dataframe thead th {\n",
       "        text-align: right;\n",
       "    }\n",
       "</style>\n",
       "<table border=\"1\" class=\"dataframe\">\n",
       "  <thead>\n",
       "    <tr style=\"text-align: right;\">\n",
       "      <th></th>\n",
       "      <th>loss</th>\n",
       "      <th>accuracy</th>\n",
       "      <th>val_loss</th>\n",
       "      <th>val_accuracy</th>\n",
       "    </tr>\n",
       "  </thead>\n",
       "  <tbody>\n",
       "    <tr>\n",
       "      <th>0</th>\n",
       "      <td>0.661227</td>\n",
       "      <td>0.628862</td>\n",
       "      <td>0.711713</td>\n",
       "      <td>0.649207</td>\n",
       "    </tr>\n",
       "    <tr>\n",
       "      <th>1</th>\n",
       "      <td>0.652848</td>\n",
       "      <td>0.652872</td>\n",
       "      <td>0.680306</td>\n",
       "      <td>0.649207</td>\n",
       "    </tr>\n",
       "    <tr>\n",
       "      <th>2</th>\n",
       "      <td>0.649917</td>\n",
       "      <td>0.654593</td>\n",
       "      <td>0.664623</td>\n",
       "      <td>0.649207</td>\n",
       "    </tr>\n",
       "    <tr>\n",
       "      <th>3</th>\n",
       "      <td>0.647773</td>\n",
       "      <td>0.657461</td>\n",
       "      <td>0.662218</td>\n",
       "      <td>0.649207</td>\n",
       "    </tr>\n",
       "    <tr>\n",
       "      <th>4</th>\n",
       "      <td>0.646537</td>\n",
       "      <td>0.657052</td>\n",
       "      <td>0.659550</td>\n",
       "      <td>0.649207</td>\n",
       "    </tr>\n",
       "    <tr>\n",
       "      <th>5</th>\n",
       "      <td>0.645362</td>\n",
       "      <td>0.657215</td>\n",
       "      <td>0.657526</td>\n",
       "      <td>0.649207</td>\n",
       "    </tr>\n",
       "    <tr>\n",
       "      <th>6</th>\n",
       "      <td>0.646842</td>\n",
       "      <td>0.657215</td>\n",
       "      <td>0.655406</td>\n",
       "      <td>0.649207</td>\n",
       "    </tr>\n",
       "    <tr>\n",
       "      <th>7</th>\n",
       "      <td>0.645787</td>\n",
       "      <td>0.657461</td>\n",
       "      <td>0.655514</td>\n",
       "      <td>0.649207</td>\n",
       "    </tr>\n",
       "    <tr>\n",
       "      <th>8</th>\n",
       "      <td>0.645383</td>\n",
       "      <td>0.657215</td>\n",
       "      <td>0.651899</td>\n",
       "      <td>0.649207</td>\n",
       "    </tr>\n",
       "    <tr>\n",
       "      <th>9</th>\n",
       "      <td>0.643995</td>\n",
       "      <td>0.657297</td>\n",
       "      <td>0.652597</td>\n",
       "      <td>0.649207</td>\n",
       "    </tr>\n",
       "  </tbody>\n",
       "</table>\n",
       "</div>"
      ],
      "text/plain": [
       "       loss  accuracy  val_loss  val_accuracy\n",
       "0  0.661227  0.628862  0.711713      0.649207\n",
       "1  0.652848  0.652872  0.680306      0.649207\n",
       "2  0.649917  0.654593  0.664623      0.649207\n",
       "3  0.647773  0.657461  0.662218      0.649207\n",
       "4  0.646537  0.657052  0.659550      0.649207\n",
       "5  0.645362  0.657215  0.657526      0.649207\n",
       "6  0.646842  0.657215  0.655406      0.649207\n",
       "7  0.645787  0.657461  0.655514      0.649207\n",
       "8  0.645383  0.657215  0.651899      0.649207\n",
       "9  0.643995  0.657297  0.652597      0.649207"
      ]
     },
     "execution_count": 150,
     "metadata": {},
     "output_type": "execute_result"
    }
   ],
   "source": [
    "metrics_df = pd.DataFrame(history.history)\n",
    "metrics_df"
   ]
  },
  {
   "cell_type": "code",
   "execution_count": 151,
   "metadata": {
    "colab": {
     "base_uri": "https://localhost:8080/",
     "height": 265
    },
    "id": "Li64b9hjJveG",
    "outputId": "6bb6f75e-7e4e-4ad7-f5e3-d5f26413ba51"
   },
   "outputs": [
    {
     "data": {
      "image/png": "[encoded data removed]",
      "text/plain": [
       "<Figure size 432x288 with 1 Axes>"
      ]
     },
     "metadata": {
      "needs_background": "light"
     },
     "output_type": "display_data"
    }
   ],
   "source": [
    "metrics_df[[\"loss\",\"val_loss\"]].plot();\n",
    "#### OVERFITTING!"
   ]
  },
  {
   "cell_type": "markdown",
   "metadata": {},
   "source": [
    "#### References\n",
    "\n",
    "https://radimrehurek.com/gensim/models/word2vec.html"
   ]
  },
  {
   "cell_type": "code",
   "execution_count": null,
   "metadata": {},
   "outputs": [],
   "source": []
  }
 ],
 "metadata": {
  "colab": {
   "collapsed_sections": [],
   "name": "notebook_lstm.ipynb",
   "provenance": []
  },
  "kernelspec": {
   "display_name": "Python 3",
   "language": "python",
   "name": "python3"
  },
  "language_info": {
   "codemirror_mode": {
    "name": "ipython",
    "version": 3
   },
   "file_extension": ".py",
   "mimetype": "text/x-python",
   "name": "python",
   "nbconvert_exporter": "python",
   "pygments_lexer": "ipython3",
   "version": "3.7.4"
  }
 },
 "nbformat": 4,
 "nbformat_minor": 1
}
