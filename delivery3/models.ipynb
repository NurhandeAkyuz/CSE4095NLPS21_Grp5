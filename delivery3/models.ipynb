{
 "cells": [
  {
   "cell_type": "code",
   "execution_count": 103,
   "metadata": {
    "id": "vCaA1G1C_-gZ"
   },
   "outputs": [],
   "source": [
    "from IPython.core.debugger import set_trace\n",
    "import pandas as pd\n",
    "import numpy as np\n",
    "import os\n",
    "import matplotlib.pyplot as plt\n",
    "import time\n",
    "import re\n",
    "import string\n",
    "import nltk\n",
    "import tensorflow as tf\n",
    "from nltk.corpus import stopwords\n",
    "from sklearn.model_selection import train_test_split\n",
    "from collections import Counter\n",
    "from keras.preprocessing.text import Tokenizer\n",
    "from keras.preprocessing.sequence import pad_sequences\n",
    "from keras.layers import Embedding, LSTM, Dense, Dropout\n",
    "from keras.initializers import Constant\n",
    "from keras.optimizers import Adam\n",
    "plt.style.use(style=\"seaborn\")\n",
    "%matplotlib inline"
   ]
  },
  {
   "cell_type": "markdown",
   "metadata": {},
   "source": [
    "### Loading the Data"
   ]
  },
  {
   "cell_type": "code",
   "execution_count": 4,
   "metadata": {},
   "outputs": [],
   "source": [
    "all_df = pd.DataFrame()\n",
    "for path, subdirs, files in os.walk('resource'):\n",
    "    for name in files:\n",
    "        csv_file_path = os.path.join(path, name)\n",
    "        df = pd.read_csv(csv_file_path)\n",
    "        all_df = all_df.append(df)"
   ]
  },
  {
   "cell_type": "code",
   "execution_count": 5,
   "metadata": {},
   "outputs": [],
   "source": [
    "dataframe = all_df.copy()"
   ]
  },
  {
   "cell_type": "code",
   "execution_count": 104,
   "metadata": {
    "colab": {
     "base_uri": "https://localhost:8080/"
    },
    "id": "u-OVpBIY_-gc",
    "outputId": "2570258f-ef2f-42cc-8a06-5c706634d361",
    "scrolled": true
   },
   "outputs": [
    {
     "name": "stderr",
     "output_type": "stream",
     "text": [
      "/Library/Frameworks/Python.framework/Versions/3.7/lib/python3.7/site-packages/IPython/core/interactiveshell.py:2718: DtypeWarning: Columns (29,30,31,32) have mixed types.Specify dtype option on import or set low_memory=False.\n",
      "  interactivity=interactivity, compiler=compiler, result=result)\n"
     ]
    }
   ],
   "source": [
    "# csv_file_path = ('data/kickstarter_data_with_features.csv')\n",
    "# dataframe = pd.read_csv(csv_file_path)"
   ]
  },
  {
   "cell_type": "markdown",
   "metadata": {},
   "source": [
    "### Defining  some functions"
   ]
  },
  {
   "cell_type": "code",
   "execution_count": 105,
   "metadata": {
    "id": "2oNlkK-r_-gn"
   },
   "outputs": [],
   "source": [
    "# Multiple functions for cleaning data \n",
    "\n",
    "def remove_URL(text):\n",
    "    url = re.compile(r\"https?://\\S+|www\\.\\S+\")\n",
    "    return url.sub(r\"\", text)\n",
    "\n",
    "\n",
    "def remove_html(text):\n",
    "    html = re.compile(r\"<.*?>\")\n",
    "    return html.sub(r\"\", text)\n",
    "\n",
    "def remove_number(text):\n",
    "    newstring = re.sub(r'[0-9]+', '', text)\n",
    "    return newstring\n",
    "\n",
    "\n",
    "def remove_emoji(string):\n",
    "    emoji_pattern = re.compile(\n",
    "        \"[\"\n",
    "        u\"\\U0001F600-\\U0001F64F\"  # emoticons\n",
    "        u\"\\U0001F300-\\U0001F5FF\"  # symbols & pictographs\n",
    "        u\"\\U0001F680-\\U0001F6FF\"  # transport & map symbols\n",
    "        u\"\\U0001F1E0-\\U0001F1FF\"  # flags (iOS)\n",
    "        u\"\\U00002702-\\U000027B0\"\n",
    "        u\"\\U000024C2-\\U0001F251\"\n",
    "        \"]+\",\n",
    "        flags=re.UNICODE,\n",
    "    )\n",
    "    return emoji_pattern.sub(r\"\", string)\n",
    "\n",
    "\n",
    "def remove_punct(text):\n",
    "    table = str.maketrans(\"\", \"\", string.punctuation)\n",
    "    return text.translate(table)\n",
    "\n",
    "def remove_stopwords(text):\n",
    "    # nltk.download('stopwords') \n",
    "    stop = set(stopwords.words(\"english\"))\n",
    "    text = [word.lower() for word in text.split() if word.lower() not in stop]\n",
    "\n",
    "    return \" \".join(text)\n",
    "\n",
    "\n",
    "def get_vocab_size(text):\n",
    "    \"\"\"Count unique words\"\"\"\n",
    "    count = Counter()\n",
    "    for i in text.values:\n",
    "        i = remove_punct(i)\n",
    "        i = remove_emoji(i)\n",
    "        i = remove_URL(i)\n",
    "        i = remove_html(i)\n",
    "        i = remove_number(i)\n",
    "        for word in i.split():\n",
    "            count[word] += 1\n",
    "    return len(count)"
   ]
  },
  {
   "cell_type": "markdown",
   "metadata": {},
   "source": [
    "### Preprocessing the data"
   ]
  },
  {
   "cell_type": "code",
   "execution_count": 106,
   "metadata": {
    "id": "xLf57Jab_-gp",
    "scrolled": true
   },
   "outputs": [],
   "source": [
    "dataframe['blurb']=dataframe['blurb'].astype(\"string\") \n",
    "dataframe = dataframe[['blurb','state', 'pledged']] # only using these 2 cols\n",
    "dataframe = dataframe[dataframe['state'].isin(['successful', 'failed'])]\n",
    "dataframe['state'] = dataframe['state'].replace({'failed': 0, 'successful': 1})\n",
    "dataframe = dataframe.dropna() \n",
    "dataframe['blurb'] = dataframe['blurb'].map(remove_stopwords) # remove stop words"
   ]
  },
  {
   "cell_type": "code",
   "execution_count": 107,
   "metadata": {},
   "outputs": [
    {
     "data": {
      "text/html": [
       "<div>\n",
       "<style scoped>\n",
       "    .dataframe tbody tr th:only-of-type {\n",
       "        vertical-align: middle;\n",
       "    }\n",
       "\n",
       "    .dataframe tbody tr th {\n",
       "        vertical-align: top;\n",
       "    }\n",
       "\n",
       "    .dataframe thead th {\n",
       "        text-align: right;\n",
       "    }\n",
       "</style>\n",
       "<table border=\"1\" class=\"dataframe\">\n",
       "  <thead>\n",
       "    <tr style=\"text-align: right;\">\n",
       "      <th></th>\n",
       "      <th>blurb</th>\n",
       "      <th>state</th>\n",
       "      <th>pledged</th>\n",
       "    </tr>\n",
       "  </thead>\n",
       "  <tbody>\n",
       "    <tr>\n",
       "      <th>0</th>\n",
       "      <td>mts asl curriculum workbook reproducible study...</td>\n",
       "      <td>0</td>\n",
       "      <td>0.0</td>\n",
       "    </tr>\n",
       "    <tr>\n",
       "      <th>1</th>\n",
       "      <td>kit teaches print, correct ugly grasp, make su...</td>\n",
       "      <td>0</td>\n",
       "      <td>0.0</td>\n",
       "    </tr>\n",
       "    <tr>\n",
       "      <th>2</th>\n",
       "      <td>establishing free, world-class, public library...</td>\n",
       "      <td>0</td>\n",
       "      <td>120.0</td>\n",
       "    </tr>\n",
       "    <tr>\n",
       "      <th>3</th>\n",
       "      <td>goal: introducing new word english language/di...</td>\n",
       "      <td>0</td>\n",
       "      <td>0.0</td>\n",
       "    </tr>\n",
       "    <tr>\n",
       "      <th>4</th>\n",
       "      <td>zu den artikeln der dsgvo sind die korrespondi...</td>\n",
       "      <td>0</td>\n",
       "      <td>356.0</td>\n",
       "    </tr>\n",
       "    <tr>\n",
       "      <th>...</th>\n",
       "      <td>...</td>\n",
       "      <td>...</td>\n",
       "      <td>...</td>\n",
       "    </tr>\n",
       "    <tr>\n",
       "      <th>20627</th>\n",
       "      <td>easy way present story time anytime, wherever ...</td>\n",
       "      <td>0</td>\n",
       "      <td>25868.0</td>\n",
       "    </tr>\n",
       "    <tr>\n",
       "      <th>20628</th>\n",
       "      <td>revolutionary app makes getting fit easy effic...</td>\n",
       "      <td>0</td>\n",
       "      <td>1559.0</td>\n",
       "    </tr>\n",
       "    <tr>\n",
       "      <th>20629</th>\n",
       "      <td>love fatbooth ugly booth, see look three toed ...</td>\n",
       "      <td>0</td>\n",
       "      <td>0.0</td>\n",
       "    </tr>\n",
       "    <tr>\n",
       "      <th>20630</th>\n",
       "      <td>production android app cab drivers truckers.</td>\n",
       "      <td>0</td>\n",
       "      <td>0.0</td>\n",
       "    </tr>\n",
       "    <tr>\n",
       "      <th>20631</th>\n",
       "      <td>recently launched version 1 unique travel app ...</td>\n",
       "      <td>0</td>\n",
       "      <td>380.0</td>\n",
       "    </tr>\n",
       "  </tbody>\n",
       "</table>\n",
       "<p>17434 rows × 3 columns</p>\n",
       "</div>"
      ],
      "text/plain": [
       "                                                   blurb  state  pledged\n",
       "0      mts asl curriculum workbook reproducible study...      0      0.0\n",
       "1      kit teaches print, correct ugly grasp, make su...      0      0.0\n",
       "2      establishing free, world-class, public library...      0    120.0\n",
       "3      goal: introducing new word english language/di...      0      0.0\n",
       "4      zu den artikeln der dsgvo sind die korrespondi...      0    356.0\n",
       "...                                                  ...    ...      ...\n",
       "20627  easy way present story time anytime, wherever ...      0  25868.0\n",
       "20628  revolutionary app makes getting fit easy effic...      0   1559.0\n",
       "20629  love fatbooth ugly booth, see look three toed ...      0      0.0\n",
       "20630       production android app cab drivers truckers.      0      0.0\n",
       "20631  recently launched version 1 unique travel app ...      0    380.0\n",
       "\n",
       "[17434 rows x 3 columns]"
      ]
     },
     "execution_count": 107,
     "metadata": {},
     "output_type": "execute_result"
    }
   ],
   "source": [
    "dataframe"
   ]
  },
  {
   "cell_type": "markdown",
   "metadata": {},
   "source": [
    "### Splitting the Data"
   ]
  },
  {
   "cell_type": "code",
   "execution_count": 108,
   "metadata": {
    "id": "C7k1a9Fr_-gs"
   },
   "outputs": [],
   "source": [
    "from sklearn.model_selection import train_test_split\n",
    "X = dataframe.drop(['state', 'pledged'], axis=1)\n",
    "Y = dataframe[['state', 'pledged']]\n",
    "X_train, X_test, y_train, y_test = train_test_split(X,Y, test_size=0.3, random_state=123)"
   ]
  },
  {
   "cell_type": "markdown",
   "metadata": {},
   "source": [
    "### Getting the Vocabular size: # of unique words"
   ]
  },
  {
   "cell_type": "code",
   "execution_count": 109,
   "metadata": {
    "id": "fRD4aw7L_-gs"
   },
   "outputs": [],
   "source": [
    "train_v_size = get_vocab_size(X_train.blurb)"
   ]
  },
  {
   "cell_type": "code",
   "execution_count": 110,
   "metadata": {},
   "outputs": [
    {
     "data": {
      "text/plain": [
       "23927"
      ]
     },
     "execution_count": 110,
     "metadata": {},
     "output_type": "execute_result"
    }
   ],
   "source": [
    "train_v_size"
   ]
  },
  {
   "cell_type": "markdown",
   "metadata": {},
   "source": [
    "### Sequencing the text\n",
    "\n",
    "Fitting a tokenizer to assign indices to words and converting the text to sequence of indices."
   ]
  },
  {
   "cell_type": "code",
   "execution_count": 111,
   "metadata": {},
   "outputs": [],
   "source": [
    "#fit tokenizer on training data\n",
    "tokenizer = Tokenizer()\n",
    "tokenizer.fit_on_texts(X_train.blurb)\n",
    "#get train sequences\n",
    "train_seqs = tokenizer.texts_to_sequences(X_train.blurb)\n",
    "train_seqs_max_size = max([len(seq) for seq in train_seqs])\n",
    "#get test sequences\n",
    "test_seqs = tokenizer.texts_to_sequences(X_test.blurb)\n",
    "test_seqs_max_size = max([len(seq) for seq in test_seqs])"
   ]
  },
  {
   "cell_type": "code",
   "execution_count": 112,
   "metadata": {
    "scrolled": true
   },
   "outputs": [
    {
     "data": {
      "text/plain": [
       "(26, 23)"
      ]
     },
     "execution_count": 112,
     "metadata": {},
     "output_type": "execute_result"
    }
   ],
   "source": [
    "train_seqs_max_size, test_seqs_max_size"
   ]
  },
  {
   "cell_type": "markdown",
   "metadata": {},
   "source": [
    "### Padding the sequences\n",
    "\n",
    "Padding the sequences to have seqencies of equal length. "
   ]
  },
  {
   "cell_type": "code",
   "execution_count": 113,
   "metadata": {
    "id": "F0kfjuwX_-gv"
   },
   "outputs": [],
   "source": [
    "train_padded = pad_sequences(train_seqs, maxlen=train_seqs_max_size, padding=\"post\", truncating=\"post\")\n",
    "test_padded = pad_sequences(test_seqs, maxlen=train_seqs_max_size, padding=\"post\", truncating=\"post\")"
   ]
  },
  {
   "cell_type": "code",
   "execution_count": 114,
   "metadata": {
    "colab": {
     "base_uri": "https://localhost:8080/"
    },
    "id": "rCJZj60W_-g3",
    "outputId": "709256b2-8fce-405a-ffe5-b22badd0e978",
    "scrolled": true
   },
   "outputs": [
    {
     "name": "stdout",
     "output_type": "stream",
     "text": [
      "Shape of train (12203, 26)\n",
      "Shape of test (5231, 26)\n"
     ]
    }
   ],
   "source": [
    "print(f\"Shape of train {train_padded.shape}\")\n",
    "print(f\"Shape of test {test_padded.shape}\")"
   ]
  },
  {
   "cell_type": "markdown",
   "metadata": {},
   "source": [
    "### Embeddings"
   ]
  },
  {
   "cell_type": "code",
   "execution_count": 115,
   "metadata": {},
   "outputs": [],
   "source": [
    "documents = X_train.blurb\n",
    "X_train_tokenized = [[word for word in document.lower().split()] for document in documents]"
   ]
  },
  {
   "cell_type": "markdown",
   "metadata": {},
   "source": [
    "#### Word2Vec"
   ]
  },
  {
   "cell_type": "code",
   "execution_count": 17,
   "metadata": {
    "scrolled": true
   },
   "outputs": [
    {
     "name": "stderr",
     "output_type": "stream",
     "text": [
      "/Library/Frameworks/Python.framework/Versions/3.7/lib/python3.7/site-packages/gensim/similarities/__init__.py:15: UserWarning: The gensim.similarities.levenshtein submodule is disabled, because the optional Levenshtein package <https://pypi.org/project/python-Levenshtein/> is unavailable. Install Levenhstein (e.g. `pip install python-Levenshtein`) to suppress this warning.\n",
      "  warnings.warn(msg)\n"
     ]
    }
   ],
   "source": [
    "from gensim.models import Word2Vec, FastText\n",
    "word_model = Word2Vec(X_train_tokenized, vector_size=100)\n",
    "\n",
    "#build matrix \n",
    "embedding_matrix_w2v = np.random.random(((train_v_size) + 1, 100))\n",
    "for word,i in tokenizer.word_index.items():  \n",
    "    try:\n",
    "        embedding_matrix_ft[i] = word_model.wv[word]\n",
    "    except:\n",
    "        pass\n",
    "\n",
    "# create layer\n",
    "embedding_layer_w2v = Embedding((train_v_size) + 1, output_dim=100, \n",
    "                            weights=[embedding_matrix_w2v], trainable=True)"
   ]
  },
  {
   "cell_type": "markdown",
   "metadata": {},
   "source": [
    "#### FastText"
   ]
  },
  {
   "cell_type": "code",
   "execution_count": 116,
   "metadata": {},
   "outputs": [],
   "source": [
    "ft = FastText(vector_size=300)\n",
    "ft.build_vocab(X_train_tokenized)\n",
    "ft.train(tokenizer.word_index, total_examples=ft.corpus_count, epochs=10)\n",
    "\n",
    "# build matrix\n",
    "embedding_matrix_ft = np.random.random(((train_v_size) + 1, ft.vector_size))\n",
    "for word,i in tokenizer.word_index.items(): \n",
    "    try:\n",
    "        embedding_matrix_ft[i] = ft.wv[word]\n",
    "    except:\n",
    "        pass\n",
    "\n",
    "# create layer\n",
    "embedding_layer_ft = Embedding((train_v_size) + 1, output_dim=300, \n",
    "                            weights=[embedding_matrix_ft], trainable=True)"
   ]
  },
  {
   "cell_type": "markdown",
   "metadata": {},
   "source": [
    "#### Keras Embeddings "
   ]
  },
  {
   "cell_type": "code",
   "execution_count": 19,
   "metadata": {},
   "outputs": [],
   "source": [
    "embedding_layer_keras = Embedding(train_v_size, output_dim=100, input_length=train_seqs_max_size)"
   ]
  },
  {
   "cell_type": "markdown",
   "metadata": {},
   "source": [
    "### Modeling"
   ]
  },
  {
   "cell_type": "code",
   "execution_count": 117,
   "metadata": {
    "id": "4iYENlcw_-g3"
   },
   "outputs": [],
   "source": [
    "from keras.models import Sequential\n",
    "from keras.layers import Embedding, LSTM, Dense, Dropout, Conv1D, GlobalMaxPooling1D\n",
    "from keras.initializers import Constant\n",
    "from keras.optimizers import Adam, SGD\n",
    "from tensorflow.keras.regularizers import L2"
   ]
  },
  {
   "cell_type": "code",
   "execution_count": 118,
   "metadata": {},
   "outputs": [],
   "source": [
    "def lstm_model(embeddings, classification=True):\n",
    "    model = Sequential()\n",
    "    model.add(embeddings)\n",
    "    model.add(LSTM(20, dropout=.9))\n",
    "    model.add(Dense(1, activation=\"sigmoid\"))\n",
    "\n",
    "    adam_opt = Adam(learning_rate=3e-4)\n",
    "    if classification:\n",
    "        model.compile(loss=\"binary_crossentropy\", optimizer=adam_opt, metrics=[\"accuracy\"])\n",
    "    else: \n",
    "        model.compile(loss=\"mean_squared_error\", optimizer=adam_opt, metrics=[\"mse\"])\n",
    "        \n",
    "    return model \n",
    "\n",
    "def train_model(model, train_padded, test_padded, y_train, y_test):\n",
    "    early_stopping = tf.keras.callbacks.EarlyStopping(monitor='val_loss', patience=3, restore_best_weights=True)\n",
    "    history = model.fit( train_padded, y_train, epochs=20,\n",
    "                            validation_data=(test_padded, y_test), callbacks=[early_stopping])\n",
    "    \n",
    "    return history\n",
    "    \n",
    "    \n",
    "def evaluate_model(model, test_padded, y_test):\n",
    "    results = model.evaluate(test_padded, y_test, batch_size=128)\n",
    "    return results \n",
    "\n",
    "def plot_history(history, loss):\n",
    "    if loss:\n",
    "        x, y = 'loss', 'val_loss'\n",
    "        title = 'Loss Vs Val_loss'\n",
    "        y_label = 'Loss'\n",
    "    else: \n",
    "        x, y = 'accuracy', 'val_accuracy'\n",
    "        title = 'Accuracy Vs VAl_accuracy'\n",
    "        y_label = 'Accuracy'\n",
    "        \n",
    "    plt = history[[x, y]].plot(lw=2, colormap='jet', marker='.', markersize=10, title=title)\n",
    "    plt.set_xlabel('Epochs')\n",
    "    plt.set_ylabel(y_label)\n",
    "    "
   ]
  },
  {
   "cell_type": "markdown",
   "metadata": {},
   "source": [
    "### LSTM"
   ]
  },
  {
   "cell_type": "markdown",
   "metadata": {},
   "source": [
    "#### LSTM -  Predict if a project/campaign will be successful or not"
   ]
  },
  {
   "cell_type": "markdown",
   "metadata": {},
   "source": [
    "##### Keras Embeddings"
   ]
  },
  {
   "cell_type": "code",
   "execution_count": 24,
   "metadata": {
    "scrolled": true
   },
   "outputs": [
    {
     "name": "stdout",
     "output_type": "stream",
     "text": [
      "Epoch 1/20\n",
      "4562/4562 [==============================] - 671s 146ms/step - loss: 0.6389 - accuracy: 0.6463 - val_loss: 0.5551 - val_accuracy: 0.7107\n",
      "Epoch 2/20\n",
      "4562/4562 [==============================] - 560s 123ms/step - loss: 0.5516 - accuracy: 0.7188 - val_loss: 0.5439 - val_accuracy: 0.7206\n",
      "Epoch 3/20\n",
      "4562/4562 [==============================] - 529s 116ms/step - loss: 0.5319 - accuracy: 0.7341 - val_loss: 0.5350 - val_accuracy: 0.7302\n",
      "Epoch 4/20\n",
      "4562/4562 [==============================] - 514s 113ms/step - loss: 0.5188 - accuracy: 0.7451 - val_loss: 0.5415 - val_accuracy: 0.7303\n",
      "Epoch 5/20\n",
      "4562/4562 [==============================] - 531s 116ms/step - loss: 0.5113 - accuracy: 0.7496 - val_loss: 0.5494 - val_accuracy: 0.7249\n",
      "Epoch 6/20\n",
      "4562/4562 [==============================] - 589s 129ms/step - loss: 0.5054 - accuracy: 0.7557 - val_loss: 0.5354 - val_accuracy: 0.7332\n"
     ]
    }
   ],
   "source": [
    "model = lstm_model(embedding_layer_keras)    \n",
    "history = train_model(model, train_padded, test_padded, y_train['state'], y_test['state'])"
   ]
  },
  {
   "cell_type": "code",
   "execution_count": 25,
   "metadata": {},
   "outputs": [
    {
     "data": {
      "text/html": [
       "<div>\n",
       "<style scoped>\n",
       "    .dataframe tbody tr th:only-of-type {\n",
       "        vertical-align: middle;\n",
       "    }\n",
       "\n",
       "    .dataframe tbody tr th {\n",
       "        vertical-align: top;\n",
       "    }\n",
       "\n",
       "    .dataframe thead th {\n",
       "        text-align: right;\n",
       "    }\n",
       "</style>\n",
       "<table border=\"1\" class=\"dataframe\">\n",
       "  <thead>\n",
       "    <tr style=\"text-align: right;\">\n",
       "      <th></th>\n",
       "      <th>loss</th>\n",
       "      <th>accuracy</th>\n",
       "      <th>val_loss</th>\n",
       "      <th>val_accuracy</th>\n",
       "    </tr>\n",
       "  </thead>\n",
       "  <tbody>\n",
       "    <tr>\n",
       "      <th>0</th>\n",
       "      <td>0.607656</td>\n",
       "      <td>0.672678</td>\n",
       "      <td>0.555070</td>\n",
       "      <td>0.710737</td>\n",
       "    </tr>\n",
       "    <tr>\n",
       "      <th>1</th>\n",
       "      <td>0.548978</td>\n",
       "      <td>0.721296</td>\n",
       "      <td>0.543935</td>\n",
       "      <td>0.720584</td>\n",
       "    </tr>\n",
       "    <tr>\n",
       "      <th>2</th>\n",
       "      <td>0.531263</td>\n",
       "      <td>0.734903</td>\n",
       "      <td>0.535012</td>\n",
       "      <td>0.730161</td>\n",
       "    </tr>\n",
       "    <tr>\n",
       "      <th>3</th>\n",
       "      <td>0.520279</td>\n",
       "      <td>0.742665</td>\n",
       "      <td>0.541542</td>\n",
       "      <td>0.730256</td>\n",
       "    </tr>\n",
       "    <tr>\n",
       "      <th>4</th>\n",
       "      <td>0.512031</td>\n",
       "      <td>0.749373</td>\n",
       "      <td>0.549408</td>\n",
       "      <td>0.724885</td>\n",
       "    </tr>\n",
       "    <tr>\n",
       "      <th>5</th>\n",
       "      <td>0.505534</td>\n",
       "      <td>0.754868</td>\n",
       "      <td>0.535381</td>\n",
       "      <td>0.733198</td>\n",
       "    </tr>\n",
       "  </tbody>\n",
       "</table>\n",
       "</div>"
      ],
      "text/plain": [
       "       loss  accuracy  val_loss  val_accuracy\n",
       "0  0.607656  0.672678  0.555070      0.710737\n",
       "1  0.548978  0.721296  0.543935      0.720584\n",
       "2  0.531263  0.734903  0.535012      0.730161\n",
       "3  0.520279  0.742665  0.541542      0.730256\n",
       "4  0.512031  0.749373  0.549408      0.724885\n",
       "5  0.505534  0.754868  0.535381      0.733198"
      ]
     },
     "execution_count": 25,
     "metadata": {},
     "output_type": "execute_result"
    }
   ],
   "source": [
    "keras_lstm_status_history = pd.DataFrame(history.history)\n",
    "keras_lstm_status_history"
   ]
  },
  {
   "cell_type": "code",
   "execution_count": 26,
   "metadata": {
    "scrolled": true
   },
   "outputs": [
    {
     "name": "stdout",
     "output_type": "stream",
     "text": [
      "489/489 [==============================] - 4s 9ms/step - loss: 0.5350 - accuracy: 0.7302\n"
     ]
    },
    {
     "data": {
      "text/plain": [
       "[0.5350123643875122, 0.7301605343818665]"
      ]
     },
     "execution_count": 26,
     "metadata": {},
     "output_type": "execute_result"
    }
   ],
   "source": [
    "evaluate_model(model, test_padded, y_test['state'])"
   ]
  },
  {
   "cell_type": "code",
   "execution_count": 88,
   "metadata": {
    "scrolled": true
   },
   "outputs": [
    {
     "data": {
      "image/png": "[encoded data removed]",
      "text/plain": [
       "<Figure size 432x288 with 1 Axes>"
      ]
     },
     "metadata": {
      "needs_background": "light"
     },
     "output_type": "display_data"
    }
   ],
   "source": [
    "plot_history(keras_lstm_status_history, loss=True)"
   ]
  },
  {
   "cell_type": "code",
   "execution_count": 89,
   "metadata": {},
   "outputs": [
    {
     "data": {
      "image/png": "[encoded data removed]",
      "text/plain": [
       "<Figure size 432x288 with 1 Axes>"
      ]
     },
     "metadata": {
      "needs_background": "light"
     },
     "output_type": "display_data"
    }
   ],
   "source": [
    "plot_history(keras_lstm_status_history, loss=False)"
   ]
  },
  {
   "cell_type": "markdown",
   "metadata": {},
   "source": [
    "##### Word2Vec "
   ]
  },
  {
   "cell_type": "code",
   "execution_count": 94,
   "metadata": {},
   "outputs": [
    {
     "name": "stdout",
     "output_type": "stream",
     "text": [
      "Epoch 1/20\n",
      "4562/4562 [==============================] - 667s 145ms/step - loss: 0.6681 - accuracy: 0.6179 - val_loss: 0.6581 - val_accuracy: 0.6323\n",
      "Epoch 2/20\n",
      "4562/4562 [==============================] - 668s 146ms/step - loss: 0.6589 - accuracy: 0.6324 - val_loss: 0.6577 - val_accuracy: 0.6323\n",
      "Epoch 3/20\n",
      "4562/4562 [==============================] - 707s 155ms/step - loss: 0.6591 - accuracy: 0.6315 - val_loss: 0.6578 - val_accuracy: 0.6323\n",
      "Epoch 4/20\n",
      "4562/4562 [==============================] - 677s 148ms/step - loss: 0.6587 - accuracy: 0.6314 - val_loss: 0.6580 - val_accuracy: 0.6323\n",
      "Epoch 5/20\n",
      "4562/4562 [==============================] - 718s 157ms/step - loss: 0.6597 - accuracy: 0.6290 - val_loss: 0.6578 - val_accuracy: 0.6323\n"
     ]
    }
   ],
   "source": [
    "model = lstm_model(embedding_layer_w2v)    \n",
    "history = train_model(model, train_padded, test_padded, y_train['state'], y_test['state'])"
   ]
  },
  {
   "cell_type": "code",
   "execution_count": 95,
   "metadata": {},
   "outputs": [
    {
     "data": {
      "text/html": [
       "<div>\n",
       "<style scoped>\n",
       "    .dataframe tbody tr th:only-of-type {\n",
       "        vertical-align: middle;\n",
       "    }\n",
       "\n",
       "    .dataframe tbody tr th {\n",
       "        vertical-align: top;\n",
       "    }\n",
       "\n",
       "    .dataframe thead th {\n",
       "        text-align: right;\n",
       "    }\n",
       "</style>\n",
       "<table border=\"1\" class=\"dataframe\">\n",
       "  <thead>\n",
       "    <tr style=\"text-align: right;\">\n",
       "      <th></th>\n",
       "      <th>loss</th>\n",
       "      <th>accuracy</th>\n",
       "      <th>val_loss</th>\n",
       "      <th>val_accuracy</th>\n",
       "    </tr>\n",
       "  </thead>\n",
       "  <tbody>\n",
       "    <tr>\n",
       "      <th>0</th>\n",
       "      <td>0.663493</td>\n",
       "      <td>0.627424</td>\n",
       "      <td>0.658084</td>\n",
       "      <td>0.632274</td>\n",
       "    </tr>\n",
       "    <tr>\n",
       "      <th>1</th>\n",
       "      <td>0.659444</td>\n",
       "      <td>0.631144</td>\n",
       "      <td>0.657738</td>\n",
       "      <td>0.632274</td>\n",
       "    </tr>\n",
       "    <tr>\n",
       "      <th>2</th>\n",
       "      <td>0.659048</td>\n",
       "      <td>0.631144</td>\n",
       "      <td>0.657767</td>\n",
       "      <td>0.632274</td>\n",
       "    </tr>\n",
       "    <tr>\n",
       "      <th>3</th>\n",
       "      <td>0.658751</td>\n",
       "      <td>0.631144</td>\n",
       "      <td>0.657965</td>\n",
       "      <td>0.632274</td>\n",
       "    </tr>\n",
       "    <tr>\n",
       "      <th>4</th>\n",
       "      <td>0.658599</td>\n",
       "      <td>0.631144</td>\n",
       "      <td>0.657788</td>\n",
       "      <td>0.632274</td>\n",
       "    </tr>\n",
       "  </tbody>\n",
       "</table>\n",
       "</div>"
      ],
      "text/plain": [
       "       loss  accuracy  val_loss  val_accuracy\n",
       "0  0.663493  0.627424  0.658084      0.632274\n",
       "1  0.659444  0.631144  0.657738      0.632274\n",
       "2  0.659048  0.631144  0.657767      0.632274\n",
       "3  0.658751  0.631144  0.657965      0.632274\n",
       "4  0.658599  0.631144  0.657788      0.632274"
      ]
     },
     "execution_count": 95,
     "metadata": {},
     "output_type": "execute_result"
    }
   ],
   "source": [
    "w2v_lstm_status_history = pd.DataFrame(history.history)\n",
    "w2v_lstm_status_history"
   ]
  },
  {
   "cell_type": "code",
   "execution_count": 96,
   "metadata": {},
   "outputs": [
    {
     "name": "stdout",
     "output_type": "stream",
     "text": [
      "489/489 [==============================] - 8s 16ms/step - loss: 0.6577 - accuracy: 0.6323\n"
     ]
    },
    {
     "data": {
      "text/plain": [
       "[0.6577392220497131, 0.6322739720344543]"
      ]
     },
     "execution_count": 96,
     "metadata": {},
     "output_type": "execute_result"
    }
   ],
   "source": [
    "evaluate_model(model, test_padded, y_test['state'])"
   ]
  },
  {
   "cell_type": "code",
   "execution_count": 100,
   "metadata": {},
   "outputs": [
    {
     "data": {
      "image/png": "[encoded data removed]",
      "text/plain": [
       "<Figure size 432x288 with 1 Axes>"
      ]
     },
     "metadata": {
      "needs_background": "light"
     },
     "output_type": "display_data"
    }
   ],
   "source": [
    "plot_history(w2v_lstm_status_history, loss=True)"
   ]
  },
  {
   "cell_type": "code",
   "execution_count": 101,
   "metadata": {},
   "outputs": [
    {
     "data": {
      "image/png": "[encoded data removed]",
      "text/plain": [
       "<Figure size 432x288 with 1 Axes>"
      ]
     },
     "metadata": {
      "needs_background": "light"
     },
     "output_type": "display_data"
    }
   ],
   "source": [
    "plot_history(w2v_lstm_status_history, loss=False)"
   ]
  },
  {
   "cell_type": "markdown",
   "metadata": {},
   "source": [
    "##### FastText"
   ]
  },
  {
   "cell_type": "code",
   "execution_count": 119,
   "metadata": {},
   "outputs": [
    {
     "name": "stdout",
     "output_type": "stream",
     "text": [
      "Epoch 1/20\n",
      "382/382 [==============================] - 64s 159ms/step - loss: 0.6627 - accuracy: 0.6220 - val_loss: 0.6670 - val_accuracy: 0.6492\n",
      "Epoch 2/20\n",
      "382/382 [==============================] - 61s 161ms/step - loss: 0.6463 - accuracy: 0.6625 - val_loss: 0.6588 - val_accuracy: 0.6492\n",
      "Epoch 3/20\n",
      "382/382 [==============================] - 68s 177ms/step - loss: 0.6447 - accuracy: 0.6576 - val_loss: 0.6549 - val_accuracy: 0.6492\n",
      "Epoch 4/20\n",
      "382/382 [==============================] - 54s 141ms/step - loss: 0.6506 - accuracy: 0.6512 - val_loss: 0.6525 - val_accuracy: 0.6492\n",
      "Epoch 5/20\n",
      "382/382 [==============================] - 54s 141ms/step - loss: 0.6407 - accuracy: 0.6615 - val_loss: 0.6502 - val_accuracy: 0.6492\n",
      "Epoch 6/20\n",
      "382/382 [==============================] - 53s 138ms/step - loss: 0.6463 - accuracy: 0.6539 - val_loss: 0.6502 - val_accuracy: 0.6492\n",
      "Epoch 7/20\n",
      "382/382 [==============================] - 56s 146ms/step - loss: 0.6094 - accuracy: 0.6780 - val_loss: 0.5836 - val_accuracy: 0.7016\n",
      "Epoch 8/20\n",
      "382/382 [==============================] - 52s 136ms/step - loss: 0.5039 - accuracy: 0.7718 - val_loss: 0.5882 - val_accuracy: 0.7031\n",
      "Epoch 9/20\n",
      "382/382 [==============================] - 58s 152ms/step - loss: 0.4592 - accuracy: 0.7957 - val_loss: 0.6074 - val_accuracy: 0.7016\n",
      "Epoch 10/20\n",
      "382/382 [==============================] - 54s 140ms/step - loss: 0.4071 - accuracy: 0.8309 - val_loss: 0.6327 - val_accuracy: 0.6997\n"
     ]
    }
   ],
   "source": [
    "model = lstm_model(embedding_layer_ft)    \n",
    "history = train_model(model, train_padded, test_padded, y_train['state'], y_test['state'])"
   ]
  },
  {
   "cell_type": "code",
   "execution_count": 120,
   "metadata": {},
   "outputs": [
    {
     "data": {
      "text/html": [
       "<div>\n",
       "<style scoped>\n",
       "    .dataframe tbody tr th:only-of-type {\n",
       "        vertical-align: middle;\n",
       "    }\n",
       "\n",
       "    .dataframe tbody tr th {\n",
       "        vertical-align: top;\n",
       "    }\n",
       "\n",
       "    .dataframe thead th {\n",
       "        text-align: right;\n",
       "    }\n",
       "</style>\n",
       "<table border=\"1\" class=\"dataframe\">\n",
       "  <thead>\n",
       "    <tr style=\"text-align: right;\">\n",
       "      <th></th>\n",
       "      <th>loss</th>\n",
       "      <th>accuracy</th>\n",
       "      <th>val_loss</th>\n",
       "      <th>val_accuracy</th>\n",
       "    </tr>\n",
       "  </thead>\n",
       "  <tbody>\n",
       "    <tr>\n",
       "      <th>0</th>\n",
       "      <td>0.656097</td>\n",
       "      <td>0.643612</td>\n",
       "      <td>0.666953</td>\n",
       "      <td>0.649207</td>\n",
       "    </tr>\n",
       "    <tr>\n",
       "      <th>1</th>\n",
       "      <td>0.649025</td>\n",
       "      <td>0.655658</td>\n",
       "      <td>0.658754</td>\n",
       "      <td>0.649207</td>\n",
       "    </tr>\n",
       "    <tr>\n",
       "      <th>2</th>\n",
       "      <td>0.645648</td>\n",
       "      <td>0.656806</td>\n",
       "      <td>0.654940</td>\n",
       "      <td>0.649207</td>\n",
       "    </tr>\n",
       "    <tr>\n",
       "      <th>3</th>\n",
       "      <td>0.646086</td>\n",
       "      <td>0.657052</td>\n",
       "      <td>0.652490</td>\n",
       "      <td>0.649207</td>\n",
       "    </tr>\n",
       "    <tr>\n",
       "      <th>4</th>\n",
       "      <td>0.645014</td>\n",
       "      <td>0.657297</td>\n",
       "      <td>0.650175</td>\n",
       "      <td>0.649207</td>\n",
       "    </tr>\n",
       "    <tr>\n",
       "      <th>5</th>\n",
       "      <td>0.643781</td>\n",
       "      <td>0.656970</td>\n",
       "      <td>0.650198</td>\n",
       "      <td>0.649207</td>\n",
       "    </tr>\n",
       "    <tr>\n",
       "      <th>6</th>\n",
       "      <td>0.582406</td>\n",
       "      <td>0.703761</td>\n",
       "      <td>0.583588</td>\n",
       "      <td>0.701587</td>\n",
       "    </tr>\n",
       "    <tr>\n",
       "      <th>7</th>\n",
       "      <td>0.499146</td>\n",
       "      <td>0.771614</td>\n",
       "      <td>0.588228</td>\n",
       "      <td>0.703116</td>\n",
       "    </tr>\n",
       "    <tr>\n",
       "      <th>8</th>\n",
       "      <td>0.452726</td>\n",
       "      <td>0.800131</td>\n",
       "      <td>0.607396</td>\n",
       "      <td>0.701587</td>\n",
       "    </tr>\n",
       "    <tr>\n",
       "      <th>9</th>\n",
       "      <td>0.408170</td>\n",
       "      <td>0.827338</td>\n",
       "      <td>0.632725</td>\n",
       "      <td>0.699675</td>\n",
       "    </tr>\n",
       "  </tbody>\n",
       "</table>\n",
       "</div>"
      ],
      "text/plain": [
       "       loss  accuracy  val_loss  val_accuracy\n",
       "0  0.656097  0.643612  0.666953      0.649207\n",
       "1  0.649025  0.655658  0.658754      0.649207\n",
       "2  0.645648  0.656806  0.654940      0.649207\n",
       "3  0.646086  0.657052  0.652490      0.649207\n",
       "4  0.645014  0.657297  0.650175      0.649207\n",
       "5  0.643781  0.656970  0.650198      0.649207\n",
       "6  0.582406  0.703761  0.583588      0.701587\n",
       "7  0.499146  0.771614  0.588228      0.703116\n",
       "8  0.452726  0.800131  0.607396      0.701587\n",
       "9  0.408170  0.827338  0.632725      0.699675"
      ]
     },
     "execution_count": 120,
     "metadata": {},
     "output_type": "execute_result"
    }
   ],
   "source": [
    "ft_lstm_status_history = pd.DataFrame(history.history)\n",
    "ft_lstm_status_history"
   ]
  },
  {
   "cell_type": "code",
   "execution_count": 121,
   "metadata": {},
   "outputs": [
    {
     "name": "stdout",
     "output_type": "stream",
     "text": [
      "41/41 [==============================] - 1s 21ms/step - loss: 0.5836 - accuracy: 0.7016\n"
     ]
    },
    {
     "data": {
      "text/plain": [
       "[0.583588182926178, 0.7015867233276367]"
      ]
     },
     "execution_count": 121,
     "metadata": {},
     "output_type": "execute_result"
    }
   ],
   "source": [
    "evaluate_model(model, test_padded, y_test['state'])"
   ]
  },
  {
   "cell_type": "code",
   "execution_count": 122,
   "metadata": {},
   "outputs": [
    {
     "data": {
      "image/png": "[encoded data removed]",
      "text/plain": [
       "<Figure size 432x288 with 1 Axes>"
      ]
     },
     "metadata": {
      "needs_background": "light"
     },
     "output_type": "display_data"
    }
   ],
   "source": [
    "plot_history(w2v_lstm_status_history, loss=True)"
   ]
  },
  {
   "cell_type": "code",
   "execution_count": 123,
   "metadata": {},
   "outputs": [
    {
     "data": {
      "image/png": "[encoded data removed]",
      "text/plain": [
       "<Figure size 432x288 with 1 Axes>"
      ]
     },
     "metadata": {
      "needs_background": "light"
     },
     "output_type": "display_data"
    }
   ],
   "source": [
    "plot_history(w2v_lstm_status_history, loss=False)"
   ]
  },
  {
   "cell_type": "markdown",
   "metadata": {},
   "source": [
    "#### LSTM - Predict the amount of money collected"
   ]
  },
  {
   "cell_type": "code",
   "execution_count": 29,
   "metadata": {},
   "outputs": [
    {
     "name": "stdout",
     "output_type": "stream",
     "text": [
      "Epoch 1/20\n",
      "4562/4562 [==============================] - 588s 128ms/step - loss: 2088656040628.2043 - mse: 2088656040628.2043 - val_loss: 283805057024.0000 - val_mse: 283805057024.0000\n",
      "Epoch 2/20\n",
      "4562/4562 [==============================] - 585s 128ms/step - loss: 1864547732435.8467 - mse: 1864547732435.8467 - val_loss: 283805057024.0000 - val_mse: 283805057024.0000\n",
      "Epoch 3/20\n",
      "4562/4562 [==============================] - 572s 125ms/step - loss: 1235672922393.6533 - mse: 1235672922393.6533 - val_loss: 283805057024.0000 - val_mse: 283805057024.0000\n",
      "Epoch 4/20\n",
      "4562/4562 [==============================] - 600s 131ms/step - loss: 946291842036.1061 - mse: 946291842036.1061 - val_loss: 283805057024.0000 - val_mse: 283805057024.0000\n"
     ]
    }
   ],
   "source": [
    "model = lstm_model(embedding_layer_keras, classification=False)    \n",
    "history = train_model(model, train_padded, test_padded, y_train['pledged'], y_test['pledged'])"
   ]
  },
  {
   "cell_type": "code",
   "execution_count": 30,
   "metadata": {},
   "outputs": [
    {
     "data": {
      "text/html": [
       "<div>\n",
       "<style scoped>\n",
       "    .dataframe tbody tr th:only-of-type {\n",
       "        vertical-align: middle;\n",
       "    }\n",
       "\n",
       "    .dataframe tbody tr th {\n",
       "        vertical-align: top;\n",
       "    }\n",
       "\n",
       "    .dataframe thead th {\n",
       "        text-align: right;\n",
       "    }\n",
       "</style>\n",
       "<table border=\"1\" class=\"dataframe\">\n",
       "  <thead>\n",
       "    <tr style=\"text-align: right;\">\n",
       "      <th></th>\n",
       "      <th>loss</th>\n",
       "      <th>mse</th>\n",
       "      <th>val_loss</th>\n",
       "      <th>val_mse</th>\n",
       "    </tr>\n",
       "  </thead>\n",
       "  <tbody>\n",
       "    <tr>\n",
       "      <th>0</th>\n",
       "      <td>2.230456e+12</td>\n",
       "      <td>2.230456e+12</td>\n",
       "      <td>2.838051e+11</td>\n",
       "      <td>2.838051e+11</td>\n",
       "    </tr>\n",
       "    <tr>\n",
       "      <th>1</th>\n",
       "      <td>2.230470e+12</td>\n",
       "      <td>2.230470e+12</td>\n",
       "      <td>2.838051e+11</td>\n",
       "      <td>2.838051e+11</td>\n",
       "    </tr>\n",
       "    <tr>\n",
       "      <th>2</th>\n",
       "      <td>2.230478e+12</td>\n",
       "      <td>2.230478e+12</td>\n",
       "      <td>2.838051e+11</td>\n",
       "      <td>2.838051e+11</td>\n",
       "    </tr>\n",
       "    <tr>\n",
       "      <th>3</th>\n",
       "      <td>2.230480e+12</td>\n",
       "      <td>2.230480e+12</td>\n",
       "      <td>2.838051e+11</td>\n",
       "      <td>2.838051e+11</td>\n",
       "    </tr>\n",
       "  </tbody>\n",
       "</table>\n",
       "</div>"
      ],
      "text/plain": [
       "           loss           mse      val_loss       val_mse\n",
       "0  2.230456e+12  2.230456e+12  2.838051e+11  2.838051e+11\n",
       "1  2.230470e+12  2.230470e+12  2.838051e+11  2.838051e+11\n",
       "2  2.230478e+12  2.230478e+12  2.838051e+11  2.838051e+11\n",
       "3  2.230480e+12  2.230480e+12  2.838051e+11  2.838051e+11"
      ]
     },
     "execution_count": 30,
     "metadata": {},
     "output_type": "execute_result"
    }
   ],
   "source": [
    "keras_lstm_pledged_history = pd.DataFrame(history.history)\n",
    "keras_lstm_pledged_history"
   ]
  },
  {
   "cell_type": "code",
   "execution_count": 31,
   "metadata": {},
   "outputs": [
    {
     "name": "stdout",
     "output_type": "stream",
     "text": [
      "489/489 [==============================] - 5s 11ms/step - loss: 283804925952.0000 - mse: 283804925952.0000\n"
     ]
    },
    {
     "data": {
      "text/plain": [
       "[283804925952.0, 283804925952.0]"
      ]
     },
     "execution_count": 31,
     "metadata": {},
     "output_type": "execute_result"
    }
   ],
   "source": [
    "evaluate_model(model, test_padded, y_test['pledged'])"
   ]
  },
  {
   "cell_type": "code",
   "execution_count": 92,
   "metadata": {},
   "outputs": [
    {
     "data": {
      "image/png": "[encoded data removed]",
      "text/plain": [
       "<Figure size 432x288 with 1 Axes>"
      ]
     },
     "metadata": {
      "needs_background": "light"
     },
     "output_type": "display_data"
    }
   ],
   "source": [
    "plot_history(keras_lstm_pledged_history, loss=True)"
   ]
  },
  {
   "cell_type": "markdown",
   "metadata": {},
   "source": [
    "### CNN"
   ]
  },
  {
   "cell_type": "code",
   "execution_count": null,
   "metadata": {},
   "outputs": [],
   "source": [
    "def cnn_model(embeddings, classification=True):\n",
    "    model = Sequential()\n",
    "    model.add(embeddings)\n",
    "    model.add(Conv1D(10, 3, activation='relu', kernel_regularizer=L2(0.1), bias_regularizer=L2(0.9)))\n",
    "    model.add(GlobalMaxPooling1D())\n",
    "    model.add(Dense(1, activation='sigmoid'))\n",
    "\n",
    "    adam_opt = Adam(learning_rate=3e-4)\n",
    "    if classification:\n",
    "        model.compile(loss=\"binary_crossentropy\", optimizer=adam_opt, metrics=[\"accuracy\"])\n",
    "    else: \n",
    "        model.compile(loss=\"mean_squared_error\", optimizer=adam_opt, metrics=[\"mse\"])\n",
    "        \n",
    "    return model "
   ]
  },
  {
   "cell_type": "markdown",
   "metadata": {},
   "source": [
    "#### CNN -  Predict if a project/campaign will be successful or not"
   ]
  },
  {
   "cell_type": "markdown",
   "metadata": {},
   "source": [
    "##### Keras Embeddings "
   ]
  },
  {
   "cell_type": "code",
   "execution_count": null,
   "metadata": {
    "scrolled": false
   },
   "outputs": [],
   "source": [
    "model = cnn_model(embedding_layer_keras)    \n",
    "history = train_model(model, train_padded, test_padded, y_train['state'], y_test['state'])"
   ]
  },
  {
   "cell_type": "code",
   "execution_count": null,
   "metadata": {},
   "outputs": [],
   "source": [
    "keras_cnn_status_history = pd.DataFrame(history.history)\n",
    "keras_cnn_status_history"
   ]
  },
  {
   "cell_type": "code",
   "execution_count": null,
   "metadata": {},
   "outputs": [],
   "source": [
    "evaluate_model(model, test_padded, y_test['state'])"
   ]
  },
  {
   "cell_type": "code",
   "execution_count": null,
   "metadata": {
    "scrolled": true
   },
   "outputs": [],
   "source": [
    "plot_history(history)"
   ]
  },
  {
   "cell_type": "markdown",
   "metadata": {},
   "source": [
    "##### Word2Vec"
   ]
  },
  {
   "cell_type": "code",
   "execution_count": null,
   "metadata": {},
   "outputs": [],
   "source": [
    "model = cnn_model(embedding_layer_w2v)    \n",
    "history = train_model(model, train_padded, test_padded, y_train['state'], y_test['state'])"
   ]
  },
  {
   "cell_type": "code",
   "execution_count": null,
   "metadata": {},
   "outputs": [],
   "source": [
    "w2v_cnn_status_history = pd.DataFrame(history.history)\n",
    "w2v_cnn_status_history"
   ]
  },
  {
   "cell_type": "code",
   "execution_count": null,
   "metadata": {},
   "outputs": [],
   "source": [
    "evaluate_model(model, test_padded, y_test['state'])"
   ]
  },
  {
   "cell_type": "code",
   "execution_count": null,
   "metadata": {},
   "outputs": [],
   "source": [
    "plot_history(history)"
   ]
  },
  {
   "cell_type": "markdown",
   "metadata": {},
   "source": [
    "##### Fasttext"
   ]
  },
  {
   "cell_type": "code",
   "execution_count": null,
   "metadata": {},
   "outputs": [],
   "source": [
    "model = cnn_model(embedding_layer_ft)    \n",
    "history = train_model(model, train_padded, test_padded, y_train['state'], y_test['state'])"
   ]
  },
  {
   "cell_type": "code",
   "execution_count": null,
   "metadata": {},
   "outputs": [],
   "source": [
    "ft_cnn_status_history = pd.DataFrame(history.history)\n",
    "ft_cnn_status_history"
   ]
  },
  {
   "cell_type": "code",
   "execution_count": null,
   "metadata": {},
   "outputs": [],
   "source": [
    "evaluate_model(model, test_padded, y_test['state'])"
   ]
  },
  {
   "cell_type": "code",
   "execution_count": null,
   "metadata": {},
   "outputs": [],
   "source": [
    "plot_history(history)"
   ]
  },
  {
   "cell_type": "markdown",
   "metadata": {},
   "source": [
    "#### CNN - Predict the amount of money collected"
   ]
  },
  {
   "cell_type": "code",
   "execution_count": null,
   "metadata": {},
   "outputs": [],
   "source": [
    "model = lstm_model(embedding_layer_keras, classification=False)    \n",
    "history = train_model(model, train_padded, test_padded, y_train['pledged'], y_test['pledged'])"
   ]
  },
  {
   "cell_type": "code",
   "execution_count": null,
   "metadata": {},
   "outputs": [],
   "source": [
    "evaluate_model(model, test_padded, y_test['pledged'])"
   ]
  },
  {
   "cell_type": "code",
   "execution_count": null,
   "metadata": {},
   "outputs": [],
   "source": [
    "plot_history(history)"
   ]
  },
  {
   "cell_type": "markdown",
   "metadata": {},
   "source": [
    "### References\n",
    "\n",
    "https://radimrehurek.com/gensim/models/word2vec.html\n",
    "\n",
    "https://keras.io/api/\n",
    "\n",
    "https://www.youtube.com/watch?v=j7EB7yeySDw&t=600s&ab_channel=DecisionForest"
   ]
  }
 ],
 "metadata": {
  "colab": {
   "collapsed_sections": [],
   "name": "notebook_lstm.ipynb",
   "provenance": []
  },
  "kernelspec": {
   "display_name": "Python 3",
   "language": "python",
   "name": "python3"
  },
  "language_info": {
   "codemirror_mode": {
    "name": "ipython",
    "version": 3
   },
   "file_extension": ".py",
   "mimetype": "text/x-python",
   "name": "python",
   "nbconvert_exporter": "python",
   "pygments_lexer": "ipython3",
   "version": "3.7.4"
  },
  "metadata": {
   "interpreter": {
    "hash": "ac59ebe37160ed0dfa835113d9b8498d9f09ceb179beaac4002f036b9467c963"
   }
  }
 },
 "nbformat": 4,
 "nbformat_minor": 1
}
