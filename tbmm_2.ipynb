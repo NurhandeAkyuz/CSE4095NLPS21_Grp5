{
 "cells": [
  {
   "cell_type": "markdown",
   "metadata": {},
   "source": [
    "# N-Grams: TBMM"
   ]
  },
  {
   "cell_type": "markdown",
   "metadata": {},
   "source": [
    "Importing needed libraries."
   ]
  },
  {
   "cell_type": "code",
   "execution_count": 27,
   "metadata": {},
   "outputs": [],
   "source": [
    "import os\n",
    "import re\n",
    "from nltk.util import ngrams\n",
    "from nltk.corpus import stopwords \n",
    "# import plotly.express as px"
   ]
  },
  {
   "cell_type": "markdown",
   "metadata": {},
   "source": [
    "Defining the functions to be used. "
   ]
  },
  {
   "cell_type": "code",
   "execution_count": 31,
   "metadata": {},
   "outputs": [],
   "source": [
    "def load_donem_data(donem_number):\n",
    "    \n",
    "    \"\"\"Returns all the text found in a donem directory\"\"\"\n",
    "    \n",
    "    donem_text = ''\n",
    "    donem_dir_path = os.path.join(os.getcwd(), f'NLP/donem{donem_number}') \n",
    "    walks = os.walk(donem_dir_path)\n",
    "    for walk in walks:\n",
    "        path, dirs, files = walk\n",
    "        for file in files:\n",
    "            file_path = os.path.join(path, file)\n",
    "            if not file_path.endswith('txt'): continue  # avoid reading .DS_Store files (for mac users)\n",
    "            with open(file_path, 'r') as f:\n",
    "                donem_text += f.read()\n",
    "    return donem_text \n",
    "\n",
    "\n",
    "def extract_n_grams(donem_number, n_grams):\n",
    "    \n",
    "    \"\"\"Returns n_grams generator given a donem_number and the 'n' value\"\"\"\n",
    "    \n",
    "    donem_text = load_donem_data(donem_number)\n",
    "    n_grams = ngrams(donem_text.split(), n_grams)\n",
    "    return n_grams \n",
    "\n",
    "def process_n_grams():\n",
    "    \"\"\"This function will process the N-grams after they are extracted.\n",
    "        For example, removing the unigrams that consist of only a single letter. \n",
    "    \n",
    "    \"\"\"\n",
    "    pass"
   ]
  },
  {
   "cell_type": "markdown",
   "metadata": {},
   "source": [
    "### Donem<span style=\"color:red;\"> 20<span>"
   ]
  },
  {
   "cell_type": "code",
   "execution_count": 34,
   "metadata": {},
   "outputs": [],
   "source": [
    "unigrams = extract_n_grams(20, 1)\n",
    "bigrams = extract_n_grams(20, 2)\n",
    "trigrams = extract_n_grams(20, 3)"
   ]
  },
  {
   "cell_type": "markdown",
   "metadata": {},
   "source": [
    "### Donem<span style=\"color:red;\"> 21<span>"
   ]
  },
  {
   "cell_type": "markdown",
   "metadata": {},
   "source": [
    "### Donem<span style=\"color:red;\"> 22<span>"
   ]
  },
  {
   "cell_type": "markdown",
   "metadata": {},
   "source": [
    "### Donem<span style=\"color:red;\"> 23<span>"
   ]
  },
  {
   "cell_type": "markdown",
   "metadata": {},
   "source": [
    "### Donem<span style=\"color:red;\"> 24<span>"
   ]
  },
  {
   "cell_type": "markdown",
   "metadata": {},
   "source": [
    "### Donem<span style=\"color:red;\"> 25<span>"
   ]
  },
  {
   "cell_type": "markdown",
   "metadata": {},
   "source": [
    "### Donem<span style=\"color:red;\"> 26<span>"
   ]
  },
  {
   "cell_type": "markdown",
   "metadata": {},
   "source": [
    "### Donem<span style=\"color:red;\"> 27<span>"
   ]
  }
 ],
 "metadata": {
  "kernelspec": {
   "display_name": "Python 3",
   "language": "python",
   "name": "python3"
  },
  "language_info": {
   "codemirror_mode": {
    "name": "ipython",
    "version": 3
   },
   "file_extension": ".py",
   "mimetype": "text/x-python",
   "name": "python",
   "nbconvert_exporter": "python",
   "pygments_lexer": "ipython3",
   "version": "3.7.4"
  }
 },
 "nbformat": 4,
 "nbformat_minor": 4
}
