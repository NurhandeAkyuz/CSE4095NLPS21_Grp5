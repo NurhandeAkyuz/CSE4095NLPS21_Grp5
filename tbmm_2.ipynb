{
 "cells": [
  {
   "cell_type": "markdown",
   "metadata": {},
   "source": [
    "# N-Grams: TBMM"
   ]
  },
  {
   "cell_type": "markdown",
   "metadata": {},
   "source": [
    "Importing needed libraries."
   ]
  },
  {
   "cell_type": "code",
   "execution_count": 71,
   "metadata": {},
   "outputs": [],
   "source": [
    "import os\n",
    "import re\n",
    "from nltk.util import ngrams\n",
    "from nltk import word_tokenize\n",
    "from nltk.corpus import stopwords \n",
    "from nltk.tag import pos_tag\n",
    "import pandas as pd"
   ]
  },
  {
   "cell_type": "markdown",
   "metadata": {},
   "source": [
    "Defining the functions to be used. "
   ]
  },
  {
   "cell_type": "code",
   "execution_count": 210,
   "metadata": {},
   "outputs": [],
   "source": [
    "def clean_text(text):\n",
    "    \n",
    "    \"\"\"This function will process the text and clean it before extracting the collocations\n",
    "    \"\"\"\n",
    "    words=re.sub(\"[IVX]+\\\\.\",\"\", text) #roman numbers\n",
    "    words = re.split(r'\\W+', words)  #punctionation\n",
    "    string_words = ' '.join((item for item in words if not item.isdigit())) #numbers\n",
    "    tokens = [token for token in string_words.split(\" \") if (token != \"\" and len(token)>1)] \n",
    "    return tokens\n",
    "\n",
    "def load_donem_data(donem_number):\n",
    "    \n",
    "    \"\"\"Returns all the text found in a donem directory\"\"\"\n",
    "    \n",
    "    donem_text = ''\n",
    "    donem_dir_path = os.path.join(os.getcwd(), f'corpus/donem{donem_number}') \n",
    "    walks = os.walk(donem_dir_path)\n",
    "    for walk in walks:\n",
    "        path, dirs, files = walk\n",
    "        for file in files:\n",
    "            file_path = os.path.join(path, file)\n",
    "            if not file_path.endswith('txt'): continue  # avoid reading .DS_Store files (for mac users)\n",
    "            with open(file_path, 'r') as f:\n",
    "                donem_text += f.read()\n",
    "                break\n",
    "    return clean_text(donem_text)\n",
    "\n",
    "\n",
    "def tag_collocations(collocations):\n",
    "    \n",
    "    ''' part of speech tagging for all the collocations passed'''\n",
    "    \n",
    "    freq_collocation_tag = []\n",
    "    for collocation in collocations_freqs:\n",
    "        frequency_of_collocation = collocation[1]\n",
    "        tag_of_collocation = pos_tag([collocation[0][0]])[0][1], pos_tag([collocation[0][1]])[0][1]\n",
    "        freq_collocation_tag_tuple = frequency_of_collocation, collocation[0], tag_of_collocation\n",
    "        freq_collocation_tag.append(freq_collocation_tag_tuple)\n",
    "        \n",
    "    return freq_collocation_tag\n",
    "\n",
    "def pos_filter(tagged_collocations, filter_tags_list):\n",
    "    \n",
    "    ''' Takes a set of tuples  containing the tags to be filtered and returns\n",
    "        filtered version of the collocations\n",
    "        e.g. filter_list = set([('NN', 'NN'), ('AN', 'NN')])\n",
    "    '''\n",
    "    filtered_collocations = []\n",
    "    for collocation in tagged_collocations:\n",
    "        tag = collocation[2]\n",
    "        if tag not in filter_tags_list:\n",
    "            filtered_collocations.append(collocation)\n",
    "    print(filtered_collocations)\n",
    "    return filtered_collocations\n",
    "\n",
    "def collocations_by_frequency(donem_number):\n",
    "    \n",
    "    \"\"\"Returns bigrams(collocations) list given a donem_number \"\"\"\n",
    "    \n",
    "    donem_text = load_donem_data(donem_number)\n",
    "    collocations = list(ngrams(donem_text, 2)) # extracting bigrams\n",
    "    collocations_freqs = Counter(collocations)\n",
    "    collocations_freqs = sorted(collocations_freqs.items(), key=lambda kv: kv[1], reverse=True)[:1]\n",
    "    tagged_collocations = tag_collocations(collocations_freqs)\n",
    "    pos_filter_list = set([('NN', 'NA'), ('AN', 'NN')])\n",
    "    filtered_collocations = pos_filter(tagged_collocations, pos_filter_list)\n",
    "    return filtered_collocations\n"
   ]
  },
  {
   "cell_type": "markdown",
   "metadata": {},
   "source": [
    "### Donem<span style=\"color:red;\"> 20<span>"
   ]
  },
  {
   "cell_type": "code",
   "execution_count": 212,
   "metadata": {},
   "outputs": [
    {
     "name": "stdout",
     "output_type": "stream",
     "text": [
      "[(15253, ('Türkiye', 'Büyük'), ('NN', 'NN')), (15135, ('Büyük', 'Millet'), ('NN', 'NN')), (14458, ('Sayın', 'Başkan'), ('NN', 'NN')), (11883, ('Millet', 'Meclisi'), ('NN', 'NN')), (10906, ('soru', 'önergesi'), ('NN', 'NN')), (9785, ('sıralarından', 'alkışlar'), ('NN', 'NN')), (8527, ('BAŞKAN', 'Sayın'), ('NN', 'NN')), (7968, ('Meclisi', 'Başkanlığına'), ('NN', 'NN')), (7759, ('yazılı', 'soru'), ('NN', 'NN')), (6701, ('geliş', 'tarihi'), ('NN', 'NN'))]\n"
     ]
    }
   ],
   "source": [
    "collocations = collocations_by_frequency(20)"
   ]
  },
  {
   "cell_type": "code",
   "execution_count": null,
   "metadata": {},
   "outputs": [],
   "source": []
  },
  {
   "cell_type": "code",
   "execution_count": null,
   "metadata": {},
   "outputs": [],
   "source": []
  },
  {
   "cell_type": "markdown",
   "metadata": {},
   "source": [
    "### Donem<span style=\"color:red;\"> 21<span>"
   ]
  },
  {
   "cell_type": "markdown",
   "metadata": {},
   "source": [
    "### Donem<span style=\"color:red;\"> 22<span>"
   ]
  },
  {
   "cell_type": "markdown",
   "metadata": {},
   "source": [
    "### Donem<span style=\"color:red;\"> 23<span>"
   ]
  },
  {
   "cell_type": "markdown",
   "metadata": {},
   "source": [
    "### Donem<span style=\"color:red;\"> 24<span>"
   ]
  },
  {
   "cell_type": "markdown",
   "metadata": {},
   "source": [
    "### Donem<span style=\"color:red;\"> 25<span>"
   ]
  },
  {
   "cell_type": "markdown",
   "metadata": {},
   "source": [
    "### Donem<span style=\"color:red;\"> 26<span>"
   ]
  },
  {
   "cell_type": "markdown",
   "metadata": {},
   "source": [
    "### Donem<span style=\"color:red;\"> 27<span>"
   ]
  }
 ],
 "metadata": {
  "kernelspec": {
   "display_name": "Python 3",
   "language": "python",
   "name": "python3"
  },
  "language_info": {
   "codemirror_mode": {
    "name": "ipython",
    "version": 3
   },
   "file_extension": ".py",
   "mimetype": "text/x-python",
   "name": "python",
   "nbconvert_exporter": "python",
   "pygments_lexer": "ipython3",
   "version": "3.7.4"
  }
 },
 "nbformat": 4,
 "nbformat_minor": 4
}
