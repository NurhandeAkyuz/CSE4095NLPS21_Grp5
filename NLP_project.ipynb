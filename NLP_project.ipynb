{
 "cells": [
  {
   "cell_type": "markdown",
   "metadata": {},
   "source": [
    "# TBMM Dataset"
   ]
  },
  {
   "cell_type": "markdown",
   "metadata": {},
   "source": [
    "### Importing Libraries"
   ]
  },
  {
   "cell_type": "code",
   "execution_count": null,
   "metadata": {},
   "outputs": [],
   "source": [
    "import os\n",
    "import re\n",
    "from nltk.util import ngrams\n",
    "from nltk.corpus import stopwords \n",
    "import plotly.express as px"
   ]
  },
  {
   "cell_type": "markdown",
   "metadata": {},
   "source": [
    "### Cleaning the Data"
   ]
  },
  {
   "cell_type": "code",
   "execution_count": null,
   "metadata": {},
   "outputs": [],
   "source": [
    "#cleaning data\n",
    "def cleanData_with_stopwords(text):\n",
    "    words=re.sub(\"[IVX]+\\\\.\",\"\", text) #roman numbers\n",
    "    words = re.split(r'\\W+', words)  #punctionation\n",
    "    string_words = ' '.join((item for item in words if not item.isdigit())) #numbers\n",
    "    tokens = [token for token in string_words.split(\" \") if (token != \"\" and len(token)>1)]\n",
    "    tokensList = []\n",
    "    for token in tokens:\n",
    "        tokensList.append(token.lower())\n",
    "    return tokensList"
   ]
  },
  {
   "cell_type": "code",
   "execution_count": null,
   "metadata": {},
   "outputs": [],
   "source": [
    "#cleaning data\n",
    "def cleanData_without_stopwords(text):\n",
    "    words=re.sub(\"[IVX]+\\\\.\",\"\", text) #roman numbers\n",
    "    words = re.split(r'\\W+', words)  #punctionation\n",
    "    string_words = ' '.join((item for item in words if not item.isdigit())) #numbers\n",
    "    stop_words = set(stopwords.words('turkish')) \n",
    "    tokens = [token for token in string_words.split(\" \") if (token != \"\" and len(token)>1 and token not in stop_words)]\n",
    "    tokensList = []\n",
    "    for token in tokens:\n",
    "        tokensList.append(token.lower())\n",
    "    return tokensList"
   ]
  },
  {
   "cell_type": "markdown",
   "metadata": {},
   "source": [
    "### Loading the Data"
   ]
  },
  {
   "cell_type": "code",
   "execution_count": null,
   "metadata": {},
   "outputs": [],
   "source": [
    "#loading the data for each donem according to its number\n",
    "def loadData(donemNumber, stopwords):\n",
    "    donem = os.listdir(f\"/Users/nurhandeakyuz/Downloads/NLP/{donemNumber}\")\n",
    "    for yil in donem:\n",
    "        textFiles = os.listdir(f\"/Users/nurhandeakyuz/Downloads/NLP/{donemNumber}/{yil}\")\n",
    "        for textFile in textFiles: \n",
    "            fileHandler = open(f\"/Users/nurhandeakyuz/Downloads/NLP/{donemNumber}/{yil}/{textFile}\",\"r\")\n",
    "            text = fileHandler.read()\n",
    "            fileHandler.close()\n",
    "            if stopwords:\n",
    "                data = cleanData_with_stopwords(text)\n",
    "            else:\n",
    "                data = cleanData_without_stopwords(text)\n",
    "            return data"
   ]
  },
  {
   "cell_type": "markdown",
   "metadata": {},
   "source": [
    "### Extracting n-grams with Stopwords"
   ]
  },
  {
   "cell_type": "code",
   "execution_count": null,
   "metadata": {},
   "outputs": [],
   "source": [
    "#extracting nGrams\n",
    "def extractNGrams(donemNumber, nGrams, stopwords=True):\n",
    "    data = loadData(donemNumber,stopwords)\n",
    "    result = list(ngrams(data, nGrams))\n",
    "    return result"
   ]
  },
  {
   "cell_type": "markdown",
   "metadata": {},
   "source": [
    "### For Each Donem"
   ]
  },
  {
   "cell_type": "code",
   "execution_count": null,
   "metadata": {},
   "outputs": [],
   "source": [
    "unigram_uniques=[]\n",
    "bigram_uniques=[]\n",
    "trigram_uniques=[]"
   ]
  },
  {
   "cell_type": "markdown",
   "metadata": {},
   "source": [
    "### Donem 20"
   ]
  },
  {
   "cell_type": "code",
   "execution_count": null,
   "metadata": {},
   "outputs": [],
   "source": [
    "unigram_20 = extractNGrams('donem20', 1)\n",
    "bigram_20 = extractNGrams('donem20', 2)\n",
    "trigram_20 = extractNGrams('donem20', 3)"
   ]
  },
  {
   "cell_type": "code",
   "execution_count": null,
   "metadata": {},
   "outputs": [],
   "source": [
    "# NOTE : STOP WORD REFERENCE IS BAD! ONLY REMOVING \"ve\"\n",
    "unigram_20_WS = extractNGrams('donem20', 1, stopwords= False)\n",
    "frequencyForUnigram20_WS = {x:unigram_20_WS.count(x) for x in unigram_20_WS}\n",
    "topFrequencyUnigram20_WS = sorted(frequencyForUnigram20_WS.items(), key=lambda kv: kv[1])[-10:]"
   ]
  },
  {
   "cell_type": "code",
   "execution_count": null,
   "metadata": {},
   "outputs": [],
   "source": [
    "topFrequencyUnigram20_WS"
   ]
  },
  {
   "cell_type": "code",
   "execution_count": null,
   "metadata": {},
   "outputs": [],
   "source": [
    "### Unique words within different Ngrams in DONEM 20\n",
    "frequencyForUnigram20 = {x:unigram_20.count(x) for x in unigram_20}\n",
    "frequencyForBigram20 = {x:bigram_20.count(x) for x in bigram_20}\n",
    "frequencyForTrigram20 = {x:trigram_20.count(x) for x in trigram_20}\n",
    "unique_unigram20= (sum(value == 1 for value in frequencyForUnigram20.values()))\n",
    "unigram_uniques.append(unique_unigram20)\n",
    "unique_bigram20= (sum(value == 1 for value in frequencyForBigram20.values()))\n",
    "bigram_uniques.append(unique_bigram20)\n",
    "unique_trigram20= (sum(value == 1 for value in frequencyForTrigram20.values()))\n",
    "trigram_uniques.append(unique_trigram20)"
   ]
  },
  {
   "cell_type": "code",
   "execution_count": null,
   "metadata": {},
   "outputs": [],
   "source": [
    "#Plotting the top 10 frequent words in Unigram _ donem20\n",
    "topFrequencyUnigram20_S = sorted(frequencyForUnigram20.items(), key=lambda kv: kv[1])[-10:]\n",
    "wordsUnigram20 = []\n",
    "freqUnigram20 = []\n",
    "for elem1,elem2 in topFrequencyUnigram20:\n",
    "        freqUnigram20.append(elem2)\n",
    "        for i in elem1:\n",
    "            wordsUnigram20.append(i)\n",
    "wordsUnigram20 = wordsUnigram20[::-1]\n",
    "freqUnigram20 = freqUnigram20[::-1]\n",
    "import plotly.express as px\n",
    "fig = px.bar(x=wordsUnigram20, y=freqUnigram20, labels={'x':'words', 'y':'frequency of words'}, \n",
    "             title='Top 10 Frequent Words for Unigrams', color_discrete_sequence=['indianred'])\n",
    "fig.show()"
   ]
  },
  {
   "cell_type": "code",
   "execution_count": null,
   "metadata": {},
   "outputs": [],
   "source": [
    "## Top 10 frequent words in bigram _ donem20\n",
    "frequencyForBigram20 = {x:bigram_20.count(x) for x in bigram_20}\n",
    "topFrequencyBigram20 = sorted(frequencyForBigram20.items(), key=lambda kv: kv[1])[-10:]"
   ]
  },
  {
   "cell_type": "markdown",
   "metadata": {},
   "source": [
    "### Donem 21"
   ]
  },
  {
   "cell_type": "code",
   "execution_count": null,
   "metadata": {},
   "outputs": [],
   "source": [
    "unigram_21 = extractNGrams('donem21', 1)\n",
    "bigram_21 = extractNGrams('donem21', 2)\n",
    "trigram_21 = extractNGrams('donem21', 3)"
   ]
  },
  {
   "cell_type": "code",
   "execution_count": null,
   "metadata": {},
   "outputs": [],
   "source": [
    "### Unique words within different Ngrams in DONEM 21\n",
    "frequencyForUnigram21 = {x:unigram_21.count(x) for x in unigram_21}\n",
    "frequencyForBigram21= {x:bigram_21.count(x) for x in bigram_21}\n",
    "frequencyForTrigram21 = {x:trigram_21.count(x) for x in trigram_21}\n",
    "unique_unigram21= (sum(value == 1 for value in frequencyForUnigram21.values()))\n",
    "unigram_uniques.append(unique_unigram21)\n",
    "unique_bigram21= (sum(value == 1 for value in frequencyForBigram21.values()))\n",
    "bigram_uniques.append(unique_bigram21)\n",
    "unique_trigram21= (sum(value == 1 for value in frequencyForTrigram21.values()))\n",
    "trigram_uniques.append(unique_trigram21)"
   ]
  },
  {
   "cell_type": "code",
   "execution_count": null,
   "metadata": {},
   "outputs": [],
   "source": [
    "## Top 10 frequent words in unigram _ donem21\n",
    "frequencyForUnigram21 = {x:unigram_21.count(x) for x in unigram_21}\n",
    "topFrequencyUnigram21 = sorted(frequencyForUnigram21.items(), key=lambda kv: kv[1])[-10:]"
   ]
  },
  {
   "cell_type": "code",
   "execution_count": null,
   "metadata": {},
   "outputs": [],
   "source": [
    "## Top 10 frequent words in bigram _ donem21\n",
    "frequencyForBigram21 = {x:bigram_21.count(x) for x in bigram_21}\n",
    "topFrequencyBigram21 = sorted(frequencyForBigram21.items(), key=lambda kv: kv[1])[-10:]"
   ]
  },
  {
   "cell_type": "code",
   "execution_count": null,
   "metadata": {},
   "outputs": [],
   "source": [
    "## Top 10 frequent words in unigram _ donem21\n",
    "frequencyForTrigram21 = {x:trigram_21.count(x) for x in trigram_21}\n",
    "topFrequencyTrigram21 = sorted(frequencyForTrigram21.items(), key=lambda kv: kv[1])[-10:]"
   ]
  },
  {
   "cell_type": "markdown",
   "metadata": {},
   "source": [
    "### Donem 22"
   ]
  },
  {
   "cell_type": "code",
   "execution_count": null,
   "metadata": {},
   "outputs": [],
   "source": [
    "unigram_22 = extractNGrams('donem22', 1)\n",
    "bigram_22 = extractNGrams('donem22', 2)\n",
    "trigram_22 = extractNGrams('donem22', 3)"
   ]
  },
  {
   "cell_type": "code",
   "execution_count": null,
   "metadata": {},
   "outputs": [],
   "source": [
    "### Unique words within different Ngrams in DONEM 22\n",
    "frequencyForUnigram22 = {x:unigram_22.count(x) for x in unigram_22}\n",
    "frequencyForBigram22 = {x:bigram_22.count(x) for x in bigram_22}\n",
    "frequencyForTrigram22 = {x:trigram_22.count(x) for x in trigram_22}\n",
    "unique_unigram22= (sum(value == 1 for value in frequencyForUnigram22.values()))\n",
    "unigram_uniques.append(unique_unigram22)\n",
    "unique_bigram22= (sum(value == 1 for value in frequencyForBigram22.values()))\n",
    "bigram_uniques.append(unique_bigram22)\n",
    "unique_trigram22= (sum(value == 1 for value in frequencyForTrigram22.values()))\n",
    "trigram_uniques.append(unique_trigram22)"
   ]
  },
  {
   "cell_type": "code",
   "execution_count": null,
   "metadata": {},
   "outputs": [],
   "source": [
    "## Top 10 frequent words in unigram _ donem22\n",
    "frequencyForUnigram22 = {x:unigram_22.count(x) for x in unigram_22}\n",
    "topFrequencyUnigram22 = sorted(frequencyForUnigram22.items(), key=lambda kv: kv[1])[-10:]"
   ]
  },
  {
   "cell_type": "code",
   "execution_count": null,
   "metadata": {},
   "outputs": [],
   "source": [
    "## Top 10 frequent words in bigram _ donem22\n",
    "frequencyForBigram22 = {x:bigram_22.count(x) for x in bigram_22}\n",
    "topFrequencyBigram22 = sorted(frequencyForBigram22.items(), key=lambda kv: kv[1])[-10:]"
   ]
  },
  {
   "cell_type": "code",
   "execution_count": null,
   "metadata": {},
   "outputs": [],
   "source": [
    "## Top 10 frequent words in trigram _ donem22\n",
    "frequencyForTrigram22 = {x:trigram_22.count(x) for x in trigram_22}\n",
    "topFrequencyTrigram22 = sorted(frequencyForTrigram22.items(), key=lambda kv: kv[1])[-10:]"
   ]
  },
  {
   "cell_type": "markdown",
   "metadata": {},
   "source": [
    "### Donem 23"
   ]
  },
  {
   "cell_type": "code",
   "execution_count": null,
   "metadata": {},
   "outputs": [],
   "source": [
    "unigram_23 = extractNGrams('donem23', 1)\n",
    "bigram_23 = extractNGrams('donem23', 2)\n",
    "trigram_23 = extractNGrams('donem23', 3)"
   ]
  },
  {
   "cell_type": "code",
   "execution_count": null,
   "metadata": {},
   "outputs": [],
   "source": [
    "### Unique words within different Ngrams in DONEM 23\n",
    "frequencyForUnigram23 = {x:unigram_23.count(x) for x in unigram_23}\n",
    "frequencyForBigram23 = {x:bigram_23.count(x) for x in bigram_23}\n",
    "frequencyForTrigram23 = {x:trigram_23.count(x) for x in trigram_23}\n",
    "unique_unigram23= (sum(value == 1 for value in frequencyForUnigram23.values()))\n",
    "unigram_uniques.append(unique_unigram23)\n",
    "unique_bigram23= (sum(value == 1 for value in frequencyForBigram23.values()))\n",
    "bigram_uniques.append(unique_bigram23)\n",
    "unique_trigram23= (sum(value == 1 for value in frequencyForTrigram23.values()))\n",
    "trigram_uniques.append(unique_trigram23)"
   ]
  },
  {
   "cell_type": "code",
   "execution_count": null,
   "metadata": {},
   "outputs": [],
   "source": [
    "## Top 10 frequent words in unigram _ donem23\n",
    "frequencyForUnigram23 = {x:unigram_23.count(x) for x in unigram_23}\n",
    "topFrequencyUnigram23 = sorted(frequencyForUnigram23.items(), key=lambda kv: kv[1])[-10:]"
   ]
  },
  {
   "cell_type": "code",
   "execution_count": null,
   "metadata": {},
   "outputs": [],
   "source": [
    "## Top 10 frequent words in bigram _ donem23\n",
    "frequencyForBigram23 = {x:bigram_23.count(x) for x in bigram_23}\n",
    "topFrequencyBigram23 = sorted(frequencyForBigram23.items(), key=lambda kv: kv[1])[-10:]"
   ]
  },
  {
   "cell_type": "code",
   "execution_count": null,
   "metadata": {},
   "outputs": [],
   "source": [
    "## Top 10 frequent words in trigram _ donem23\n",
    "frequencyForTrigram23 = {x:trigram_23.count(x) for x in trigram_23}\n",
    "topFrequencyTrigram23 = sorted(frequencyForTrigram23.items(), key=lambda kv: kv[1])[-10:]"
   ]
  },
  {
   "cell_type": "markdown",
   "metadata": {},
   "source": [
    "### Donem 24"
   ]
  },
  {
   "cell_type": "code",
   "execution_count": null,
   "metadata": {},
   "outputs": [],
   "source": [
    "unigram_24 = extractNGrams('donem24', 1)\n",
    "bigram_24 = extractNGrams('donem24', 2)\n",
    "trigram_24 = extractNGrams('donem24', 3)"
   ]
  },
  {
   "cell_type": "code",
   "execution_count": null,
   "metadata": {},
   "outputs": [],
   "source": [
    "### Unique words within different Ngrams in DONEM 24\n",
    "frequencyForUnigram24 = {x:unigram_24.count(x) for x in unigram_24}\n",
    "frequencyForBigram24 = {x:bigram_24.count(x) for x in bigram_24}\n",
    "frequencyForTrigram24 = {x:trigram_24.count(x) for x in trigram_24}\n",
    "unique_unigram24= (sum(value == 1 for value in frequencyForUnigram24.values()))\n",
    "unigram_uniques.append(unique_unigram24)\n",
    "unique_bigram24= (sum(value == 1 for value in frequencyForBigram24.values()))\n",
    "bigram_uniques.append(unique_bigram24)\n",
    "unique_trigram24= (sum(value == 1 for value in frequencyForTrigram24.values()))\n",
    "trigram_uniques.append(unique_trigram24)"
   ]
  },
  {
   "cell_type": "code",
   "execution_count": null,
   "metadata": {},
   "outputs": [],
   "source": [
    "## Top 10 frequent words in unigram _ donem24\n",
    "frequencyForUnigram24 = {x:unigram_24.count(x) for x in unigram_24}\n",
    "topFrequencyUnigram24 = sorted(frequencyForUnigram24.items(), key=lambda kv: kv[1])[-10:]"
   ]
  },
  {
   "cell_type": "code",
   "execution_count": null,
   "metadata": {},
   "outputs": [],
   "source": [
    "## Top 10 frequent words in bigram _ donem24\n",
    "frequencyForBigram24 = {x:bigram_24.count(x) for x in bigram_24}\n",
    "topFrequencyBigram24 = sorted(frequencyForBigram24.items(), key=lambda kv: kv[1])[-10:]"
   ]
  },
  {
   "cell_type": "code",
   "execution_count": null,
   "metadata": {},
   "outputs": [],
   "source": [
    "## Top 10 frequent words in trigram _ donem24\n",
    "frequencyForTrigram24 = {x:trigram_24.count(x) for x in trigram_24}\n",
    "topFrequencyTrigram24 = sorted(frequencyForTrigram24.items(), key=lambda kv: kv[1])[-10:]"
   ]
  },
  {
   "cell_type": "markdown",
   "metadata": {},
   "source": [
    "### Donem 25"
   ]
  },
  {
   "cell_type": "code",
   "execution_count": null,
   "metadata": {},
   "outputs": [],
   "source": [
    "unigram_25 = extractNGrams('donem25', 1)\n",
    "bigram_25 = extractNGrams('donem25', 2)\n",
    "trigram_25 = extractNGrams('donem25', 3)"
   ]
  },
  {
   "cell_type": "code",
   "execution_count": null,
   "metadata": {},
   "outputs": [],
   "source": [
    "### Unique words within different Ngrams in DONEM 25\n",
    "frequencyForUnigram25 = {x:unigram_25.count(x) for x in unigram_25}\n",
    "frequencyForBigram25 = {x:bigram_25.count(x) for x in bigram_25}\n",
    "frequencyForTrigram25 = {x:trigram_25.count(x) for x in trigram_25}\n",
    "unique_unigram25= (sum(value == 1 for value in frequencyForUnigram25.values()))\n",
    "unigram_uniques.append(unique_unigram25)\n",
    "unique_bigram25= (sum(value == 1 for value in frequencyForBigram25.values()))\n",
    "bigram_uniques.append(unique_bigram25)\n",
    "unique_trigram25= (sum(value == 1 for value in frequencyForTrigram25.values()))\n",
    "trigram_uniques.append(unique_trigram25)"
   ]
  },
  {
   "cell_type": "code",
   "execution_count": null,
   "metadata": {},
   "outputs": [],
   "source": [
    "## Top 10 frequent words in unigram _ donem25\n",
    "frequencyForUnigram25 = {x:unigram_25.count(x) for x in unigram_25}\n",
    "topFrequencyUnigram25 = sorted(frequencyForUnigram25.items(), key=lambda kv: kv[1])[-10:]"
   ]
  },
  {
   "cell_type": "code",
   "execution_count": null,
   "metadata": {},
   "outputs": [],
   "source": [
    "## Top 10 frequent words in bigram _ donem25\n",
    "frequencyForBigram25 = {x:bigram_25.count(x) for x in bigram_25}\n",
    "topFrequencyBigram25 = sorted(frequencyForBigram25.items(), key=lambda kv: kv[1])[-10:]"
   ]
  },
  {
   "cell_type": "code",
   "execution_count": null,
   "metadata": {},
   "outputs": [],
   "source": [
    "## Top 10 frequent words in trigram _ donem25\n",
    "frequencyForTrigram25 = {x:trigram_25.count(x) for x in trigram_25}\n",
    "topFrequencyTrigram25 = sorted(frequencyForTrigram25.items(), key=lambda kv: kv[1])[-10:]"
   ]
  },
  {
   "cell_type": "markdown",
   "metadata": {},
   "source": [
    "### Donem 26"
   ]
  },
  {
   "cell_type": "code",
   "execution_count": null,
   "metadata": {},
   "outputs": [],
   "source": [
    "unigram_26 = extractNGrams('donem26', 1)\n",
    "bigram_26 = extractNGrams('donem26', 2)\n",
    "trigram_26 = extractNGrams('donem26', 3)"
   ]
  },
  {
   "cell_type": "code",
   "execution_count": null,
   "metadata": {},
   "outputs": [],
   "source": [
    "### Unique words within different Ngrams in DONEM 26\n",
    "frequencyForUnigram26 = {x:unigram_20.count(x) for x in unigram_26}\n",
    "frequencyForBigram26 = {x:bigram_20.count(x) for x in bigram_26}\n",
    "frequencyForTrigram26 = {x:trigram_20.count(x) for x in trigram_26}\n",
    "unique_unigram26= (sum(value == 1 for value in frequencyForUnigram26.values()))\n",
    "unigram_uniques.append(unique_unigram26)\n",
    "unique_bigram26= (sum(value == 1 for value in frequencyForBigram26.values()))\n",
    "bigram_uniques.append(unique_bigram26)\n",
    "unique_trigram26= (sum(value == 1 for value in frequencyForTrigram26.values()))\n",
    "trigram_uniques.append(unique_trigram26)"
   ]
  },
  {
   "cell_type": "code",
   "execution_count": null,
   "metadata": {},
   "outputs": [],
   "source": [
    "## Top 10 frequent words in unigram _ donem26\n",
    "frequencyForUnigram26 = {x:unigram_26.count(x) for x in unigram_26}\n",
    "topFrequencyUnigram26 = sorted(frequencyForUnigram26.items(), key=lambda kv: kv[1])[-10:]"
   ]
  },
  {
   "cell_type": "code",
   "execution_count": null,
   "metadata": {},
   "outputs": [],
   "source": [
    "## Top 10 frequent words in bigram _ donem26\n",
    "frequencyForBigram26 = {x:bigram_26.count(x) for x in bigram_26}\n",
    "topFrequencyBigram26 = sorted(frequencyForBigram26.items(), key=lambda kv: kv[1])[-10:]"
   ]
  },
  {
   "cell_type": "code",
   "execution_count": null,
   "metadata": {},
   "outputs": [],
   "source": [
    "## Top 10 frequent words in trigram _ donem26\n",
    "frequencyForTrigram26 = {x:trigram_26.count(x) for x in trigram_26}\n",
    "topFrequencyTrigram26 = sorted(frequencyForTrigram26.items(), key=lambda kv: kv[1])[-10:]"
   ]
  },
  {
   "cell_type": "markdown",
   "metadata": {},
   "source": [
    "### Donem 27"
   ]
  },
  {
   "cell_type": "code",
   "execution_count": null,
   "metadata": {},
   "outputs": [],
   "source": [
    "\n",
    "unigram_27 = extractNGrams('donem27', 1)\n",
    "bigram_27 = extractNGrams('donem27', 2)\n",
    "trigram_27 = extractNGrams('donem27', 3)"
   ]
  },
  {
   "cell_type": "code",
   "execution_count": null,
   "metadata": {},
   "outputs": [],
   "source": [
    "### Unique words within different Ngrams in DONEM 27\n",
    "frequencyForUnigram27 = {x:unigram_27.count(x) for x in unigram_27}\n",
    "frequencyForBigram27 = {x:bigram_27.count(x) for x in bigram_27}\n",
    "frequencyForTrigram27 = {x:trigram_27.count(x) for x in trigram_27}\n",
    "unique_unigram27= (sum(value == 1 for value in frequencyForUnigram27.values()))\n",
    "unigram_uniques.append(unique_unigram27)\n",
    "unique_bigram27= (sum(value == 1 for value in frequencyForBigram27.values()))\n",
    "bigram_uniques.append(unique_bigram27)\n",
    "unique_trigram27= (sum(value == 1 for value in frequencyForTrigram27.values()))\n",
    "trigram_uniques.append(unique_trigram27)"
   ]
  },
  {
   "cell_type": "code",
   "execution_count": null,
   "metadata": {},
   "outputs": [],
   "source": [
    "## Top 10 frequent words in unigram _ donem27\n",
    "frequencyForUnigram27 = {x:unigram_27.count(x) for x in unigram_27}\n",
    "topFrequencyUnigram27 = sorted(frequencyForUnigram27.items(), key=lambda kv: kv[1])[-10:]"
   ]
  },
  {
   "cell_type": "code",
   "execution_count": null,
   "metadata": {},
   "outputs": [],
   "source": [
    "## Top 10 frequent words in bigram _ donem27\n",
    "frequencyForBigram27 = {x:bigram_27.count(x) for x in bigram_27}\n",
    "topFrequencyBigram27 = sorted(frequencyForBigram27.items(), key=lambda kv: kv[1])[-10:]"
   ]
  },
  {
   "cell_type": "code",
   "execution_count": null,
   "metadata": {},
   "outputs": [],
   "source": [
    "## Top 10 frequent words in trigram _ donem27\n",
    "frequencyForTrigram27 = {x:trigram_27.count(x) for x in trigram_27}\n",
    "topFrequencyTrigram27 = sorted(frequencyForTrigram27.items(), key=lambda kv: kv[1])[-10:]"
   ]
  },
  {
   "cell_type": "markdown",
   "metadata": {},
   "source": [
    "## Comparing The Unique Words In each Donem"
   ]
  },
  {
   "cell_type": "code",
   "execution_count": null,
   "metadata": {},
   "outputs": [],
   "source": [
    "import plotly.graph_objects as go\n",
    "\n",
    "\n",
    "fig = go.Figure()\n",
    "fig.add_trace(go.Bar(x=y,\n",
    "                y=unigram_uniques,\n",
    "                name='unigram_uniques',\n",
    "                marker_color='rgb(155, 83, 109)'\n",
    "                ))\n",
    "fig.add_trace(go.Bar(x=y,\n",
    "                y=bigram_uniques,\n",
    "                name='bigram_uniques',\n",
    "                marker_color='rgb(229, 204, 255)'\n",
    "                ))\n",
    "fig.add_trace(go.Bar(x=y,\n",
    "                y=trigram_uniques,\n",
    "                name='trigram_uniques',\n",
    "                marker_color='rgb(0, 204, 204)'\n",
    "                ))\n",
    "\n",
    "fig.update_layout(\n",
    "    title='Uniques of each Ngram',\n",
    "    xaxis_tickfont_size=14,\n",
    "    yaxis=dict(\n",
    "        title='Total number of uniques',\n",
    "        titlefont_size=16,\n",
    "        tickfont_size=14,\n",
    "    ),\n",
    "    legend=dict(\n",
    "        x=1,\n",
    "        y=1.0,\n",
    "        bgcolor='rgba(255, 255, 255, 0)',\n",
    "        bordercolor='rgba(255, 255, 255, 0)'\n",
    "    ),\n",
    "    barmode='group',\n",
    "    bargap=0.15, # gap between bars of adjacent location coordinates.\n",
    "    bargroupgap=0.1 # gap between bars of the same location coordinate.\n",
    ")\n",
    "fig.show()"
   ]
  },
  {
   "cell_type": "markdown",
   "metadata": {},
   "source": [
    "### For Whole Corpus"
   ]
  },
  {
   "cell_type": "code",
   "execution_count": null,
   "metadata": {},
   "outputs": [],
   "source": [
    "Unigram_corpus = unigram_20+unigram_21+unigram_22+unigram_23+unigram_24+unigram_25+unigram_26+unigram_27\n",
    "Bigram_corpus = bigram_20+bigram_21+bigram_22+bigram_23+bigram_24+bigram_25+bigram_26+bigram_27\n",
    "Trigram_corpus = trigram_20+trigram_21+trigram_22+trigram_23+trigram_24+trigram_25+trigram_26+trigram_27"
   ]
  },
  {
   "cell_type": "markdown",
   "metadata": {},
   "source": [
    "### Plotting the top 10 frequent words in the whole corpus"
   ]
  },
  {
   "cell_type": "code",
   "execution_count": null,
   "metadata": {},
   "outputs": [],
   "source": [
    "frequencyForUnigram_corpus = {x:Unigram_corpus.count(x) for x in Unigram_corpus}\n",
    "topFrequencyUnigram_corpus = sorted(frequencyForUnigram_corpus.items(), key=lambda kv: kv[1])[-10:]\n",
    "wordsUnigramCorpus = []\n",
    "freqUnigramCorpus = []\n",
    "for elem1,elem2 in topFrequencyUnigram_corpus:\n",
    "        freqUnigramCorpus.append(elem2)\n",
    "        for i in elem1:\n",
    "            wordsUnigramCorpus.append(i)\n",
    "wordsUnigramCorpus = wordsUnigramCorpus[::-1]\n",
    "freqUnigramCorpus = freqUnigramCorpus[::-1]\n",
    "fig = px.bar(x=wordsUnigramCorpus, y=freqUnigramCorpus, labels={'x':'words', 'y':'frequency of words'}, \n",
    "             title='Top 10 Frequent Words for Unigrams', color_discrete_sequence=['indianred'])\n",
    "fig.show()"
   ]
  }
 ],
 "metadata": {
  "kernelspec": {
   "display_name": "Python 3",
   "language": "python",
   "name": "python3"
  },
  "language_info": {
   "codemirror_mode": {
    "name": "ipython",
    "version": 3
   },
   "file_extension": ".py",
   "mimetype": "text/x-python",
   "name": "python",
   "nbconvert_exporter": "python",
   "pygments_lexer": "ipython3",
   "version": "3.7.4"
  }
 },
 "nbformat": 4,
 "nbformat_minor": 2
}
