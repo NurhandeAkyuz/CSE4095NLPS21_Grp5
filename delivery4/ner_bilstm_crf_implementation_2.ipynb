{
  "nbformat": 4,
  "nbformat_minor": 0,
  "metadata": {
    "colab": {
      "name": "ner_bilstm_crf_implementation_2.ipynb",
      "provenance": []
    },
    "kernelspec": {
      "name": "python3",
      "display_name": "Python 3"
    },
    "language_info": {
      "name": "python"
    }
  },
  "cells": [
    {
      "cell_type": "code",
      "metadata": {
        "id": "-clWsd3Vyed5"
      },
      "source": [
        "!pip uninstall tensorflow\n",
        "!pip uninstall keras\n",
        "!pip install keras==2.2.4\n",
        "!pip install tensorflow==1.15.0\n",
        "!pip install git+https://www.github.com/keras-team/keras-contrib.git\n",
        "!pip install h5py\n",
        "!pip install pickle5"
      ],
      "execution_count": null,
      "outputs": []
    },
    {
      "cell_type": "code",
      "metadata": {
        "id": "GVl3BJDVyPqk",
        "colab": {
          "base_uri": "https://localhost:8080/"
        },
        "outputId": "b2a90b66-2e7f-4899-c8e4-05e8bbdc4628"
      },
      "source": [
        "import numpy as np\n",
        "from collections import Counter\n",
        "from keras.preprocessing.sequence import pad_sequences\n",
        "import pickle5 as pickle\n",
        "import platform\n",
        "import os\n",
        "import pandas as pd\n",
        "from future.utils import iteritems\n",
        "from keras.utils import to_categorical\n",
        "from sklearn.model_selection import train_test_split"
      ],
      "execution_count": null,
      "outputs": [
        {
          "output_type": "stream",
          "text": [
            "Using TensorFlow backend.\n"
          ],
          "name": "stderr"
        }
      ]
    },
    {
      "cell_type": "code",
      "metadata": {
        "colab": {
          "base_uri": "https://localhost:8080/"
        },
        "id": "-S2cM05wzauu",
        "outputId": "341e0ca2-574e-4e71-c981-bf716284333b"
      },
      "source": [
        "from google.colab import drive\n",
        "drive.mount(\"content/\")"
      ],
      "execution_count": null,
      "outputs": [
        {
          "output_type": "stream",
          "text": [
            "Mounted at content/\n"
          ],
          "name": "stdout"
        }
      ]
    },
    {
      "cell_type": "code",
      "metadata": {
        "id": "4U-g5z3rz1Wa"
      },
      "source": [
        "def get_path(*args):\n",
        "    spec_path = os.sep.join(args)\n",
        "    return os.path.join(os.getcwd(), spec_path)"
      ],
      "execution_count": null,
      "outputs": []
    },
    {
      "cell_type": "code",
      "metadata": {
        "colab": {
          "base_uri": "https://localhost:8080/"
        },
        "id": "Oi1DXog9zy0n",
        "outputId": "897f843f-8109-4621-93f1-3321589cfe47"
      },
      "source": [
        "sentences_path = get_path(\"content\",\"MyDrive\",\"sentences.txt\")\n",
        "labels_path = get_path(\"content\",\"MyDrive\",\"labels.txt\")\n",
        "\n",
        "if sentences_path:\n",
        "  print(f\"Sentences exist -> {sentences_path}\")\n",
        "if labels_path:\n",
        "  print(f\"Labels exist -> {labels_path}\")"
      ],
      "execution_count": null,
      "outputs": [
        {
          "output_type": "stream",
          "text": [
            "Sentences exist -> /content/content/MyDrive/sentences.txt\n",
            "Labels exist -> /content/content/MyDrive/labels.txt\n"
          ],
          "name": "stdout"
        }
      ]
    },
    {
      "cell_type": "code",
      "metadata": {
        "colab": {
          "base_uri": "https://localhost:8080/"
        },
        "id": "OXvQHC1h4wjd",
        "outputId": "9b8eead1-67f5-4405-e689-02b3b5a397f9"
      },
      "source": [
        "words = [\"ali\",\"veli\",\"bla\",\"bla\"]\n",
        "set_words = set(words)\n",
        "print(set_words)"
      ],
      "execution_count": null,
      "outputs": [
        {
          "output_type": "stream",
          "text": [
            "{'ali', 'veli', 'bla'}\n"
          ],
          "name": "stdout"
        }
      ]
    },
    {
      "cell_type": "code",
      "metadata": {
        "id": "mPSvmd1zyNbK"
      },
      "source": [
        "# load and process data\n",
        "\n",
        "def parse_data(will_parsed_row_of_corpus):\n",
        "\n",
        "  file_path = get_path(\"content\",\"MyDrive\",\"ner_data_set.DUMP\") \n",
        "\n",
        "  f = open(file_path, \"r\")\n",
        "\n",
        "  line_count = 0\n",
        "\n",
        "  data = dict()\n",
        "  data[\"sentence_id\"] = list()\n",
        "  data[\"tag\"] = list()\n",
        "  data[\"word\"] = list()\n",
        "\n",
        "  sentence_id_arr = data[\"sentence_id\"]\n",
        "  tag_arr = data[\"tag\"]\n",
        "  word_arr = data[\"word\"]\n",
        "\n",
        "\n",
        "  for line in f.readlines():\n",
        "\n",
        "    if line_count > will_parsed_row_of_corpus:\n",
        "      break\n",
        "\n",
        "    line_count += 1\n",
        "    # each line seperated by ht (horizontal tabs)\n",
        "    splitted = line.split(\"\\t\")\n",
        "    \n",
        "    if len(splitted) ==3:\n",
        "      tag_split = splitted[1].split(\" \")\n",
        "      word_split = splitted[2].split(\" \")\n",
        "    \n",
        "      for tag, word in zip(tag_split, word_split):\n",
        "          word = word.lower()\n",
        "          word = word.strip()\n",
        "          if word[len(word)-1] == \"\\n\":\n",
        "              word = word[:-1]\n",
        "          \n",
        "          sentence_id_arr.append(line_count)\n",
        "          tag_arr.append(tag)\n",
        "          word_arr.append(word)\n",
        "\n",
        "  df = pd.DataFrame(data, columns=[\"sentence_id\", \"tag\", \"word\"])\n",
        "\n",
        "  print(df.head())\n",
        "  print(f\"data shape -> {df.shape[0]}\")\n",
        "\n",
        "  return df\n",
        "\n",
        "class SentenceGetter(object):\n",
        "    \n",
        "    def __init__(self, dataset):\n",
        "        self.n_sent = 1\n",
        "        self.dataset = dataset\n",
        "        self.empty = False\n",
        "        agg_func = lambda s: [(w, t) for w,t in zip(s[\"word\"].values.tolist(),\n",
        "                                                        s[\"tag\"].values.tolist())]\n",
        "        self.grouped = self.dataset.groupby(\"sentence_id\").apply(agg_func)\n",
        "        self.sentences = [s for s in self.grouped]\n",
        "    \n",
        "    def get_next(self):\n",
        "        try:\n",
        "            s = self.grouped[\"Sentence: {}\".format(self.n_sent)]\n",
        "            self.n_sent += 1\n",
        "            return s\n",
        "        except:\n",
        "            return None\n",
        "\n",
        "\n",
        "\n",
        "def analyze_and_preprocess(df, test_size=0.2):\n",
        "  global max_len_seq, vocabulary, number_of_words, number_of_tags, tags, word_to_ids, tag_to_ids, ids_to_tags\n",
        "  \n",
        "  # creating sentence sequences with tags from data (preprocess)\n",
        "  sentences = SentenceGetter(df).sentences\n",
        "  print(f\"Number of sentences in data set {len(sentences)}\")\n",
        "  print(sentences[10])\n",
        "\n",
        "  # it should be static because when we split for just testing max length might be different\n",
        "  # and it will produce error while padding and test will not be finish correctly \n",
        "  # I set it 100 because in TBMM corpus there might be longer sentences than this corpus includes.\n",
        "  max_len_seq = 200\n",
        "\n",
        "  vocabulary = list(set(df[\"word\"].values))\n",
        "  vocabulary.append(\"ENDPAD\")\n",
        "\n",
        "  number_of_words = len(vocabulary) \n",
        "\n",
        "  tags = list(set(df[\"tag\"].values))\n",
        "  print(tags)\n",
        "  number_of_tags = len(tags)\n",
        "\n",
        "\n",
        "  # creating index dictionaries for words and tags\n",
        "  word_to_ids = {w: i for i, w in enumerate(vocabulary)}\n",
        "  tag_to_ids = {t: i for i, t in enumerate(tags)}\n",
        "  ids_to_tags = {v: k for k, v in iteritems(tag_to_ids)}\n",
        "\n",
        "  # fill with padding value (ENDPAD) until being equal all sequence size with longest sequence\n",
        "  X = [[word_to_ids[w[0]] for w in s] for s in sentences]\n",
        "  X = pad_sequences(maxlen=max_len_seq, sequences=X, padding=\"post\",value=number_of_words - 1)\n",
        "\n",
        "  # fill with padding value (O) until being equal all sequence size with longest sequence\n",
        "  y_id = [[tag_to_ids[w[1]] for w in s] for s in sentences]\n",
        "  y = pad_sequences(maxlen=max_len_seq, sequences=y_id, padding=\"post\", value= -1)\n",
        "\n",
        "  y = [to_categorical(i, num_classes=number_of_tags) for i in y]\n",
        "\n",
        "  # save initial config data\n",
        "  with open('config.pkl', 'wb') as outp:\n",
        "      pickle.dump((vocabulary, tags), outp)\n",
        "\n",
        "  X_train, X_test, y_train, y_test = train_test_split(X, y, test_size=test_size)\n",
        "\n",
        "  return X_train, X_test, y_train, y_test, vocabulary, tags\n",
        "\n",
        "def load_data(will_parsed_row):\n",
        "  df = parse_data(will_parsed_row)\n",
        "  # data preprocess and splitting\n",
        "\n",
        "  return analyze_and_preprocess(df)"
      ],
      "execution_count": null,
      "outputs": []
    },
    {
      "cell_type": "code",
      "metadata": {
        "id": "bh5tW0tfyN0b"
      },
      "source": [
        "from keras.models import Sequential\n",
        "from keras.layers import Embedding, Bidirectional, LSTM\n",
        "from keras_contrib.layers import CRF\n",
        "import pickle\n",
        "\n",
        "EMBED_DIM = 200\n",
        "BiRNN_UNITS = 200\n",
        "\n",
        "\n",
        "def create_model(will_parsed_row, train=True):\n",
        "\n",
        "    X_train=None\n",
        "    y_train=None \n",
        "    X_test=None \n",
        "    y_test=None\n",
        "    vocabulary=None\n",
        "    tags=None\n",
        "\n",
        "    if train:\n",
        "        X_train, X_test, y_train, y_test, vocabulary, tags = load_data(will_parsed_row)\n",
        "    else:\n",
        "        with open('config.pkl', 'rb') as inp:\n",
        "            (vocabulary, tags) = pickle.load(inp)\n",
        "\n",
        "    model = Sequential()\n",
        "    model.add(Embedding(len(vocabulary), EMBED_DIM, mask_zero=True))  # Random embedding\n",
        "    model.add(Bidirectional(LSTM(BiRNN_UNITS // 2, return_sequences=True)))\n",
        "    model.add(LSTM(units=BiRNN_UNITS // 2, return_sequences=True ))\n",
        "    crf = CRF(len(tags), sparse_target=True)\n",
        "    model.add(crf)\n",
        "    model.summary()\n",
        "    model.compile('adam', loss=crf.loss_function, metrics=[crf.accuracy])\n",
        "\n",
        "    if train:\n",
        "        return model,X_train, X_test, y_train, y_test\n",
        "    else:\n",
        "        return model, vocabulary, tags"
      ],
      "execution_count": null,
      "outputs": []
    },
    {
      "cell_type": "code",
      "metadata": {
        "colab": {
          "base_uri": "https://localhost:8080/"
        },
        "id": "bAV1Rw6J11jy",
        "outputId": "7a1a0d47-6cbb-467b-d71d-54dfac1758d3"
      },
      "source": [
        "EPOCHS = 10\n",
        "model, X_train, X_test, y_train, y_test = create_model(1000)\n",
        "# train model\n",
        "model.fit( X_train, np.array(y_train), batch_size=16,epochs=EPOCHS, validation_split=0.2)\n",
        "model.save(\"ner_model.h5\")"
      ],
      "execution_count": null,
      "outputs": [
        {
          "output_type": "stream",
          "text": [
            "   sentence_id         tag      word\n",
            "0            1    B-PERSON    corina\n",
            "1            1    I-PERSON  casanova\n",
            "2            1           O         ,\n",
            "3            1  B-LOCATION  i̇sviçre\n",
            "4            1           O   federal\n",
            "data shape -> 16966\n",
            "Number of sentences in data set 1001\n",
            "[('denton', 'B-LOCATION'), (',', 'O'), ('amerika', 'B-LOCATION'), ('birleşik', 'I-LOCATION'), (\"devletleri'nde\", 'I-LOCATION'), ('teksas', 'B-LOCATION'), ('eyaletinin', 'O'), ('denton', 'B-LOCATION'), ('bölgesindeki', 'O'), ('bir', 'O'), ('şehirdir', 'O'), ('.', 'O')]\n",
            "['I-ORGANIZATION', 'I-MISC', 'I-PERSON', 'B-LOCATION', 'B-ORGANIZATION', 'B-PERSON', 'O', 'B-MISC', 'I-LOCATION']\n",
            "_________________________________________________________________\n",
            "Layer (type)                 Output Shape              Param #   \n",
            "=================================================================\n",
            "embedding_17 (Embedding)     (None, None, 200)         1351600   \n",
            "_________________________________________________________________\n",
            "bidirectional_17 (Bidirectio (None, None, 200)         240800    \n",
            "_________________________________________________________________\n",
            "lstm_18 (LSTM)               (None, None, 100)         120400    \n",
            "_________________________________________________________________\n",
            "crf_17 (CRF)                 (None, None, 9)           1008      \n",
            "=================================================================\n",
            "Total params: 1,713,808\n",
            "Trainable params: 1,713,808\n",
            "Non-trainable params: 0\n",
            "_________________________________________________________________\n"
          ],
          "name": "stdout"
        },
        {
          "output_type": "stream",
          "text": [
            "/usr/local/lib/python3.7/dist-packages/keras_contrib/layers/crf.py:346: UserWarning: CRF.loss_function is deprecated and it might be removed in the future. Please use losses.crf_loss instead.\n",
            "  warnings.warn('CRF.loss_function is deprecated '\n",
            "/usr/local/lib/python3.7/dist-packages/keras_contrib/layers/crf.py:353: UserWarning: CRF.accuracy is deprecated and it might be removed in the future. Please use metrics.crf_accuracy\n",
            "  warnings.warn('CRF.accuracy is deprecated and it '\n"
          ],
          "name": "stderr"
        },
        {
          "output_type": "stream",
          "text": [
            "Train on 640 samples, validate on 160 samples\n",
            "Epoch 1/10\n",
            "640/640 [==============================] - 39s 61ms/step - loss: 0.3359 - crf_viterbi_accuracy: 0.9159 - val_loss: 0.0062 - val_crf_viterbi_accuracy: 0.9995\n",
            "Epoch 2/10\n",
            "640/640 [==============================] - 33s 51ms/step - loss: 0.0029 - crf_viterbi_accuracy: 0.9998 - val_loss: 0.0056 - val_crf_viterbi_accuracy: 0.9995\n",
            "Epoch 3/10\n",
            "640/640 [==============================] - 33s 51ms/step - loss: 0.0025 - crf_viterbi_accuracy: 0.9998 - val_loss: 0.0050 - val_crf_viterbi_accuracy: 0.9995\n",
            "Epoch 4/10\n",
            "640/640 [==============================] - 32s 50ms/step - loss: 0.0023 - crf_viterbi_accuracy: 0.9998 - val_loss: 0.0044 - val_crf_viterbi_accuracy: 0.9995\n",
            "Epoch 5/10\n",
            "640/640 [==============================] - 32s 50ms/step - loss: 0.0021 - crf_viterbi_accuracy: 0.9998 - val_loss: 0.0040 - val_crf_viterbi_accuracy: 0.9995\n",
            "Epoch 6/10\n",
            "640/640 [==============================] - 32s 51ms/step - loss: 0.0019 - crf_viterbi_accuracy: 0.9998 - val_loss: 0.0038 - val_crf_viterbi_accuracy: 0.9995\n",
            "Epoch 7/10\n",
            "640/640 [==============================] - 32s 50ms/step - loss: 0.0017 - crf_viterbi_accuracy: 0.9998 - val_loss: 0.0035 - val_crf_viterbi_accuracy: 0.9995\n",
            "Epoch 8/10\n",
            "640/640 [==============================] - 32s 50ms/step - loss: 0.0015 - crf_viterbi_accuracy: 0.9998 - val_loss: 0.0034 - val_crf_viterbi_accuracy: 0.9995\n",
            "Epoch 9/10\n",
            "640/640 [==============================] - 32s 50ms/step - loss: 0.0014 - crf_viterbi_accuracy: 0.9998 - val_loss: 0.0035 - val_crf_viterbi_accuracy: 0.9995\n",
            "Epoch 10/10\n",
            "640/640 [==============================] - 32s 50ms/step - loss: 0.0013 - crf_viterbi_accuracy: 0.9998 - val_loss: 0.0037 - val_crf_viterbi_accuracy: 0.9995\n"
          ],
          "name": "stdout"
        }
      ]
    },
    {
      "cell_type": "code",
      "metadata": {
        "id": "t_Pq4slQFgXE"
      },
      "source": [
        "def process_test_data(data, vocabulary, tags, maxlen=200):\n",
        "  print(vocabulary)\n",
        "  word_to_ids = {w: i for i, w in enumerate(vocabulary)}\n",
        "  tag_to_ids = {t: i for i, t in enumerate(tags)}\n",
        "  ids_to_tags = {v: k for k, v in iteritems(tag_to_ids)}\n",
        "  X = [[word_to_ids[w.lower()] for w in s.split()] for s in data]\n",
        "  X = pad_sequences(maxlen=max_len_seq, sequences=X, padding=\"post\",value=number_of_words - 1)\n",
        "  return X, tag_to_ids, ids_to_tags"
      ],
      "execution_count": null,
      "outputs": []
    },
    {
      "cell_type": "code",
      "metadata": {
        "colab": {
          "base_uri": "https://localhost:8080/"
        },
        "id": "mA8gHNrrEGgD",
        "outputId": "41aa4d0f-a9d1-47d4-fe82-7386af3d5e94"
      },
      "source": [
        "# prepare test\n",
        "model, vocab, tags = create_model(0,train=False)\n",
        "print(tags)\n",
        "predict_text = [\"etmeye , rafael kazanmış buyin öğrenci filmidir kaçırdı\"]\n",
        "X, tag_to_ids, ids_to_tags = process_test_data(predict_text, vocab, tags)\n",
        "print(X)\n",
        "print(tag_to_ids)\n",
        "print(ids_to_tags)\n",
        "\n",
        "model.load_weights(\"ner_model.h5\")\n",
        "raw = model.predict(np.array(X))\n",
        "\n",
        " # acumulate the scores by tag\n",
        "for i, sentence in enumerate(X):\n",
        "  predictions = np.argmax(raw[i], axis=-1)\n",
        "  print(predictions)\n",
        "  for id, (pred, word) in enumerate(zip(predictions, predict_text[0].split())):\n",
        "    print(f\"{word} -> {tags[pred]}\")"
      ],
      "execution_count": null,
      "outputs": [
        {
          "output_type": "stream",
          "text": [
            "_________________________________________________________________\n",
            "Layer (type)                 Output Shape              Param #   \n",
            "=================================================================\n",
            "embedding_16 (Embedding)     (None, None, 200)         1351600   \n",
            "_________________________________________________________________\n",
            "bidirectional_16 (Bidirectio (None, None, 200)         240800    \n",
            "_________________________________________________________________\n",
            "crf_16 (CRF)                 (None, None, 9)           1908      \n",
            "=================================================================\n",
            "Total params: 1,594,308\n",
            "Trainable params: 1,594,308\n",
            "Non-trainable params: 0\n",
            "_________________________________________________________________\n"
          ],
          "name": "stdout"
        },
        {
          "output_type": "stream",
          "text": [
            "/usr/local/lib/python3.7/dist-packages/keras_contrib/layers/crf.py:346: UserWarning: CRF.loss_function is deprecated and it might be removed in the future. Please use losses.crf_loss instead.\n",
            "  warnings.warn('CRF.loss_function is deprecated '\n",
            "/usr/local/lib/python3.7/dist-packages/keras_contrib/layers/crf.py:353: UserWarning: CRF.accuracy is deprecated and it might be removed in the future. Please use metrics.crf_accuracy\n",
            "  warnings.warn('CRF.accuracy is deprecated and it '\n"
          ],
          "name": "stderr"
        },
        {
          "output_type": "stream",
          "text": [
            "['I-ORGANIZATION', 'I-MISC', 'I-PERSON', 'B-LOCATION', 'B-ORGANIZATION', 'B-PERSON', 'O', 'B-MISC', 'I-LOCATION']\n",
            "[\"vivian'ı\", 'conan', 'etmeye', 'rafael', 'kazanmış', 'buyin', 'öğrenci', 'filmidir', 'kaçırdı', 'is', 'uzerindedir', 'talep', 'stewart', 'oklahoma', 'raguşa', 'eylem', 'ölçüde', 'pek', 'metal', 'itibaren', 'yürürlüğe', 'varoalr', \"1995'de\", 'ülkeleriyle', 'televizyonda', \"aversa'da\", \"fransa'ya\", 'adımlarla', 'iii', 'tahminen', 'masal', 'gemisi', 'türkmenistan', 'suprema', 'süren', 'çıktılar', 'sergileyip', 'kizi', 'saltanattan', 'uzaklardan', 'günümüzde', 'peşindeki', \"i̇talya'daki\", 'hooker', 'muazzam', 'çizgi', 'varisi', 'porticus', 'kuzeyde', 'krallığını', 'hisatsu', 'as', \"i̇talya'nın\", '4400', \"mulroney'in\", 'transfer', 'silahçı', \"i̇stanbul'da\", 'orta', 'kilisesi', 'görülebilecek', 'korumasında', 'hall', 'hissetti', 'halk', 'disiplinli', 'yükselmiştir', 'd.', 'göçmüş', \"çekoslovakya'nın\", 'elektrik', 'didier', 'futbol', 'istediği', 'teminat', 'sebeplerle', 'topluluğu', 'britanya', 'moriyama', 'dinsel', 'satış', 'takdir', \"bilson'ın\", 'evde', 'nörotik', \"beş'e\", 'yapmakta', '96.', 'birliklerini', 'fethi', 'şiirler', 'konumuna', 'beşinci', 'çarpıcı', 'ordusunda', 'between', 'lubbock', \"ataman'ın\", 'akustik', 'hersek', 'yüzölçümüne', \"takımı'na\", 'maarif', 'kremlin', 'olarak', 'şimdiki', 'kez', 'ayşe', 'tarafta', 'burjuva', 'uyum', 'wimbledon', 'kurgu', 'kullanmıştır', \"cd'sini\", 'dökülür', '1787', 'mezarı', 'çocukları', 'sicilyaca', 'yenilik', 'chrome', 'biridir', 'standardlarına', 'finncomm', 'müşteri', 'maçta', 'oluşmakta', 'vuruşu', 'abdülhamid', 'çalışma', \"antonius'tan\", 'ligden', 'futbolcu', 'emmanuel', 'herhangi', 'sonları', 'yağmacı', 'örgütlendiler', 'uzerindeki', 'kurmakla', 'söylenen', 'böyle', 'naotar', 'başkanlığından', 'inşaatını', 'ilticai', 'havar', 'katil', '2014', 'hastalığın', 'futboluna', 'sonuna', '958', 'ülkenin', \"kralligi'na\", 'dominguez', 'limassol', 'danimarka', 'gerçekleştirebilmek', 'vatandaşlığına', 'bina', 'devinin', 'guido', 'general', 'dünyanın', 'özellikle', 'macintosh', 'dileme', 'i̇shak', 'stadio', 'kulüpler', 'edilmişti', \"alamut'un\", 'ülkeleri', 'meslek', 'ayırmıştı', 'national', 'gerilla', 'gaz', 'ondan', 'manastırlara', 'okulları', 'sunderland', 'filmde', 'sevilmiştir', 'geçici', 'denizi', \"carolina'da\", 'yolladığı', 'olanak', \"870'i\", 'wise', 'heflin', 'hazırlamaktadır', 'radosav', 'ayrımı', \"belinski'yle\", \"savaşı'na\", 'mehmet', 'rockun', 'hızla', 'itibarıyla', 'reddetti', 'geçmeden', 'çapında', 'geçirdi', \"pandora'nın\", \"chelsea'de\", 'gün', 'büyüyüp', 'olma', \"2008'in\", 'topu', 'aslan', 'hakkındaki', 'etse', 'gruplarına', \"miami'de\", 'kupası', 'ordusunu', 'döneminde', 'gösterilmeye', 'görevlidir', 'idam', 'şu', 'tanıştı', \"şampiyonası'nda\", 'almanyadada', 'binası', 'yazmıştır', 'genelinde', 'dilleri', \"chan'in\", 'karıştırılmamalıdır', 'fuat', 'görülen', 'südetler', 'anma', 'bulup', 'olmustur', 'slovakya', 'takibeden', 'kaynağı', 'sun', 'tıp', 'rahip', 'oynamak', 'ölmüştür', \"roma'da\", '2800', 'ocağına', 'maçları', 'çekimser', 'yaptırdı', 'saat', 'apoel', 'ingiliz', 'zaman', 'love', 'yükselişe', 'getirdikleri', 'kurucusu', 'numaraya', '8', 'gelişimi', 'şirketinde', 'bulunmaktadır', 'victor', 'mozzarella', 'çektiği', 'kazvin', 'filmlerinde', 'alır', 'artış', 'afrikalı', 'yarışmalarında', 'yara', 'yetiştirilmesiyle', 'katılmasından', 'steaua', 'gerilim', 'girmiştir', 'müziğe', '1959', 'rupert', 'garip', 'önemli', 'faaliyetlerini', 'tebdil', 'sezon', 'krallığı', 'ayrılan', 'değiştirmiştir', 'ekonomi', 'başlayarak', 'taştan', 'ağrılı', 'saygınlığını', 'hertfordshire', \"octavius'un\", 'çalışan', 'london', 'conra', 'bıraktı', 'kafa', 'öldürülmesinden', 'recchioni', 'everton', 'meclisinde', 'fakültesi', 'markası', 'sağlanmıştır', '1887', '1982', 'edirne', 'hayranı', 'oradan', 'benzer', 'dakika', 'partiler', 'mecklenburg', 'girl', 'zaferinde', 'oyuncusu', \"1935'te\", 'amar', 'konumlanmıştır', 'uluslarasi', 'muharebesi', 'üs', 'nemli', 'röportajına', 'tema', 'kolleksiyoncu', '£', 'by', 'formaya', 'max', 'usulle', 'komiteleri', 'veriş', 'hasselbaink', 'henedanı', 'let', 'mm', 'konseyinde', 'hristiyanlar', \"apec'in\", 'aslında', 'gordon', 'butcher', 'sona', 'değerler', 'prodüktörü', 'şarap', 'tablolar', 'sattı', 'verdi', 'vanni', 'atamayan', 'ulaşan', 'kalmıştı', 'gölünü', \"hitler'i\", 'orduyu', 'penaltılarda', 'onun', 'şampiyonluğu', 'madalyaları', 'muhalefeti', 'yurttaşlığına', \"drengot'a\", 'taşkınları', 'saldırısıdır', '2935', 'sunulmuştur', 'doruk', 'düzey', 'kırmıştır', 'gösterime', 'tarihlerinde', 'demokratik', 'dubrovnica', \"herat'ta\", 'cold', 'yellowhouse', 'insanları', 'karahanlı', 'yapıt', 'hikayenin', 'kumarbaz', \"paso'ya\", 'doktorların', 'devriminin', 'hitleri', 'durumunu', 'seçtikleri', 'kıtasında', 'yeralan', 'katliamı', 'mosul', 'i̇lk', '03', \"köprüsü'nden\", 'gerçekleştirilen', 'iklimi', 'julius', 'formatından', 'lavoro', 'aittir', 'abd', '1847', 'veremeyen', 'sevgilisi', 'http://www.uni', 'oyununu', 'aşamasında', 'verdiği', 'a', 'babası', 'altınd', 'vazgeçmiş', 'vu', 'açılan', 'etmediği', 'devletleriyle', 'hazneli', 'tutumunun', 'maçlı', 'gösterdiği', 'gösterimi', 'lideri', \"oscar'ı\", 'almış', 'arada', '8257', \"pretoria'ya\", 'şehrinde', 'bahanelerle', 'klibi', 'giymesini', 'etmemektedir', 'sucre', \"torres'e\", 'biçiminin', 'atanması', 'tamamlattı', 'iflasından', 'ayında', \"grunitzky'ye\", 'oyunu', 'destekleyerek', 'turnuvasında', 'kesin', 'queens', 'tür', 'reynaud', 'belirtmek', 'sevgiyle', 'çıkan', '5729', 'çekmişti', 'demircan', 'jackie', 'sherlock', 'stilde', '169', 'last', 'sassari', 'atışmaları', 'ria', 'yerleşen', 'şehirlerinin', 'james', 'denis', 'cumhuriyeti', 'öğleden', 'crazy', '1912', \"hollyoaks'ın\", 'amerikan', 'ressamlığı', 'tehditlerine', 'başlayınca', 'muhammed', '32', 'eleştiri', 'somut', 'duymasinin', 'sitesi', 'halgurd', 'war', 'zamanla', 'düzenlenebilir', 'türünde', 'yakasını', 'göre', 'yükseltilmesi', 'bir', 'deutz', 'boşanmayla', 'imparatorluklar', 'yayınlanmamış', 'rekoru', 'kibritleri', 'kızlık', 'rus', 'ikilisinin', 'yapılmasını', 'girerek', \"bucureşti'e\", 'conrad', 'doğdu', 'alttaki', 'gerekir', 'baktıktan', 'kocası', 'kariyerinde', 'başardı', 'olmadığını', 'yakalanmıştı', 'gereksinmelerini', 'birleşik', 'pompey', 'memurunun', 'etkileyen', 'relatively', 'yapılma', 'liderlerinin', 'kgekitai', 'finali', 'hatta', 'buzulun', \"akkaya'nın\", 'hizmetinde', 'tarzı', 'tüberküloza', 'haline', 'social', 'bulamadığı', 'konuyu', 'havale', 'vicar', 'soldan', 'üretilen', 'tak', 'togo', 'devletlerinin', '1725', \"gandhi'nin\", 'cowgirl', \"prensi'nin\", 'fernando', 'zibari', 'kışın', 'almancılar', 'bulundu', 'gaius', 'türkçesi', '1932', 'berchtesgaden', 'başkanlığı', 'tahtı', 'artık', 'antlaşma', 'ruslara', 'tayvan', \"avustralya'lı\", 'olayın', 'yaşına', 'sürprizli', 'çıkarcı', 'bölgedir', '1843', 'dizilmiş', 'hazırlanarak', 'defa', 'insanlar', 'türkçe', 'av', \"ligi'ne\", 'çerçevesinde', 'çatışmada', 'alencon', 'valisi', 'finnair', 'i̇spanyolların', 'chihuahuan', 'gazetedir', '19', 'başkanı', 'eyaletlerini', 'kurucu', 'görüşmekte', 'göstermiş', 'bunun', \"ili'ne\", 'yollarını', 'i̇ş', 'çıktığı', 'ailesindendi', 'halkı', 'sayısı', 'tricky', 'joseph', 'sıra', 'hüsrev', 'kriegsmarine', 'tarafından', 'katılma', 'karşılık', 'kapsayacak', 'jozef', \"iowa'da\", \"abd'yi\", 'andan', 'müdürlüğü', 'koleksiyoncusu', 'kulübünde', 'multipleks', 'stadyumstadyumda', \"70'ini\", 'verecekti', 'kahramanıdır', \"2008'i\", 'durumdadır', 'öldürterek', 'kurulmasından', \"porter'ın\", 'foster', 'akan', '1854', 'kullanmaya', 'turnuvalarında', 'demokrat', 'saatler', 'kentinde', 'politikasını', '10', 'cinayet', 'başka', 'atacağına', \"1852'de\", 'yasindaki', 'mutlakiyeti', 'fakat', 'birisiydi', 'video', 'ilgilenmeye', 'kasabasında', 'lucca', 'iron', 'elendiler', 'çok', 'yağışsız', \"cevher'in\", 'at', 'gerçekleştirildiği', 'bulana', 'young', '387', 'parçalar', 'temaya', 'pavone', 'mobilyaları', '1924', 'hardeman', 'iddia', '9.', 'döneminin', 'imkanı', 'milletvekilleri', 'ölümünden', 'ilhakından', 'katılamamıştır', 'yaklaşmadan', '10.', 'gören', 'major', 'nedenlerden', \"cicero'nun\", 'sefer', 'ortakaya', 'konuşma', \"stark'ın\", 'antrenmanlarına', 'endülüs', 'koşabilmesidir', 'lisa', 'şehirlerden', 'randımanın', 'hattına', '1979', 'yanı', 'albümüyle', 'tahtına', 'hillsboro', 'kentinin', 'ligte', 'hatırlandı', 'haklara', 'televizyon', 'karakteridir', 'kraterde', 'teşvikiye', 'i̇ngiltere', 'piyadeleri', 'genç', 'crewe', 'şüphesiz', 'i̇ngilizcede', 'boğazlar', 'prodigy', 'edilmesinden', 'puan', 'misafirler', 'saldırıların', 'rolünü', '14.', 'bölümden', 'başlangıcında', \"don't\", 'sürecinde', 'sekreterliği', 'ramiro', 'sam', 'bağımsızlık', \"madrid'le\", '1789', 'sadedir', 'filmler', \"1938'de\", 'ronald', 'incelemesini', 'halkçı', 'toplantıları', 'und', 'idari', 'yapılmak', \"anfield'de\", 'ford', 'içindeki', 'khuar', 'iyiliği', 'gelsin', 'temsilcilerindendir', 'yumuşak', 'aracılığıyla', 'hemen', 'edemeyen', 'silahlı', 'duyurulmuştur', 'fetih', 'turner', 'komşulara', 'aradippu', \"1980'li\", 'slam', 'merkezi', 'i̇spanyol', 'onemini', 'odaklanan', 'faaliyet', 'captain', 'atmıştır', 'seslendirme', 'corina', 'günün', 'chelsea', 'yetki', '2002', 'imparatorluğa', 'döviz', 'çekimidir', 'ilginin', 'chamberlain', 'egitim', 'başrolde', 'bitirmiştir', 'uluslararası', 'sergius', \"forever'da\", 'oynamıştır', 'saldırılara', 'ticaret', 'vii', 'adındaki', 'rol', 'temsil', 'kapısını', 'tarzıdır', 'suçlamasıyla', 'bırakmak', '26', 'zatürreden', 'summer', 'teknikdirektörü', 'cezalar', 'dahil', \"1990'de\", 'serisidir', 'giderek', 'sağladı', 'katkı', 'orduları', 'değin', \"temmuz'da\", 'oğuz', 'takımındaki', 'zehirci', 'uzlaşma', 'forma', 'anlayış', \"almanya'yı\", 'brad', 'çölü', 'i̇şleri', 'bağımsız', 'vallin', '1938', 'diğer', 'kontluk', \"giusep'in\", \"selim'i\", 'mimari', '1868', 'rakibinide', 'temmuz', 'sadece', 'eyaletten', 'doroşenko', 'i̇mparatorlukları', \"avignon'a\", 'layık', 'yataklarının', 'ii', 'tedarikçilerin', 'düzenleyicisi', 'yerleşmiştir', 'taleplerinin', 'ruslar', 'filmleri', 'nazilerin', 'katkıda', 'buluntmaktaydı', 'think', \"danieli'yi\", 'oyuncusudur', 'basic', 'buruşaski', 'corinthians', 'başlamıştır', 'tedbirler', 'çinli', 'eyaletlerindeki', 'görüşmeler', 'geç', 'komisyonu', 'yenilirlerken', 'vatandaşlarının', 'yıldız', 'mahkemesinde', '1972', 'ömürlü', 'senaryosu', 'yalan', 'hard', 'gördüğü', 'mevlevi', 'satıldı', 'tatvan', 'bunlar', 'napoliten', 'resimde', 'antonia', 'altyapısında', 'koordine', '7', 'naziler', 'buzulu', 'sevinç', 'mecidiye', 'çözülmemesini', 'geliştirdi', 'yılının', 'das', '1375', 'tasarım', 'hodgson', \"abdurrahman'ın\", 'ten', 'aillerini', 'roger', 'deplasmanlı', 'alışveriş', 'liseden', 'rastgele', 'olmamakla', \"crowe'un\", 'ilgilendi', 'meksikalıların', 'sağlaması', 'asıl', 'pozisyonu', 'vasat', 'below', 'cobain', 'baba', \"türkiye'yi\", \"open'de\", 'belirtten', 'roy', 'getirmişti', 'hastalandı', 'ayının', 'hayata', 'edilmekten', 'bourbon', 'göstermiştir', 'secret', 'üye', 'gruplarının', 'british', 'karısı', \"ermenistan'ı\", 'evleneceği', 'sığınma', 'ülkesidir', \"herford'da\", '2013', 'etmeyince', 'karşılaştılar', 'hizmetlerinin', \"aradippu'ya\", 'dile', 'nehri', 'jaguar', 'çevreye', 'küçüklü', 'seçimde', 'nemrut', 'sunny', 'sığınanları', 'yetersiz', \"hollanda'ya\", 'ettirdi', 'deplasmanda', 'karışımı', \"sezar'a\", 'vilayetinde', 'darbenin', '1841', 'eflak', 'iraklı', '31', 'ülkesinde', 'i̇sveç', 'şarkıcıdır', 'fiyatı', 'yetim', \"kırım'a\", 'çökmeye', \"deutschland'ın\", 'kupayı', 'sol', 'kalem', 'korkunç', 'urduca', 'winds', 'kalınca', 'lleyton', 'koleji', 'aksiyon', 'tarihinde', 'koydu', 'ıslahat', 'olayda', \"çekoslovakya'ya\", 'sayesinde', 'denton', 'tanıyordu', 'mermercilik', 'isyanı', 'park', 'eşbaşkanlığı', 'but', 'istatistiksel', 'vurularak', \"liverpool'a\", 'dizisine', 'ait', 'liginin', 'yönetilen', \"1965'te\", 'süreç', '40mö', \"yerleşke'de\", \"dunya'nin\", 'edilmişlerdir', 'şerif', 'thiele', 'möller', 'ziyaret', 'kawaguchi', 'noktasına', 'verilen', 'etmedi', '912', \"octavia'nın\", 'beraber', 'olağanüstü', 'utrecht', 'osmanlılık', 'euro', 'kişinini', 'savaşının', 'başlamıştı', 'servet', 'kötü', 'büyüklerine', 'durumda', 'grant', 'şekildedir', 'seymour', '&', '2010', 'üyesidir', 'boşaltma', 'köyleri', 'amacı', 'çektikten', \"bakker'e\", '22.', 'dilpezir', 'hırsızlar', \"uşak'a\", \"abdü'l\", 'sıralamada', 'konsülü', 'dünya', 'devletinden', 'tribünü', 'victoria', 'katılarak', 'söylenir', 'i̇çgüdü', 'tarzına', 'isyancı', 'oğlan', 'cdu', 'viii.', 'teklifini', 'şansını', 'tsubasa', 'olanağı', 'adolf', \"medinetü'z\", 'coast', \"antlaşması'na\", '2008', 'özür', 'oyunun', \"barselona'da\", 'getirilerinden', 'karşılanabileceği', 'görmemiş', 'ülkesinin', \"caesonia'dan\", 'uygun', 'ortalarından', 'atadığı', 'pretorius', '4', 'manchester', \"wanderers'e\", 'mistik', 'biriydi', 'prens', 'toprakları', 'çocukluk', 'içeceği', 'konuşulması', 'suyun', 'oluşu', 'ekonomisine', \"belçika'da\", 'etkinlikler', '6', 'golle', 'yendiği', 'ılıman', \"i̇talya'ya\", 'killer', 'kaplamakta', '1906', 'koruyor', 'tus', 'odağı', 'kaptan', 'cinnamon', 'bırakmasının', 'bırakılarak', 'golcülük', 'yetişkin', \"krallık'ta\", 'üzerinden', \"soundtrack'ı\", 'garros', 'üstüne', 'tarafında', 'armand', 'sanayi', 'çıktığında', 'ordusunun', 'müzisyenlerinden', 'süresi', 'i̇lahileri', 'first', 'kazanmıştır', 'oturduğu', 'malhazoviç', 'look', 'marcos', 'barış', 'çalışmıştır', 'kuruluşu', 'i̇ngilizler', 'knebworth', 'olduğu', 'yıldızı', '82', 'belfort', 'seçmeli', 'psikolog', 'inanılmaz', 'geldiğinde', 'çizgisini', 'yakındaki', 'yendikleri', 'slav', 'kontrolüne', 'fırsatta', \"roma'ya\", \"alexandria'nın\", 'yazıp', 'bölgesi', 'ın', 'nüfus', 'katılımıyla', 'nde', 'imzaladı', 'banliyö', 'mahreç', 'etkilemiştir', 'tenisçi', \"gilgit'dir\", 'sultanı', 'typically', \"prensi'ndenen\", \"kore'de\", 'dayanan', 'bölgede', 'önemin', 'sonrada', 'çehre', 'benimsendi', 'toke', 'angelini', 'york', 'tupparello', 'bavyera', 'bölgeler', 'oynama', 'quwa', 'hükümet', 'hücumlar', 'yıllar', 'bit', 'fattie', 'destansı', 'giorgio', 'hepsi', 'kuzeydoğusunda', 'torunudur', 'osmanlı', '106.', 'raporlar', 'sebebiniz', 'so', 'adı', 'balba', 'aralarında', 'lise', 'açısını', 'dolayısiyla', 'gördü', 'hollyoaks', 'malzeme', '1888', 'saldırısı', 'untold', '1947', '...', 'ünvanını', 'yüzyılda', 'din', 'senaryosunun', 'girişimlerde', 'haas', \"villa'yı\", 'bırakılan', 'hutchinson', 'san', 'sürdürüyor', 'akademik', 'mulla', 'hasılat', 'hikayesi', 'kapsamında', 'sürede', 'aşkın', 'gösteremesede', \"ilçesi'nin\", 'a.v.', 'dağlık', 'yetişmiştir', 'eğitimini', 'kendilerini', 'hun', 'turistik', 'atina', 'harfleri', 'edilebilen', 'yazlar', 'düzenleyen', 'demiryolu', 'kupada', 'bu', 'kansas', 'yani', '74.', 'inşa', 'polonya', 'kurtarıcıları', 'prusya', 'dakikalarda', 'adının', 'yarışması', 'living', 'saka', 'doğar', \"anadolu'da\", 'performans', 'akilisene', 'buna', 'porta', 'gemma', 'cemevleri', 'edilmiş', 'anlam', 'sanatçının', 'yayınladıkları', 'freiburg', 'altındayken', 'zehra', 'büyüdüğü', 'almere', '114', 'barekzay', 'göçmenler', '18568', 'alanına', 'çevirdiği', 'ft', 'imzacı', 'bazı', \"afc'i\", 'kum', 'karabağ', 'cinayetler', \"gastrar'da\", 'müzikleri', 'gujohnsen', 'maçına', 'kotayk', 'kasabanın', 'beran', \"ligi'nde\", 'köle', 'anki', 'işleyen', \"paşa'yı\", 'nick', '1939', 'çevirmişti', 'şehrinden', 'famagusta', 'entrikalara', 'crucas', 'maç', 'yoluna', 'turkcell', 'petrovi', 'inandırdı', 'benimsemiş', \"rainulf'un\", \"30'unun\", 'everybody', 'damage', 'dost', 'nehirdir', 'almuécar', 'yangınında', 'samimi', 'marsel', 'hitap', 'yolladı', 'sosyalist', 'seçildi', 'toplanan', 'batının', 'bakan', 'olacaktır', 'andreas', 'krater', 'yüksekte', 'yaşamaya', 'olduğundan', 'yaşamışlardır', 'yaşında', 'evans', 'eylemleri', 'cooper', 'nehirde', 'hollandalı', 'diziye', 'şeklinde', 'monaco', 'news', 'binalarda', 'kaybettiği', '(', 'maçını', 'yüceltmiş', \"flevoland'da\", 'pile', 'forever', 'bogor', 'kadını', 'plage', 'üyeleri', 'seçme', 'başkenti', 'duran', 'getirdiği', 'kuzeni', 'başkomutanı', 'arkadaşı', 'uçuş', 'çerçeveleri', 'yaparlar', 'dış', 'gruplarda', 'bulabilmişti', 'sekilde', 'ırka', 'kapıda', '125', 'yürüten', '9', 'inceleme', \"fowles'in\", 'i̇rina', 'gelmesi', '2006', 'albümleri', 'robin', 'olmamaları', 'grubu', 'voleybolcu', \"rock'ın\", 'formatıdır', 'klasiklerden', 'kesiminde', \"hewitt'e\", 'yenerek', 'tufukia', 'i̇zlandalı', 'vicente', \"bourbon'ların\", 'desteğindeki', 'terketti', 'sean', 'ünvanına', 'başkanlık', 'geçmişte', 'yorumcu', 'etmişti', 'bedeninde', 'chieti', 'evliliğini', \"rusya'ya\", 'kamuoyunu', 'sezonda', 'i.k.', \"açık'ta\", 'ağabeyi', 'akınlar', 'tüketen', 'emin', 'alevi', 'hala', 'sheridan', 'filmlerinin', 'çağdaşları', 'havadan', \"coast'un\", 'çekilen', 'sisteminin', 'adında', 'planı', \"hollyoaks'ta\", 'kentlerinden', 'olması', 'sakatlık', 'gureba', 'oynayarak', 'ödülüne', 'olayları', 'geliştirilmesinde', 'yaşlanmadığının', 'borç', 'organizasyona', 'atia', 'onunla', 'beşincisidir', 'gezilerine', 'lal', 'hırsız', 'mektebi', 'mobilya', 'akif', \"almanya'ya\", \"shining'in\", 'eyaletlerinden', 'gösterimini', \"nero'nun\", 'türkiye', 'garantinin', 'bedeliyle', 'henüz', 'tutuklanmış', '1861', 'albümündeki', 'araştırmaları', \"i̇sviçre'de\", \"kütüphanesi'ni\", 'şevk', 'değil', '65', 'yöntemidir', 'tapınak', 'parlementerdir', \"adenauer'in\", 'mö', 'tutuklandı', \"o'brien\", 'tiyatrosunun', 'n', 'ulaştı', 'finalde', 'rusların', \"league'de\", \"abd'de\", 'uefa', 'uğrattı', 'stark', 'adım', 'çekti', 'ödülünü', 'sadarete', 'olanlar', 'payesi', 'gönderildi', 'pennsylvania', 'rudolf', 'southern', 'güçlerinin', 'glasgow', 'sezonuna', 'glory', 'norwich', \"antonia'nın\", 'ikiz', 'düşmanlığı', 'italya', 'endüstrisinde', 'ones', 'katliamları', 'düşük', 'çocuklarını', 'noktalamışlardır', 'yerini', 'batı', 'i̇slamiyeti', 'korku', '34.', 'yapıp', 'küçükken', '120', '23', 'göktürk', 'romantik', 'tepesi', 'etmiş', 'kanada', 'kibrit', \"abbasiler'in\", 'mozarella', 'gösterdi', \"1984'te\", 'eşcinsel', 'aralarına', 'nacogdoches', 'yaşamıştır', 'gurbetçiler', 'merkezlerinde', 'güneyinde', 'açtı', \"kanada'da\", 'atışmalar', \"mustafa'ın\", 'muhalefetini', 'sonrasında', '1965', 'çalışmalarında', 'diplomasi', 'marcellus', 'edilmektedir', 'with', \"londra'da\", 'i̇l', \"richard'a\", 'yaygın', 'baskısını', '930818', 'çoğunluğu', 'gruptur', ',', 'katılmayı', \"2008'de\", 'kilikya', 'çin', 'teklifi', 'ulusal', 'öldürmeye', \"1939'da\", 'sektöründe', 'sebebi', 'olmuştu', 'yetkili', 'öğretmeni', 'oyunları', 'naylon', 'profesörlük', \"sultan'ın\", 'yeniçeri', 'sanılan', \"liverpool'da\", 'yöntemi', 'maliye', 'ensturmanlar', '1918', 'ilgisine', 'rio', 'ülkelerin', 'döndürmme', \"reich'a\", 'dirilli', '1986', 'i̇mparator', 'kaybediyordu', 'america', \"avec'in\", 'paket', 'disney', 'süresinde', \"hotel'i\", 'imza', 'gerekçesiyle', '111.', 'turu', 'konserinin', 'vissarion', '33', 'alkol', 'yılları', 'çeşitli', 'sürer', 'roberts', 'yerleşmeler', 'four', 'days', 'getiren', 'statüye', 'hikayeye', 'wessel', 'wand', 'brezilyalı', 'bucaktır', 'bilinir', '1967', 'renkli', 'deneyimli', 'yenildi', 'mandırada', 'seçildikten', 'kaçmıştır', \"lübnan'a\", 'hayatında', \"garcia'nın\", 'prensesine', 'türkçedeki', \"eylemi'ne\", 'versiyonunu', 'beden', 'parlayan', 'yana', 'sanatçısıdır', 'yapay', 'elendi', 'hücumları', 'tepkiler', 'kapsar', 'emiri', 'şansölye', 'sonra', 'nasıl', 'üstlendikleri', \"paul's\", \"1989'da\", 'şarkının', 'turnuvanın', 'ülkeye', 'i̇kea', 'nesil', \"partisi'ne\", 'temsilci', 'e', \"afganistan'a\", 'buzul', 'kingsley', 'katilmistir', 'barışçıl', 'romanından', 'acate', 'for', \"dadjo'yu\", 'türkçeyi', '797', 'enrique', 'kuzey', 'gösteriyor', 'dönemin', 'takımıdır', 'vs.', 'örgütlediği', 'bi', 'ertesi', 'saygı', 'taşımıştır', 'boylarının', 'gelmesinden', 'gruplar', 'geldiği', 'trakyada', 'satan', 'nora', 'notayla', 'durulmuştur', 'iyiyi', 'evlerinde', 'krueger', 'buluşur', 'turnuvadada', 'barbarian', \"alpleri'nde\", 'güvencesi', 'toplumsal', 'şarkılar', 'jr', 'sinemacı', 'öykülerinin', 'kasabadır', 'kurak', '1987', 'punic', 'mermer', 'anlatılmıştır', 'sınırlandı', 'kent', 'başını', 'harika', '1891', '1978', 'mobilyalarını', \"i̇slam'da\", 'taşınabilir', 'niteliği', '3000', 'apec', \"napoli'li\", 'patlaması', 'merkezidir', 'pertevniyal', \"pakistan'la\", 'durak', 'oldukça', 'yorumlanmıştır', 'resmi', 'yerleşim', 'grubun', 'gerçekliği', 'memleketi', 'like', 'verdikleri', 'vatandaşları', 'araziye', 'avrupa', 'sanatçısı', 'dağıtıcısı', 'amacıyla', 'alanlarında', 'yabancılar', 'hip', 'tahsili', 'organizasyonda', 'seferi', 'esir', \"9000'dir\", 'tutmasını', 'idaresi', 'done', '110.', 'mali', 'edebiyatında', \"abd'li\", 'yönetmiştir', 'pace', 'gücü', 'rekabetler', 'birimleriyle', 'ölümden', 'yılı', 'besarabya', 'teorisinin', 'turda', 'toplantısı', 'batısında', 'cameron', 'khosrau', 'borçlanmaları', 'mata', 'prix', 'saldırıya', 'berlin', 'delmer', 'başlattığı', 'dowding', 'erkanını', 'tuttu', 'martında', 'şirketini', '1839', 'onu', \"okulu'nda\", 'göçme', 'daha', 'evlilikten', 'ovalarının', 'türlü', 'almaması', 'v.', 'sektörün', 'keder', 'kazandığı', 'hükümdar', 'sinyallerini', 'kralı', 'adasına', 'mi', 'evlilikler', 'biçimde', 'doğum', 'aralık', 'yükselerek', 'drogba', 'geliştirme', 'özerklik', 'birmingham', 'değişiklik', 'öne', 'yerler', 'yazdığı', 'imzalayan', 'asmalar', 'korkan', 'sürekli', 'üstünlüğüyle', 'söylediğini', 'parçaları', '59', '21', 'kariyerine', 'uluslu', 'ikmale', 'günümüz', 'yağışlı', 'yakalayan', 'zamanların', 'yalnızca', 'isimli', 'çalışıldıkları', 'kararlaştırdılar', 'davranıp', 'ismi', \"abdurrahman'ı\", 'gözlemek', 'evine', 'neticesinde', 'mümkündür', 'zandt', 'arterton', 'haziran', 'şarkıdır', 'verildi', 'sıralamıştır', 'olduktan', \"cup'da\", 'sanat', 'aldığı', 'teksas', 'göçmenlere', 'tip', 'robinson', 'artan', 'claudius', 'okullarda', 'keaton', \"model'in\", 'thiemo', 'laçın', 'çekici', 'sene', 'formatlarında', 'kısaltması', 'sinirsel', 'sıcaktır', 'anna', 'özbekistan', 'uyuşma', 'erişti', 'nota', 'kullanmalarını', 'birçoğu', 'jimmy', '1997', \"beyrut'a\", 'normanlar', 'ürünün', 'başarılar', 'merkez', 'cehennemi', 'popüler', 'bürosunda', 'eleştirilen', 'iki', 'önceki', 'başlandı', 'desteği', 'tarrant', 'voleybola', 'tanrının', '46', 'kavak', 'klagopsalmer', 'ii.', 'başlangıç', 'düzenlemeyle', 'yöneticileri', 'tavsiye', 'giyen', 'vodvil', 'figueiras', 'babasının', 'prison', 'keeyes', 'bağlarında', \"texas'a\", 'yerleşmiş', 'verd', 'biz', 'erdal', 'ulaşmıştır', 'kapılarını', \"hemşinliler'in\", 'idarecileri', 'ağlara', 'rise', \"miz'in\", 'i̇ç', 'kaiser', 'mücadelelerini', 'harvest', 'popülasyonu', 'bunu', \"kate'in\", 'sağa', 'futbolla', 'ulaşmışlardır', 'kaybedilmesinden', 'bırakıldıktan', 'çıktı', 'krallık', 'kura', 'telgraf', 'kitabını', 'kuruluşlarca', 'sinir', 'yedek', 'olsa', \"ödülleri'nde\", '1990', 'etrafında', 'parça', 'adaletle', 'mobley', 'stratejisinin', 'stephen', 'teschen', 'sakura', 'atanarak', 'çevrilen', \"1933'te\", 'arasında', 'ı', \"abdülaziz'i\", 'ataları', 'uydusu', 'bölüm', 'barındırdığı', \"paz'dan\", 'yönetti', 'houdini', '1960', 'mahkeme', 'noktası', \"moore'un\", 'hoda', 'kırık', 'imparatorlarının', \"1877'de\", 'süreçtir', 'şehridir', 'komşu', 'konaklarından', \"istomin'e\", \"svaziland'ı\", \"türkiye'deki\", 'hariç', 'atlatan', 'kaldı', 'unvanı', 'uluslarasası', \"2001'de\", 'göçmenin', 'satışları', 'papaya', 'göbekteki', \"burgers'e\", 'berabere', 'arasına', \"kuvvetleri'ne\", \"devletleri'nin\", 'turdaki', 'klübe', 'terketmesiyle', 'kazandıkları', 'bacaklarını', 'şehrinin', 'dizinde', 'vokali', 'topraklarda', 'institute', 'verilmektedir', 'oakland', 'dünyada', \"hadise'nin\", 'kraliçe', 'bunların', \"yo'nun\", 'challengers', 'yaşadıkları', 'ligi', \"ermenistanı'nın\", 'perspektifinden', 'peyniri', 'alani', 'asya', 'inç', 'life', 'imkanlarla', 'vekili', 'vurdu', 'senede', 'veda', 'beklenmedik', 'ordu', \"16500.000'e\", 'dostları', 'varolmuş', 'kaliteli', 'görüşerek', 'semtleri', 'west', 'fermo', 'noktayı', 'canlandirmaktadir', 'kazandı', 'werner', '1.89', 'uğramadıkları', \"kolorado'daki\", \"1969'da\", \"i̇stanbul'daki\", \"paris'in\", 'açıldı', 'yaratılışcı', 'kendini', 'oynamaktadır', '1726', 'yıkıldıktan', 'topraklarında', 'işlenmesi', 'elde', 'kleopatra', '961', 'haberini', 'terk', 'sorunlar', 'görsel', 'asıllı', 'altına', 'boynunun', 'finalistlerden', 'borderlands', 'zorundadırlar', 'resim', \"cev'in\", 'when', \"bulgaristan'daki\", 'eyaletine', 'st', 'birilerini', '1374.', 'altında', 'şansı', 'gözaltında', 'really', 'mevkisinde', 'işbirliği', 'yatıştıracak', 'sylvanus', 'açıkladı', 'geçti', 'hak', 'işgal', 'mağlup', \"channel'da\", 'taşındı', 'lakabını', 'mezar', 'all', 'tebenikhina', 'grand', 'pergolalarda', 'i̇', 'güdümü', '32.', 'yönetmiş', 'amber', \"1880'de\", 'deep', 'düşüncenin', 'takımında', 'villa', 'bulunmakatdir', 'dokuz', 'leeds', 'öldürüp', \"belçika'nın\", 'eserlerinden', 'tercihleri', \"2011'e\", 'tahminie', 'görevini', 'scalo', 'mobb', 'kadının', 'gelecekte', 'poison', 'tarihleri', 'müchadeleyi', 'proje', 'aalborg', '1944', 'dolmabahçe', 'fransız', '11', 'eleme', 'kardeş', 'viking', 'alexandra', 'ermenistan', 'destan', 'ise', 'ermesi', 'kapanık', 'önlemleri', 'wall', 'ay', 'şarkıcısı', 'uzaklıkta', 'dili', '25', \"arsenal'a\", 'kadınlar', 'avatarın', 'istemişler', 'kurtuba', 'olmuş', 'rikugun', 'marsilya', 'ellingson', 'butterfly', 'teskil', 'alan', 'fox', 'doğusunda', 'floyd', 'devamlı', '1000,000', 'sıklıkla', 'ülkedeki', 'şeydi', 'düştü', 'gelmiştir', 'göndermeyi', 'sydney', 'kararsızlığına', 'vardı', 'donanmaya', 'ülkesi', 'yalnız', 'plata', 'ölüme', 'değişmeyen', 'gerçekten', 'tarihli', 'tutumlarına', 'dalışta', '591', 'are', 'hedefe', 'eğitimi', 'okunan', 'perakende', 'melek', 'of', 'ulaşması', \"1995'ten\", 'paul', 'özbek', 'manevi', 'feshetme', \"augustus'un\", 'nesile', 'ödülü', 'sporcu', 'augustus', \"madrid'dir\", 'ermis', 'çıkarılmıştır', 'yaptırmaktadır', 'başkanına', 'köprüsü', 'başlar', 'giden', 'yardımcısı', 'saldırları', 'sharon', \"meclisi'nin\", 'sözleri', \"manastırı'nda\", 'operasyonlarına', 'dikkatini', 'idmanlara', 'flöre', 'videosu', 'yapışkan', 'petrol', 'anlatan', 'slattery', 'avustralya', 'kazandırmaya', '8888', 'yerleşkesi', 'diplomata', 'kurulması', 'yaşamakta', 'wyatt', 'çekimi', 'onayı', 'kolayca', 'stadyumdu', 'ames', 'ranstad', 'yaptırmıştır', 'askerini', 'dönüm', \"sicilya'ya\", \"buzulu'nun\", '1890', 'aileni', 'ilan', 'gılzay', 'dönemlerde', 'prince', \"hançeri'nin\", 'önemlidir', 'd.1926', 'bromwich', '1903', 'sıcaklık', 'çalışmış', \"stockholm'den\", '1441', 'springfield', 'geçmektedir', 'ayrica', 'pratiğinde', 'devletinde', 'tech', 'öksürük', 'küba', '13', '1923', 'başları', 'bati', 'etme', 'neville', 'dunyada', '200304', 'adlı', 'veziri', 'kayıt', 'evrimci', 'altyapısından', 'maçtı', 'katkılarından', 'birliği', 'appleby', 'slovensk', 'içinde', 'af', 'iç', 'bölümünün', \"fransa'daki\", 'papatanasiu', 'şehirde', 'south', 'katılmaktadır', \"100'e\", \"endonezya'nın\", 'alımı', 'dokunabilme', 'university', 'thomas', 'eyaletler', 'abdurrahman', 'şimdiye', 'yasağından', 'esası', 'yarısı', 'toplulukları', 'ölümüne', 'rolünde', 'f1', 'minor', 'diyanet', 'mensup', 'ordusu', 'onbes', 'çevrimi', 'gitmiştir', \"kgekitai'nın\", 'mevsimlerde', 'yetiştirilmesi', 'zayıf', \"nehri'ne\", 'alanda', \"bolelli'ye\", 'iddialarına', 'gollerini', 'lxg', 'halifelik', '1653', 'toulouse', \"napoli'de\", 'ölmesinin', 'düsseldorf', 'askerlerinin', \"1978'de\", 'başarmıştır', \"ali'nin\", 'sağ', 'mussolini', '929', 'baltistn', 'geçmişinde', 'haklarını', 'olan', 'koalisyon', 'gerçekleştiren', 'tenisçişi', 'bulmak', 'ibaret', 'korumakla', 'ülkede', 'brugge', \"paşa'ya\", 'üçü', 'siyaseti', 'etkili', 'bosna', 'johannes', 'zulumcu', 'sayıda', 'bale', '500', 'kulüpleri', 'arasındadır', 'lige', 'can', 'doğal', 'yy', 'türkler', 'politikası', 'farklı', 'bohlen', 'sırayı', 'önderi', 'karakterini', \"hollanda'nın\", 'gerçekleşti', 'ikili', \"eindhoven'a\", 'insan', 'ncse', 'yayımlandı', 'mezarları', 'toplumu', 'yönetimindeki', 'satmaya', 'yazarı', 'çıkarak', 'estacado', \"türkiye'den\", 'times', 'evrim', \"boğdan'ı\", 'i.', 'sağlanamamıştı', 'gözüni', 'surlarını', 'yaklaşık', 'gitara', 'haç', 'sully', 'kont', 'ortak', 'scharfenberg', 'ben', 'albümlerin', \"konrad'ın\", 'özgü', 'justine', 'donanması', 'ayrılışı', 'ceza', 'rağmen', 'tesisleri', 'güneybatı', \"1920'de\", 'basamak', 'uzak', 'roller', '1846', 'petro', 'édouard', 'soyadı', 'değilken', 'reaktörüdür', 'her', 'giray', 'kullanıma', 'için', \"arbuckle'ın\", 'salmıştır', 'türü', 'tutacağını', 'body', 'milan', 'i̇dari', 'söylenebilir', 'asosyal', 'toshiba', 'öngördüğü', 'yaşındayken', 'tamamı', \"kuvvetleri'nin\", '1949', \"mallorca'yı\", 'katlettiler', 'yerleştirme', \"1928'de\", 'asimile', 'bakanlar', '2012', 'felç', 'bütünlüğünü', 'sorunlarını', 'edildi', 'i̇linin', 'getirilmiş', \"bölgesi'nde\", 'başlayacağının', 'bend', 'liderler', 'halka', 'ahmet', 'kazanılmasına', 'doktorluğuna', 'araştırılmaya', 'getirilen', 'döndü', 'ms', 'gitaristi', 'kelimelerinden', 'kolu', 'kuvvetlerinin', 'ücretsiz', 'an', 'i̇cra', 'şehri', 'vergi', 'adam', 'andy', '1880', \"hindistan'ın\", 'yazmış', 'anıldı', 'şampiyonası', 'halifeliği', 'aşama', '1855', 'sadakati', 'kurban', 'değerli', 'alfred', 'irak', \"nehru'nun\", 'etkisi', 'aksiyon/fantezi/komedi', 'konrad', 'olmuşlardır', 'dr.', 'doğuda', 'halukarda', 'şampiyonluğa', 'kadar', 'alınan', 'satarak', ')', 'oynamıştı', 'evlenmedi', 'yapımlar', 'gelmiş', 'getirildikten', 'savaşmak', 'memnun', 'buhranları', 'shook', 'clegg', '1768', 'burdan', 'ayaklanması', 'aktris', 'meydana', '103', 'gerekçe', 'satmayacağını', 'belçika', 'efsane', \"i̇sveç'te\", 'catinca', '69.', '1995', 'edilir', 'savaşılmasını', 'bakanlığına', 'dindarlığı', 'yüksek', 'bağlı', 'kazanmasına', 'kısmıyla', 'bulmuştur', 'sezonu', 'kızı', 'yasaklanmış', 'yurt', \"1950'lerin\", 'tekli', 'havasını', 'devrimci', 'iyileriyle', 'sahneye', 'kalabalık', 'onları', \"fransa'nın\", 'meclis', 'başvekilliğe', 'hamit', 'tabloda', 'asker', 'durdurmayı', '30', 'bremen', '29', 'vladimir', 'maçın', '6.', 'birlikteliklerini', 'yüzden', 'the', 'fc', 'ömür', 'ödemek', 'nufus', 'normanların', 'emma', 'sonraları', \"drogba'nın\", 'il', 'kervanlar', 'şarabı', 'kuruldu', 'i̇vane', 'kelimesi', \"almanyası'na\", 'journal', 'sınıftan', 'gilmour', 'singh', 'sicilya', 'neil', 'kurultayının', 'oyuncularından', '853', 'gezilerde', 'benny', 'vakıf', 'edvard', 'education', \"batı'ya\", 'ye', 'hcha', \"eyüb'ü\", 'yönetmeni', \"paso'nun\", 'yerle', \"kurtuba'da\", 'şarkı', 'gıda', 'üyesi', 'seele', 'kuruluşunun', '1882', 'di̇ti̇b', 'direğe', 'uzaklıktadır', 'çıkarmak', 'koleksiyoncu', 'alanında', 'sintra', 'birden', 'idareceilerinin', 'iktidarı', 'getirdi', 'kanıtlama', 'liseye', '4.', 'muavini', 'kanat', 'göçmenlik', 'on', 'zamanlar', 'yağmur', 'çıkmaza', 'büyüdu', 'aybek', 'girişimci', 'orada', 'gurur', 'stüdyosuna', 'yenilgiye', 'sözlü', 'i̇nsanlar', 'kültürünü', 'onayak', 'nitekim', '84', 'devletindeki', 'uygulamasında', 'lines', 'gerekse', \"14900.000'e\", 'encounter', 'izlenme', 'giydi', 'perestu', 'gitmedi', 'devletinin', 'etkinliklerinin', '250', 'vurgulamaktadır', 'coyle', 'baltistan', 'dışında', '475', 'adamı', 'militanı', 'swaim', 'henry', 'çapraşık', 'agunnaryd', 'karşısında', 'çağında', 'darbeyi', 'savunma', 'kararını', 'kampta', 'savaşında', 'hava', 'girdi', 'showroom', 'biscari', 'bin', 'torresi', 'fdgb', 'kullanarak', 'bağışladığını', \"2010'da\", 'kampüsten', 'bölgenin', 'evvel', 'kapatıldı', 'birlik', 'midnight', 'adli', 'politikalar', 'gelmesini', \"amerika'da\", 'deportivo', 'dağılmış', 'aston', 'knows', 'amaçta', 'yapmaya', 'attıktan', 'mevcut', 'başkanlığında', 'kasım', \"eyaleti'nde\", 'ailesiyle', 'yaşamış', '22', 'karisin', 'hunks', 'devamına', 'olarakta', 'internet', 'uydururlar', 'çağrıldı', 'kisi', 'eğlence', 'faal', 'anlaşmasına', 'bölgesininin', 'havaya', 'kıpçak', \"balkanlar'dan\", 'hüseynov', 'yıllık', '1045,180', \"$'dır\", 'a.s.', \"pradeş'te\", 'değerlere', 'elmtaryd', 'dağı', 'rob', 'meclisi', 'yapıldı', 'dek', 'sonunda', 'oluşur', 'kalın', '38', '2', 'takdirini', 'gösterildi', 'bilinen', 'kurulmasına', 'büyükbabası', 'thumbright', 'gerekli', 'faaliyetlerin', 'yapısıyla', 'track', '280310', 'zaferi', 'zorunda', 'spumate', 'hükûmeti', 'sıcak', 'marcella', \"cumhuriyeti'ne\", 'olalla', 'dönemde', 'nazırı', 'hapisaneye', 'lisanli', 'gerçeği', 'kentine', 'mühendisi', \"kupası'na\", 'karşılığı', \"imdb'de\", 'afgan', 'paşa', 'yilinda', 'hanedanından', 'öldü', 'i', 'yüksekliktedir', 'hediyeyi', '1951', 'nizip', '1996', 'merkezlerinden', \"fc'nin\", 'müslüman', \"stadyumu'nda\", 'yapar', 'yasası', 'düşüncesi', 'ajandası', 'geniş', 'istediğini', 'bülteni', 'takımlarından', \"young'ı\", 'ikincinin', 'hükumetin', 'garca', 'toussaint', 'oynadığı', 'ünlülük', 'kült', 'direniş', 'yaşadı', 'ders', 'normanlarin', 'muhalafet', 'arazi', 'sinirda', 'tahta', 'tornado', 'i̇şgal', 'çatışmalar', 'gezisi', 'kabul', \"i̇spanya'daki\", 'peyniridir', 'eiur', 'durumunda', 'adini', 'çekçe/slovakça', 'i̇yi', 'içsaha', 'ölümü', 'di', 'köşkler', 'monte', 'oteller', 'jurez', 'gastarbeiter', 'dubravnika', 'dünyaya', \"1721'den\", 'viktorovna', 'nin', 'olumlu', 'şir', 'karşılaştırıldığında', 'globe', \"japonya'nın\", 'mobilyalarına', 'pdiğerolitikacıları', 'pukaki', 'yakalamıştır', 'komite', 'cerahatli', 'müziğin', 'ikea', 'kapsayan', 'çoğu', 'karışmasından', 'azınlığın', 'kapasitelidir', 'kazanmasından', 'boyda', 'üyedidir', 'and', 'amirali', 'genişletmiş', 'karakteristiklerini', 'unutulmazlarıdır', 'aldı', 'özgün', 'mimarisinden', 'kazanılan', 'atmayı', '7.4', 'hareketlerine', 'i̇kili', 'filmlerine', 'ritchie', 'rourke', 'nakş', 'chatelaillon', 'cup', 'aurora', 'etmelerinin', 'yeniden', 'göz', 'dengeci', 'uyarlandığı', 'maurice', 'operasyon', 'benfica', 'kurulun', 'kitabı', '900000', 'olumsuz', 'katkısı', 'voleybol', 'aso', 'ilkokuldan', 'silah', 'damgasını', 'tanımalarına', 'ile', 'yarışı', \"1964'te\", 'giren', \"pretorius'un\", 'olur', 'almaktadır', 'rutenlerin', 'prag', 'kraliçesi', 'anısına', 'adenauer', 'kapsamlı', 'efza', 'edecektir', 'doğan', \"caesar'a\", 'ilişkilerini', 'falls', 'bölgeyi', '1992', 'kasasında', 'büyüğüdür', 'gerekliliğine', 'kırım', 'boru', 'formatı', 'pickup', 'balti', 'laughing', 'zamanda', 'kanserden', 'çar', 'werder', 'sendikalardı', 'kurma', 'çocuğudur', 'gecmektedir', \"kelbecer'de\", \"karpatlar'da\", 'elinde', 'afrikası', 'deplasmanınad', 'görünen', 'ayaklanmayı', 'tamamen', 'semti', 'da', 'istediler', 'ettirmesi', 'çalıştıktan', 'fark', 'céret', '50', \"2009'da\", '683', 'drama', 'oturmayı', \"swift'in\", 'albümde', 'çağırıldı', 'romanının', 'x', 'discovery', 'geminin', 'kar', \"üniversitesi'nin\", '34', 'yönünü', 'folk', '!', 'dkm', 'oom', 'k.', 'ettirmişti', 'psv', 'abdülaziz', 'olmasının', 'nikola', 'sosyal', 'kitapların', 'köse', '18', 'loner', 'moravya', \"metin'toke\", 'siniri', 'transferi', '[', 'albümünü', 'yöneltilmiş', 'russia', 'bölgesel', 'ilişki', 'seconda', 'mild', 'dışarıdan', 'haklar', 'halsizlik', 'evlenmişlerdir', 'alternatif', 'yaptıktan', \"havana'da\", 'gerekmektedir', 'anlamındadır', 'karşılaşması', \"11'de\", 'ağırlıklı', '1955', 'klasiğini', 'sakladığı', 'satın', 'paylaşan', 'prades', 'ülkemizde', 'tam', '16464.464', '10153', 'bizzat', 'derebeylerini', \"almanya'daki\", 'walden', 'avukat', \"adenauer'i\", 'kişidir', 'kaçıran', 'öğrenim', 'daki', 'şçedrin', 'valur', 'sands', 'boyutlarında', 'hristiyanların', 'satılarak', 'niyetinin', 'single', 'yapılmış', 'halil', '1860', 'kontlugu', 'hintli', 'illerinden', 'gruplarınkiler', 'yepyeni', 'mgm', 'bölgelerdeki', 'kredi', 'medyasına', 'ilerletip', 'alman', 'adımı', \"caesar'ın\", 'wakhi', 'insansı', 'geçince', '1945', '%105', 'yönetildi', 'izletmek', 'yüz', 'olaydan', 'taşıdı', 'seçti', 'döndükten', 'açılış', '1380', \"rhodes'tan\", \"çekosloslovakya'ya\", 'stand', 'wade', 'korunmalı', 'iyi', 'vefat', 'aktif', 'aab', 'metre', 'red', 'olmuştur', 'türklerdir', \"mısır'a\", 'william', 'birleşme', 'katledildiği', \"avrupa'daki\", 'kadınlardan', 'yılların', 'toplamda', '1938e', 'yönetimine', 'türk', 'street', '1933', 'kültür', 'yapılabilecek', 'sergileyemediğini', 'bağımsızlığını', 'büyüktür', 'bağlandı', 'bezmialem', 'devrimi', 'tarafını', 'başbakanlığı', 'monterey', 'göçlerden', 'seattle', 'mecidiyeköy', 'pahalı', \"abdülmecid'in\", 'taher', 'takma', 'azerbaycan', 'van', 'ikematgahı', 'parçasıyla', 'çocukluğunda', 'küçük', 'olurlar', 'filminde', 'şaşırtıcı', 'allyson', 'idaresindeki', \"i̇mparatorluğu'nun\", 'knez', 'wilson', 'daves', \"tiso'nun\", 'bakanlığı', 'romalılar', 'chillicothe', 'anlayışıyla', 'lanse', 'gibidir', 'evlenme', 'mnemonic', 'küresel', 'sancak', 'ifadesiz', 'karşılandı', \"amerika'lı\", 'antrenörü', 'sanatçılardandır', 'axmaker', 'konumda', 'graham', 'meriç', 'konu', 'sezonunda', 'golsüz', \"efendi'yi\", 'alıkoyanın', 'etkiye', 'gney', 'şehir', 'yk', 'curran', 'breslin', 'ayrıntı', 'break', 'parkı', \"pandora'yı\", 'sağlamak', 'yenilerek', 'fiyata', 'oyunculara', 'edene', 'aralığına', 'sistemine', 'kadın', 'presti', 'middlesbrough', 'guiscard', '82.', 'hafıza', 'sq', 'kavalalı', '1901', 'kendisini', 'ilinin', 'hristiyan', 'alıp', 'kürt', 'dream', 'taşlama', \"i̇spanya'nın\", 'ardından', '9453', \"ekim'e\", 'birleşip', 'kendine', 'anlaşmak', 'bitimine', 'oluşturuldu', 'adla', 'götürüp', 'olabilir', 'nüfusu', '20000', 'bilitikid', 'atlético', 'müttefik', 'başkanlığını', \"abdülhamid'i\", 'görev', 'batıda', 'las', 'steve', 'laach', 'devirerek', 'yayımlanmıştır', 'yoshikatsu', 'rackets', 'peterborough', 'amaçlı', '35', \"irak'ın\", 'olmayı', 'satıcılar', 'çocuklarının', 'moving', 'saray', 'güneydeki', 'çıkarmış', 'eden', 'bobinlik', 'milli', '12.', '1977', \"stoppini'ye\", 'grammy', \"avustralya'nın\", 'çizer', ';', 'görmek', 'ağrısıyla', 'bisikletiyle', 'dayanıklılık', \"sharaman'ın\", 'müzikal', '28', 'albümünde', 'siyasi', 'görülür', 'cemiyeti', 'mountains', 'şehirden', 'flevoland', 'sırbistan', 'boyundaki', 'boykotları', 'gaudin', 'kebbell', 'i̇sviçre', 'başlatmıştır', 'çevrilmiştir', 'saha', 'turnuvadaki', 'kamera', 'birkaç', 'selçuklu', 'maddi', 'tarsem', 'futbolcudur', 'hermann', 'gütmeyen', 'beesley', 'yetkililer', \"torres'i\", 'yapma', \"2012'de\", \"cumhuriyeti'nin\", 'dav', '72496', 'cerezo', \"bolivya'nın\", 'bedenin', 'hiçbir', 'frankfurt', 'listesinde', 'yazarın', 'göstermedi', 'üzerindeki', '9665', 'almanlar', 'east', 'ren', 'çevredeki', \"na'vi\", 'sezona', \"persepolis'te\", 'müsbet', 'rumu', \"ödülü'ne\", 'kazanan', 'çalışmaları', 'güçlenen', 'golünü', 'havalimanından', 'adıdır', 'veremeyince', 'emlakçılık', 'alınmıştı', 'yılındaki', 'veya', 'derslerini', 'başarısıyla', 'öğrencinin', 'mario', 'halifesi', 'andronikaşvili', 'asist', 'kasabası', 'izlemiş', \"2011'de\", 'gelişinden', 'bencil', 'ağırlık', 'grubunun', '1858', 'ediniyor', 'suluslarasi', 'çalışı', 'maliyetleri', 'zengin', 'bazıları', 'montaj', 'işlemediğini', 'ruhr', 'gücünüzle', 'i̇ktisadi', 'sevgi', '127699', 'yayınlamıştır', 'barışı', 'sürdürmektedir', 'peştuca', 'pokal', 'santrafor', 'statüsüne', '60', 'usher', '63', \"i̇talya'yı\", 'adayı', 'almanach', 'japon', 'jenerikten', 'uyarlamasıdır', 'hazırlıkları', 'icinde', 'cook', 'tursuktepe', 'meclisindeki', 'serbeşleştirilmesi', \"abdülhamit'in\", 'konsüllüğü', 'bull', 'sırada', 'i̇ddialara', 'illlere', 'gösterilmişti', 'tanışmıştır', 'konulamayacağını', 'listelerinde', 'geleneksel', 'sözleşme', 'sanatçı', 'leo', 'castro', 'anlaşıldığı', 'mulke', 'out', 'şimdi', \"chelsea'deki\", 'hayatının', 'gösterdiyse', 'apes', 'mühendislik', 'namibya', 'aragonlulara', \"dergisi'nin\", 'ön', 'müzik', 'ocak', 'ödüllü', \"ikea'yı\", 'tahminlere', 'neytiri', 'durumu', 'padişah', 'işletilmesi', \"i̇talya'da\", 'şaşkın', \"königstein/taunus'ta\", 'ölçülen', 'plaj', 'afyon', 'liste', 'üzerine', 'faaliyetler', \"petersburg'daki\", 'geçerek', 'turnuvalara', 'belirtilen', 'almanlarının', 'saldırılarda', 'sounders', 'gegen', 'vermek', 'çocuktur', 'bayern', 'skor', 'kurulan', 'kralları', 'teslim', 'önayak', 'yararlanan', 'basınına', 'ün', 'fransa', 'bastırdı', 'eylül', 'canlandırılmıştır', 'aka', '1853', 'sert', 'golcü', 'istifade', 'aksine', \"grunitzky'de\", 'kılıç', 'kırizinden', 'önce', 'gazete', 'yansatmaktadır', 'merkezüssü', 'girişimidir', \"sicilya'da\", 'gittikçe', 'mahmut', \"dallas'ın\", 'yarıştı', 'memleketlerinde', 'toptan', 'napolililerden', 'anayasal', 'sularında', 'yürütmesi', \"lubbock'da\", 'afrika', 'gezileri', 'tank', 'otel', 'görüntüsü', '15', 'zaten', 'kamuoyu', 'ihanet', 'jonathan', 'kabaca', \"savaşı'nında\", \"avusturya'nın\", 'üstlenmiştir', 'freddie', 'silik', 'eleştirmen', 'yerleşime', 'ortancası', 'etkilerinde', 'pembe', 'paris', \"spd'nin\", 'hükümetinin', 'satılık', 'köpüklü', 'şarkıcıyı', 'inceleyen', 'vermesi', 'düklüğü', 'tesir', 'anlaşılan', 'bağlantı', 'ferdi', \"1974'den\", 'üretimi', 'pazarlama', 'çalışana', 'michigan', 'takımlarındaki', 'biten', 'eyaletinde', 'ilişkiye', 'doktora', 'överek', 'ıslahatlara', 'geçmiştir', 'pharsalus', 'bakış', 'parklar', 'cecil', 'fergana/özbekistan', 'ragusa', 'chuquisaca', \"2007'de\", \"werner'in\", 'yer', 'görmüşlerdir', 'albümü', 'i̇spanyolca', 'françois', 'burç', 'yıl', 'ifade', 'geoff', 'yön', 'devriminden', '237', 'çekiyordu', 'bitmiştir', 'jake', 'westfalya', 'çeken', \"türkiye'dekilere\", 'düzd', 'sehrini', 'ligin', 'muharebe', \"vilayeti'nin\", 'dan', 'gore', 'kalan', 'lazio', 'etmeden', 'futbolcusu', \"kausen'ın\", 'stills', 'resmidir', 'lig', \"cephesi'nde\", 'yayımladı', 'güçlerini', 'halinde', 'la', 'sehir', 'oasis', 'yaratılış/evrim', 'jane', 'karşı', 'quality', 'hostina', 'platformda', 'konuşur', 'csa', 'diye', 'california', \"paşa'nın\", 'mensuplarını', 'evlendi', 'sümüksü', 'lösemi', 'yapımlarda', 'parque', 'müslümanların', 'kurucusuydu', 'mahitab', 'suikast', 'dieter', \"hanescu'ya\", 'şehzade', 'kuvvetler', 'katkıyıda', 'feshedilmesine', 'galata', 'oynamış', 'direkt', 'konuşmaktadır', 'görmemesi', 'ifadesi', 'galibiyet', 'age', 'oranları', 'yaptılar', 'dizisinin', 'umumiye', 'vazgeçerler', \"155.'liğe\", 'danimarkalı', 'kaçmak', 'toplumdan', 'tanıtım', 'itibari', 'nisan', 'sinema', 'sipariş', 'yükseltti', 'stilinde', 'açılır', 'ilgi', \"festivali'nde\", 'markasının', 'ö.', 'campania', 'sheikh', \"madrid'in\", 'müzisyenidir', '36', 'kurumlarına', 'rehin', 'fahri', \"hessen'de\", 'askerden', 'konser', 'sezonundaki', '69', \"murad'ın\", 'sahibi', 'karşılamaktadır', 'bring', 'essen', 'değişimi', 'durmuyor', 'zrenjanin', 'uyandırmıştı', 'yapıtlarıdır', '1963', \"lig'de\", 'gaza', 'muhtemelen', 'control', \"youtube'da\", 'derya', 'imparatorluk', 'kolaylaştırılması', 'soyundan', 'ulus', '1884', 'acireale', 'istaistiksel', 'karşılamaya', 'kırlığı', 'maçtan', 'konseri', 'karşıtı', 'etmiştir', 'ortalama', 'gazetesi', 'günlük', 'müdahaleler', 'açık', 'roald', 'treni', 'manken', 'yaşamakla', 'tesislerinden', 'prenses', \"sicilya'yı\", \"antonius'un\", 'phil', \"birliği'dir\", 'oynadı', 'şampiyonu', \"city'nin\", \"1993'te\", 'aversa', 'terence', 'birleştirdi', 'basılan', 'parkları', \"csu'nun\", \"kamikaze'den\", 'ararat', 'usulü', 'olmasıydı', 'kurucusudur', '13461371', 'kadarki', 'kanunlarının', 'önerdi', 'belirlenmesi', 'savaşlara', 'uyacak', 'ray', 'almanlarını', 'hitachi', 'partilerin', 'pt', 'lük', 'plains', 'biçim', 'anlayışının', '30.102010', 'belediyesine', \"teksas'ta\", 'başkan', 'birleşimi', 'komşuları', 'ırkçı', \"ağustos'ta\", 'gibi', 'rusya', 'boyunca', 'nola', \"belçika'ya\", 'yapı', 'filmiyle', 'reece', 'konsolosları', 'yönelik', '1991', 'serinin', 'vermemesi', 'aralıkta', \"roma'lı\", 'ünlü', 'hikaye', 'josé', \"kanada'nın\", '1905', 'takımı', 'yetersizliklerinin', 'sepete', 'olmasını', 'ağır', 'bulunduktan', 'iklim', 'oyunda', 'tokubetsu', 'ışıltısı', 'tatlı', 'örgütlenen', 'trajan', 'dermot', \"ashanti'nin\", 'emekci', 'takımına', 'hizmete', 'semerkand', 'tamamladığı', 'yayınevi', 'ülkeler', '1/64', '2727.300', 'redmond', 'âli', 'ili', 'c', 'hukuk', 'evlendikleri', 'muharebedir', 'verilmişti', \"ormanları'nda\", 'septe', 'başlangıçta', 'attı', 'gözlenmektedir', 'dönemi', 'sürdürmekle', 'toplumunun', '1980', 'merkezinde', 'piet', 'iskambil', 'sayı', 'çözüme', 'gelirse', 'kuru', 'hazırlanmıştır', 'takımını', 'animasyon', 'işletilmektedir', \"1983'te\", 'yenilgisinin', '1948', '750', 'dadjo', 'gerçekleştirmektedir', \"ukrayna'nın\", 'almanların', 'juan', 'japonu', 'politikacısıydı', 'ayrı', 'albümünden', 'günde', \"1990'ların\", 'geçişinin', 'aldıktan', 'ıssız', 'emekli', 'i̇slamî', 'gönderdi', 'tarım', 'havalimanıdır', 'kaybederek', 'silahsız', 'fahrettin', 'gençlerin', '1994', 'belde', 'forumu', 'online', 'i̇statistik', 'kırmızı', 'şikago', 'sagas', '1989', '1000', 'selim', 'özi', 'ortamda', 'sıkı', 'danışılmadan', 'geçtikçe', 'atlarıyla', 'buyuk', 'erdemlerini', 'rolland', \"akdeniz'de\", 'pekiştirmektedir', 'saydığı', 'vuruşlarla', 'eyaleti', 'karışıklıklar', 'kilometre', 'amy', 'adlarının', 'woolmer', 'söylüyor', 'oynayabildi', 'resmen', 'ortaçağlaradan', 'vardır', 'karadağlı', \"ronaldo'nun\", 'detroit', 'vakalarından', 'dinle', 'girmiş', 'trickini', 'gudjohnsen', 'atp', 'köyü', 'şehirlerde', 'bis', 'beyaz', 'etkin', 'ilişkili', 'çince', 'nio', 'bezmara', 'words', 'atıp', 'birliklerinin', 'suriye', 'beğendikleri', 'web', 'kaçak', \"bölgesi'ne\", 'lyngby', 'yayinlanan', 'yönettiği', 'passage', 'geçen', 'gitmak', \"959'da\", '1788', 'britpop', 'nehir', 'i̇lacı', 'yollardan', \"tv'de\", 'kaçan', 'terimi', 'ilin', 'kentidir', 'işlerini', 'partisi', 'gelmektedir', \"afganistan'ın\", 'bakanı', 'marianne', 'yayınladı', 'gazetesidir', 'almanak', 'hep', \"ikea'nın\", 'tutuklanan', 'başlarda', 'arazilere', 'jumper', 'tuttuğu', 'tutuldu', 'molina', 'albümlerinden', 'çıktığını', 'kesinlikle', 'yanlarına', 'forvet', \"intelligencer'dan\", 'pakistan', '1494de', 'satışa', 'kırgızistan', 'nay', 'eastland', 'albümüdür', 'arazide', 'kağıdın', \"abdülhamid'in\", 'albümlerinde', 'kömünü', \"avenger'da\", 'i̇şbirliği', 'gerçekleşen', 'world', 'gösterildiği', 'duruştur', 'çevirisini', 'başbakanlığa', 'shinzo', 'etmişlerdir', 'melkonyan', 'vergilerine', 'matt', 'rolünün', \"hindistan'da\", \"kirkwood'dur\", 'olayların', 'efsanenin', 'saklandı', 'porter', 'tabloid/kompakt', 'kurtarip', 'beğenilerek', 'bağlılığını', 'sayıları', 'lights', 'say', 'hafta', 'senarist', 'strong', 'parçalarındandır', 'benimsememektedir', 'i̇spanyollara', 'babası/haydut', \"beyrut'un\", 'sahnelenen', '113', 'konumdaydı', 'hem', 'antik', 'efendi', 'kanalında', 'tutmak', 'atmış', 'izlemekte', 'ellerine', 'sorunlardandır', 'hükümdarı', 'die', 'savcılıkta', 'ufak', 'harry', 'anılmaktaydı', '247300', 'alsada', 'eserlerini', 'kendilerine', 'karıştığı', 'yüzde', 'smri', 'kökenine', 'ebeveynler', \"torres'in\", 'şüpheler', 'sonuçlarıyla', 'turk', 'konuşması', 'rıhtımına', 'vermeden', 'dini', 'hazırlığında', 'uzun', 'kuvvetleri', 'futures', 'formasını', \"bağdat'ın\", 'addır', 'gruplardan', 'yevgrafoviç', 'film', 'dilde', '1919', 'değerlendirmeyi', 'ölmüştü', 'ünlüdür', 'yunan', \"pakistan'ın\", 'almaya', 'görüşmelerde', 'maria', 'keyif', 'murchison', 'boyun', 'jesse', 'niue', 'gazetelerden', 'başarısızlıklara', 'doberan', 'veronicas', 'boylu', 'öğretim', 'down', 'ezberlemek', 'rekorlar', 'tamer', 'marthinus', 'sarayı', '1185', 'bugün', 'i̇mparatoru', '2011', 'toplum', \"freddie'yi\", '1859', 'çekeceği', 'amatuniler', 'olaylar', 'başından', 'öğrenen', 'kritik', 'isteyen', 'yönetmendir', 'getirmesiyle', 'günümüze', 'gerek', \"chelsea'ye\", 'kardeşi', 'kulübün', 'sidney', 'gününde', \"helene'nin\", 'ormanı', 'tv', 'kapalı', 'yönetilir', 'işlemlerini', 'parklarının', 'etmeleriyle', 'öldürülmesi', 'gelişmeler', 'olduğunu', 'görülmüş', 'benga/buz', '1422', 'müdürü', 'eleştiren', 'kederinden', 'worthington', 'boynunda', 'merkezindeki', 'türkçesini', 'geldi', 'egemenlik', 'yaptıkları', 'yapan', 'uyduda', 'çetesinin', 'teşkilatı', 'politikasının', 'albümdendir', 'alışverişin', 'tehdidi', \"aralık'ta\", 'gösteriliyor', 'sinatra', '315', 'perşembe', 'kullanılmaktadır', '}', \"japonya'da\", 'konserleri', 'nordsjælland', 'çıkarıyorlardı', 'bulunmaktadir', 'county', 'konferansı', 'nufusu', 'havoc', \"na'viler\", 'konuşabilmektedirler', \"i̇ran'a\", '27.', '5', 'hop', 'geçtiği', 'tanınır', 'üslenerek', 'leicester', 'gittikleri', 'başkanlığına', 'işlerine', 'hükümdarlığı', 'konusunda', 'model', 'almıştır', '86', 'grbi', '1926', 'davranislarina', 'modellenerek', 'kentin', 'köln', 'barcelona', \"iyi'yi\", 'sözleşmeye', 'vorpommern', 'adaletinden', 'financial', 'filmlerde', ']', 'suyu', 'varlığını', 'khamdamov', 'türbeleri', 'bünyesinde', 'denetleme', 'başarısını', 'dark', 'sikke', 'gözlüdür', 'hafif', 'roma', 'toby', \"sharaman'ı\", 'versiyonu', 'serisindeki', 'almaları', \"devletleri'nde\", 'bulgaristan', 'yahudi', 'temel', 'anlatır', 'gemilerine', 'nüfuslarına', 'dramatik', 'oğlunu', 'amerika', 'emir', 'kaybetmeye', 'kanallarını', 'oylardaki', 'yaş', 'yapılmaksızın', 'mary', 'erken', 'sunulan', 'tokuş', 'buster', 'haberin', 'people', 'desteğini', 'siteleri', 'dergi', 'yardım', 'turnuvası', 'bankadan', 'kaçanlara', 'başkanları', 'filmine', 'zamanın', 'maçlarından', 'sağladıkları', 'gümüş', 'imtiyazlarını', 'karardan', 'calcio', 'hürtgen', \"yargıtay'ı\", 'yapmıştır', 'soyadının', 'outlaw', 'fortunati', 'evinde', 'ismin', 'protektorası', '18.7', \"young'ın\", 'şehirleşmiş', 'adaları', 'tayfunu', 'gelmekte', 'old', 'tercih', 'müddet', 'cisco', 'blu', 'biter', 'sarayın', 'oranla', 'afa', '54', \"gulliver'in\", 'kısa', 'nicolas', \"1952'de\", 'bentez', '20', 'gönüllü', 'grande', 'kurulmuş', 'almanca', 'dünyası', 'az', 'llano', 'südet', 'eyaletin', 'torunu', 'thurina', 'fransızca', 'olmadan', 'may', 'yaratık', 'kişilik', 'krallarının', 'slovak', 'maçlarına', 'ilki', 'ne', 'tarihe', 'geçirmek', 'tamamlayan', 'takımın', 'enerji', 'ülke', 'bile', 'nokta', 'çalışmalarına', 'hazırlayan', 'zincirlerinden', 'ortasında', 'aşık', 'ayakta', 'cenazede', 'ingvar', 'sıfatı', 'okullarının', '1774', 'listesini', 'elle', \"ocak'ta\", 'sütünden', 'this', 'finale', 'boerlerin', 'örgütüne', 'savaş', 'sonu', 'fifa', \"house'da\", 'kendi', 'değişik', 'komedi', 'elemelerinde', 'takiben', 'yazar', 'lola', 'halkına', \"köln'de\", \"wilhelm'in\", 'şenlikleri', '2.', 'abdera', 'almak', 'doğru', 'karluk', 'kurulmasını', \"1869'daki\", 'gitar', \"üniversitesi'ne\", 'itfaiye', 'değiş', 'gilgit', 'soluyamadıkları', 'aral', 'generallerinden', 'deprem', 'listesi', 'çoğunlukla', 'beri', 'faydalanabilmek', 'yaşamaktadır', 'yakın', 'edildiğinde', 'rossum', 'tamamını', 'talagi', 'fehriye', 'cumings', 'üzüm', 'almanyalı', 'bundan', 'elemanlar', 'oliver', 'almanın', 'öncülüğünü', 'hudson', \"budizm'in\", 'bayrakları', 'cell', 'dallimore', 'faithfull', 'zarar', '1937', 'germen', 'lavinia', 'başarılı', 'ahmed', 'haykırırsınız', 'olacağını', 'önerisiyle', 'göç', 'başarı', 'görüntü', '1823', 'ikiye', 'ağrı', '2007', 'ev', 'turnuvasıydı', 'öldürmesi', 'kapattı', 'dil', 'i̇talyan', '1.', \"sezar'ın\", 'asiller', 'girdiklerinde', 'britanyalı', 'sözleşmesi', 'milyon', 'dökülen', 'yerleştirilmeleri', 'görevden', 'kökü', 'getirilmiştir', 'yakınlarında', 'ilkeleri', 'hemşin', 'ortaya', 'muktipleks', '1974', 'katildi', 'ticareti', 'sand', 'abdülmecid', 'edebilmek', 'görevi', 'erkek', 'geçiş', 'sarılmış', 'ikincisi', \"kütahya'ya\", 'donanmayı', 'felçli', 'karşılaştı', 'anlayışlarını', 'hoşlanmayanlar', 'gösteri', 'birleştirmeye', 'gelayana', 'bütçe', 'tanzimat', 'haftada', 'zirve', 'senatör', 'hitler', 'aday', 'emevileri', 'lisanslı', 'gold', 'çift', 'kararlı', 'devletleri', 'cortez', 'parklarında', 'yukarıdan', 'devletin', 'minimum', 'askere', 'gerçek', 'pyongyang', 'arkadaşlarından', 'kız', \"1939'a\", 'rau', 'nem', 'takvimi', 'i̇skeçe', 'bulununca', 'bunalımlı', 'başrolünü', 'kulesinin', 'kullanılıp', 'aragatsotn', \"arsenal'ide\", 'vip', \"1789'da\", 'ilhak', \"hokkaido'da\", \"sırbistan'ın\", 'uyuyan', 'lytton', 'swansea', 'kimpton', 'komisyonun', 'it', 'katılır', 'serideki', 'grange', 'hüküm', 'otuz', 'bölgesindeki', 'krallığında', 'sonucunda', 'yapılarak', 'kaptanıdır', \"prag'a\", 'duyulan', 'istedi', 'girişen', 'yanardağdır', 'yazın', 'kurulmuştur', 'yüzdesi', 'üniversitesi', 'darbe', \"berlin'de\", 'futbolculardan', \"godesberg'de\", 'american', 'giriş', 'kadrosu', 'onurlandırmıştır', 'hatırlandığını', 'doğumlu', 'oranda', 'only', 'gelmişlerdir', 'sarah', 'gönderilmiştir', 'milletler', 'recklinghausen', 'niyeti', \"ikea'daki\", \"zelanda'nın\", 'bolgesi', 'derinden', 'taro', 'mavrikios', 'mart', 'rakibi', 'yayına', 'kendisine', \"1987'de\", 'teknoloji', 'ab', 'devletlerin', 'helsinki', \"1864'te\", 'ages', \"murphy'nin\", \"avustralya'da\", 'sayısız', \"münih'te\", 'iktidara', 'i̇slamcı', 'sözleşmesini', 'doğrudan', 'olmak', 'bölündü', 'gazeteleri', 'milyar', 'durumdaydı', 'sanz', 'tanınmış', 'black', 'hanedir', 'yaptı', 'dir', 'angst', \"1917'ye\", 'mahatma', 'gardner', 'sleeps', 'sharaman', 'romalı', 'çözümler', 'sanayileşmiş', 'codicote', 'tasman', 'seniyeperver', 'here', 'birbirleriyle', 'borsası', 'keşfinde', '1957', 'mans', 'elemelerde', 'kaldırmayı', 'adına', 'filmin', 'dönüştür', '3', 'haberi', 'konuşulmaktadır', 'birininin', 'tayfunlarda', 'tamina', 'insanlığı', 'karsi', 'fort', 'öncelikle', 'memuru', 'içeren', 'yüzü', '0', 'sanduka', 'yeraldığı', 'başrollerde', 'bırakmasını', 'yatırım', 'bölgesinin', 'albümleriyle', 'eser', 'çiftlik', 'gelir', 'heart', 'doğduğu', 'untaru', 'kasaba', 'iyisini', 'olimpiyat', 'kaldıkları', 'brianza', 'askerlik', 'alt', 'geçtiğimiz', 'birisi', 'sonrası', 'brookside', \"prix'i\", 'türklerin', 'denizden', 'devreli', 'oynandı', 'karşılaşılan', 'gösterilere', 'kalite', 'yaptırmış', \"sheik'in\", 'üç', 'romanesk', '1845', 'kurumu', 'gelen', 'caserta', 'barnes', 'kalmıştır', 'joubert', 'kırsal', 'tenise', 'deneyimini', 'fantastik', 'tarihi', \"abd'nin\", 'koyar', 'uygulamak', 'merkezinin', 'sportif', 'entegrasyonu', 'osaka', '1912.200', 'bulunarak', 'gürcistan', 'sürmüştür', 'sistemini', 'caeti', 'firmanın', 'kartını', 'lübnan', 'filmdir', 'dance', 'century', 'nedeni', 'aralıklı', 'geçmeyerek', \"1994'te\", \"oscar'da\", 'bursa', 'hedeflerinin', 'değli', '1961', 'weinberg', 'katıldığı', 'muharebeler', \"1906'dan\", 'el', \"waddell'in\", \"2'de\", \"marcellus'un\", 'koalisyona', 'gela', 'en', 'uzantılı', \"asala'nın\", 'adlandırılmışlardır', 'konserler', \"i̇t's\", 'anorthosis', '77', 'kuk', 'padişahı', 'çekilmiştir', 'city', 'doludur', 'sebep', 'hastalanarak', 'simone', \"grunitzky'yi\", 'mobilyalar', 'amd', 'seviyede', 'karakteriyle', 'yapımı', 'dallarında', 'yaşamayı', 'rastlanır', 'i̇lerleyen', 'andrés', 'racing', 'yönelmiş', \"marvel'ın\", 'doneminde', 'yuvarlanan', '1942', 'olmasıyla', 'üzerineydi', 'bensemann', 'greendale', 'ragged', 'marcus', 'erdi', '1946', 'sunmaktadır', 'londra', \"2005'te\", 'görüldü', 'resmî', 'bodjollé', 'akik', 'tepe', 'görünmez', 'open', \"avusturya'da\", 'planlamaktadır', 'suçlardan', 'girişiminin', 'yörüngesinde', 'maçlarını', 'kökeni', 'pilotunun', 'sık', 'bizans', 'han', '2000', 'atamanı', 'golü', 'müller', 'çıkıyordu', 'gelişmelerle', 'genişliğinde', 'ziyafette', 'gerekçesi', 'toplamıştır', 'kazakistan', \"türkistanı'na\", 'onlara', \"kurulu'nun\", \"1995'te\", 'de', 'bezmi', 'beylik', 'romanş', 'fulham', 'test', 'sonuçlar', 'reşit', \"monaco'ya\", 'yapmak', 'mimarisi', 'tazminatı', 'öldüğünde', 'dizileri', 'öğreciye', 'vatandaşlığında', 'ama', 'fermana', 'l.', \"portekiz'de\", 'devam', 'nizam', 'ilişkilerinde', 'kişi', 'edindi', 'etti', 'i̇kinci', 'çıplak', 'öğütlüyordu', \"prensliği'ni\", 'yayımlanan', 'başarısı', 'şampiyonunun', 'münih', 'bunalımı', 'kararnamesiyle', 'dikkat', \"lubbock'ın\", 'lakaplı', 'saygıdeğer', 'gönderimini', 'serisi', '50.', \"psychology'yi\", \"2'lik\", \"2002'de\", \"fassbinder'dir\", 'road', 'temeşvar', \"club'dan\", 'sinyaldir', \"2000'de\", 'mahkûm', 'hakim', 'weyer', 'kurt', '600', 'khor', 'okuma', 'sivritepe', 'senesinde', 'sorununun', \"fatımiler'den\", 'radyolara', 'veren', '67', '1913', 'anda', 'i̇talya', 'hood', 'corte', 'birlikleri', 'başlayan', 'işlediği', 'f', 'piyasaya', 'çıkmamıştı', 'buldu', 'yetiştirilir', 'mücadele', 'story', 'o', 'team', 'konan', 'instinct', 'zincirinin', 'solo', 'almadı', 'pandora', 'katlanarak', \"house'u\", '1.5', 'bonus', \"single'ıdır\", 'ettiği', 'valide', 'mensubu', 'organizesiyle', 'yunanistan', 'altı', 'keşmir', 'dizayn', 'yasalarından', 'sağlamıştır', 'giymiştir', 'banka', 'richard', 'kitabında', 'evlendiklerinde', 'prensliği', 'lahvedilmsi', 'deja', 'çünkü', 'seven', 'özerk', 'allport', 'göremezlik', 'figürüdür', 'çalışmasının', 'seçilme', 'yılında', 'karşın', 'kişilikli', 'sivil', 'tanrıça', 'karakter', \"i̇mparatorluğu'dur\", \"hattrick'lerini\", 'aşağıdaki', 'hariciye', 'ilişkin', 'me', 'tarihinin', 'lotta', 'menajer', 'monza', 'kurdu', 'ilkelerini', 'idi', \"york'ta\", 'aynı', 'oynadıktan', \"panathinaikos'u\", 'padişahları', 'güçlüğü', 'edilen', 'devlettir', 'yaşam', '09', 'kazanması', 'generaldir', 'gürcü', 'grubunda', 'ülkeden', 'bad', 'esas', 'konulmasının', 'baş', 'ederek', 'sınırını', 'devletler', 'şubat', 'mark', 'anlamıyla', 'riley', 'eşi', 'yönetmenlerin', \"karshi'de\", 'derneğine', 'i̇ngilizce', 'tanınması', 'zinciri', \"sarayı'nın\", 'karlo', 'kraliçenin', 'harvard', \"wimbledon'a\", '1970', 'nehre', 'şerefle', 'geçirdiği', 'cinsiyetli', \"vantaa'ya\", 'senatosunun', 'cocuk', 'beşiği', 'komedyenleriydi', 'kazanmıştı', 'yayımlanır', 'algernon', 'düzenlediği', \"hersek'te\", 'kocasının', 'yazında', 'anne', 'i̇talyanlar', 'dorothy', 'beğeni', 'vücut', 'çocuğundan', \"bonn'da\", 'tarsuslu', '788', 'indirtti', 'bunalım', 'galica', 'elektirk', 'kahramanla', 'yoluyla', 'ceo', 'joanna', 'konumundadır', 'internetten', 'kullanabilmek', 'koleksiyonculuğunu', 'medyası', 'yapılması', 'lancaster', 'libertas', '197', \"runciman'ın\", 'dünyadaki', \"polonya'ya\", 'green', 'satışına', 'kültürel', 'kalecisi', '$', 'başkanlarının', 'alınmaya', 'kapadı', 'tanışmışlardı', 'yoğundur', 'gelecek', 'mevkiinde', 'yılına', 'claudian', 'türkçeye', '356', 'tarim', 'final', '11150', 'kökenliler', '9131018', \"i̇ngiltere'nin\", '%11', 'geçmesi', 'david', 'zalim', 'geçirdiler', 'leah', 'postahane', 'çukurova', 'kaybetti', 'rakiplerden', 'needle', 'karta', 'yeraldı', 'yeni', 'amerikalı', 'girişti', 'sebeple', 'stadium', 'soap', '1943', 'şansölyeliğe', 'altyapısı', 'yönetiminin', \"han'ın\", 'üretilmektedir', 'piyemonte', 'birçok', 'aşamaların', 'bölgeleriyle', 'gezegeni', 'jeremy', 'topraklar', 'şarkısında', 'geçer', 'yasa', 'buraya', 'transvaal', 'misafir', 'üniversità', 'dönemden', 'yerlerini', 'needs', 'yatırıldı', 'doğrultuda', '1851', 'katıldı', 'insanlara', 'us', 'tom', 'takımından', 'kavramıamerika', \"savaşı'nın\", 'walter', 'tanımı', 'hoşgörülü', 'anlayınca', 'raul', 'kampuslarının', 'guinness', \"takımı'nın\", 'belediye', 'fırsatı', 'yarikuresinde', 'hainlik', 'senaryosunu', 'güzel', 'belli', 'kartı', 'ordusudur', \"jake'in\", 'sıralamasında', 'stone', 'etmektir', 'ayrıcalıklı', 'zamandır', 'çalışmalara', 'öngörülen', 'yerinde', 'beğenilen', 'attığı', 'doğuya', 'tanımlanan', 'reykjavik', 'vize', 'gnassingbé', '2005', 've', '214', 'filme', 'türündeki', \"pyatov'un\", \"teksas'ın\", 'yapmaktadır', 'girişiminde', 'düzeyinde', 'ebert', 'productions', 'stratejik', 'papaz', '3.', 'bölgelerinde', 'cephede', \"paris'te\", 'konuda', 'bulunmaktaydı', 'sezonki', 'evlatlık', \"1970'lerin\", 'üzere', 'mülkiye', '88.', 'mimarî', 'milyarderler', 'kontrol', 'kurucuları', 'maruz', 'ateş', 'statüsü', 'teşvik', 'girmesi', 'rüzgarlarla', 'talancı', \"aversa'nin\", '2003', 'evan', 'ağabeyinin', 'kalmaktadırlar', 'vermiş', 'wesley', 'rainer', '%', 'performanslarından', 'tek', 'transferden', 'şahin', \"electric'te\", 'toplandı', \"garros'a\", 'güneye', 'önemi', \"vadisi'nde\", 'gülcemal', \"afyonkarahisar'da\", 'yazarını', 'ovalık', '2004', 'temeli', 'satıyordu', \"hastanesi'ni\", 'iken', 'çıkartma', 'ayın', \"i̇zlanda'nın\", 'fazlaca', 'bütçesi', 'araba', 'osmose', 'harflerinden', 'inanıyordum', 'stadyumdur', 'bitlis', 'rüzgarlı', 'itibariyle', 'i̇van', 'kulüplerde', 'giyemedi', 'büyüklü', 'charcas', 'stanley', \"berlin'den\", 'atarak', 'çmm', 'yaklaşırken', 'tanındı', 'ilgili', 'pretoria', 'bohemya', 'maçında', 'güneyde', 'duyduğu', 'uncommon', 'erimiş', 'asılarak', 'fitzgerald', '150', 'hatayı', 'gereken', 'fatihlerin', 'alarak', 'birlikte', 'dışişleri', 'wolverhampton', 'fodbold', 'cenan', 'i̇smail', 'kutsal', 'emil', 'sportmagazin', 'grupları', \"fc'ye\", 'nitelikleri', '470', \"11'inci\", 'not', 'açıkladılar', 'dreams', 'b', 'hill', 'rolü', 'koroki', 'forbes', 'sömürge', 'gelişmesini', 'üst', 'km', '1968', 'koyu', 'istiyoruz', 'giydiği', 'karşılaşan', 'bolgenin', 'şampiyonudur', 'nedeniyle', 'ailenin', 'büyük', 'dying', \"rovers'ı\", 'idiler', 'kışında', 'gösterirken', 'andriy', \"kaliforniya'da\", 'dayanır', 'millî', 'ödeme', '1999', 'katolik', 'kıbrıs', 'arkasındaki', '12100', 'romanı', 'görevlendirildi', 'saçlı', \"reich'ın\", 'üzerinde', 'köklü', \"marcellus'u\", 'profesyonel', 'kuşatarak', 'lav', \"avrupa'ya\", 'anlatmaktadır', 'kararlaştırılmıştır', 'yılından', 'molla', 'çıkarmıştır', '1792', 'geliyordu', 'araya', \"rachel'ın\", 'knight', \"paso'nin\", 'insanların', 'açısından', 'konseyi', 'yasalarının', 'ain', 'doğmuştur', 'kuzeybatı', 'edilmeye', 'bütün', '1975', 'serie', 'teklif', 'uygulanan', 'sağlayan', \"slam'ı\", 'texas', 'devletleştirilmesi', 'davet', 'i̇ngiliz', 'tutumuyla', 'eskrimin', \"cisco'da\", 'altıncı', 'aşkı', 'sayisini', 'kulüp', 'feldmareşal', 'güçlerle', 'ailelerini', 'otta', 'gidilmiştir', \"tanzimat'ın\", 'minimalist', 'deniz', 'balgam', 'liderlik', 'devamı', 'i̇skoç', 'girmesiyle', 'beykoz', 'champions', \"almanya'da\", '3695', 'başında', 'sonucu', 'ifa', 'katılmaya', 'bölgesinde', 'olabilirlilik', 'olup', 'elediler', 'klasikleri', 'günümüzdeki', 'maymunlar', \"afganistan'da\", 'showroomun', 'ediyorlardı', 'olmaktadır', 'boyu', 'after', 'etmektedirler', 'hamud', 'afaroz', 'sahip', \"caldern'da\", 'sokuldu', 'gruba', 'gösteremedi', \"i̇sviçre'nin\", 'you', 'gençliği', 'beş', 'berliner', 'avatar', '39', 'yanaşmalarına', 'noordoostpolder', 'cristiano', 'rust', 'ucuz', 'dokuzuncu', 'datchworth', 'geliştirmeye', 'yönetmenliğini', 'hugh', 'riskinin', 'yapımcı', 'benji', 'ele', 'villarla', 'durumuna', 'dardır', 'kurgusal', 'kapatmıştır', 'su', 'swan', 'birinci', 'yolu', 'dedi', 'çocuğun', 'şehre', 'flevopolder', 'yaklaştırılmadan', 'rutenya', 'bruno', 'bazen', 'karısının', 'füze', 'intihar', 'armenia', \"a1'de\", '51591', 'musul', 'izlenmiştir', 'koşulu', 'yapmış', 'bunalımın', 'hedefleri', 'rush', \"eylül'de\", '\"', 'önünde', '64', 'russell', 'luigi/tek', 'bağ', 'geri', \"marcellus'tan\", 'golden', 'dolayı', 'hissedip', 'hakkı', 'ekim', 'kişinin', 'büyüğü', 'erkekler', \"bahşı'nın\", 'terim', 'taraftarı', 'sağlık', 'kıyısı', 'emevi', 'devletine', 'kazanarak', 'galası', \"olimpiyatları'nda\", 'rocky', 'fevzi', \"1999'da\", 'görünümlü', 'şehirdir', '_', 'lord', 'şunlardır', 'oynuyor', 'kuruluşuna', 'eyalet', 'man', 'içine', 'malikane', 'isteme', '1921', 'donetsk', 'ek', 'teklisidir', 'opera', 'araştırmalarına', \"gölü'ne\", 'toplantıda', 'azınlık', 'maçlarında', 'i̇slami', 'akademisi', 'katılmıştır', 'yazarlar', 'şehrin', 'organizasyonudur', 'güçlü', 'liverpool', 'coğrafî', 'sevdiği', 'feigenbaum', 'moeller', 'sovyet', 'eğen', 'direnişine', '1958', 'shina', 'karşılaştığı', 'orijinal', 'oldukları', 'atma', 'infilak', 'işçi', 'titanik', 'gruplarından', 'midi', '17', 'apart', 'lee', 'durumları', 'kelimesinin', 'felsefe', 'kalıcı', 'nibbleswicke', 'genel', '5750.000', 'persia', '1920', 'direnişi', 'liverpoolda', 'türkçede', 'pietro', 'i̇ttifak', 'andronnikov', 'manda', \"rhöndorf'ta\", 'hanedanının', \"köln'ü\", 'gelindiğinde', 'shastri', 'temsilcileri', 'balladların', '100', 'futbola', 'kral', 'tanınan', 'todd', 'yenilgisiyle', 'adlarını', 'mustafa', 'müsabakaları', 'beklediği', 'tane', 'liderlerine', 'tarihine', 'görmüş', 'bağımsızlığın', \"dinyeper'in\", 'ödül', 'collector', 'oluşturulan', '1917', 'kurbanın', 'sıkça', 'komutanıydı', 'girişmişlerdir', 'köpüksüz', 'dahl', 'garsiv', \"macaristan'lı\", 'i̇ki', 'böylece', 'savaşılmadan', 'anlamda', 'depremlerin', \"fransa'yı\", 'afyonkarahisar', 'tallapiedra', 'veli', 'madde', \"kırım'da\", 'gidip', 'katedrali', 'tarihsel', 'avustralyalı', 'elemelerden', 'bacaklı', 'kendisi', 'kocatepe', 'angels', 'eleştiriler', 'fuar', 'sırp', 'vakıfları', 'locusta', 'çağlarda', 'nadir', 'dortmund', 'siyah', 'river', 'tanca', 'dakikada', 'depremde', 'yörelerinin', 'heterojen', 'içişlerine', 'canlandırdığı', 'hakkında', 'çatısı', \"1935'ten\", '62.', 'eline', 'hırka', 'kazandılar', 'isim', 'almanya', 'cumhuriyetinin', 'aldıkları', 'portekiz', 'pasifik', 'sezonun', 'yaşayan', 'ileride', 'ilerleyen', 'oluşturdu', 'yürürlükten', 'cemmu', 'çalışanlarına', '1922', 'müttefikleri', \"reykjavik'de\", \"king'in\", 'dizinin', 'bağlanmasıyla', \"1992'de\", 'puanı', \"fransa'da\", 'pers', 'bölgelerine', 'i̇rlanda', 'taleplerine', 'sağlamaktır', 'ilk', 'cyborg', 'uzatmalara', 'kullanıyor', ':', 'society', 'olay', 'brianteo', 'toplam', 'mantığı', 'pazartesi', \"1973'te\", \"i̇spanya'da\", 'getirmiştir', 'bağlantıda', 'tatil', \"dergileri'nin\", 'yürütülür', 'liverpoola', 'kurtlar', \"i̇stanbul'a\", 'yar', 'düşen', 'i̇slam', \"50'yi\", 'jakob', 'i̇lhan', 'eric', 'üvey', 'kalesi', 'sergiledi', 'august', 'sağlamaktadır', 'bulunur', 'i̇spanya', 'al', 'maçı', 'çabucak', 'burada', 'başbakan', 'gamalı', 'temperatures', 'liverpoolla', 'aileden', 'avusturya', 'lampas', 'nüfusuna', 'anarşist', \"togo'nun\", \"slovakya'daki\", 'adamlarından', 'genetik', 'vokalist', 'adaylık', 'anneden', 'mutedil', 'olmaları', 'benzeridir', 'geliştirilerek', 'bozumu', 'hükümeti', 'kart', 'ortaokula', 'yaşadığı', 'fizikçi', \"bbc'nin\", 'civarında', 'imax', 'düzgün', 'insanın', 'virginia', 'fakültelerinde', 'kesimde', 'süleyman', 'dikmiş', 'celtic', 'seso', 'gösterilen', 'ararken', 'alış', 'setlerle', 'ziyaretçiler', 'göstergesi', 'kopya', 'yerleşkesinde', 'elbise', 'eyaletinin', 'anlaşmışdır', 'oyla', 'edildiği', \"cup'ta\", 'görünümüyle', \"red'in\", 'türklerinin', 'kayboldu', 'amaçlayan', 'i̇nternet', 'sehirlesmis', 'bulunan', 'pound', 'oluşmaktadır', 'kullanılan', \"oyunları'nı\", 'öz', 'mohammed', 'direnemedi', 'şirketinin', 'komutanı', 'yükseldi', 'albümün', 'karşıya', 'kamprad', '1895', 'lajos', 'yağmanın', 'emirates', '1042', 'cute', 'direnme', 'bene', 'toronto', 'dışı', 'okulu', 'gol', 'bürokratik', 'bölümüdür', 'napoli', \"savaşı'nı\", 'blur', 'ikinci', 'kazançlarını', 'fall', 'göstermeye', 'hareketi', 'cavaharlal', 'rngrado', 'kruvazör', 'atella', 'yelda', \"olympio'yu\", 'kazakların', \"savaşı'nda\", 'dalıdır', 'cehenneminin', 'başladı', 'good', 'ki', 'olympio', \"liga'da\", 'f.c.', 'dördüncü', 'toplantısında', 'kulübüdür', 'kulübü', 'yeğeni', 'son', 'tepesindeki', 'gazeteyle', 'özel', 'turkey', 'kitap', 'joo', \"1856'da\", '.', \"justicia'yı\", '5.', 'japonca', 'eski', 'kurulunca', 'darbeden', 'doktorun', 'babe', 'geçirerek', \"normandi'den\", \"liverpool'ae\", 'anju', 'norman', 'arası', 'idadiler', 'your', 'kaynarca', 'infamous', 'rayne', 'eğitim', \"hükümeti'ne\", 'turnuvaya', 'yönetmen', 'düne', 'vaktinden', 'smith', 'airlines', '1857', 'devleti', 'birisidir', 'yatırımın', 'kléber', \"endülüs'teki\", 'emirliğinin', 'adıyla', 'çıkamamış', 'yürüttüğü', 'bilson', 'fulvia', \"boğazı'nı\", 'düşmüştür', 'roland', 'konumlanmış', 'voyvodasıydı', 'yönetimsel', 'republika', 'chris', 'hastalıkla', 'stajyer', 'julia', 'hat', 'mavi', \"zelanda'daki\", \"portekiz'e\", \"üniversitesi'nde\", 'dolu', 'kaptırmıştır', 'seza', 'yine', 'epeyce', 'aktör', \"kurtuba'nın\", 'ayrılmıştır', 'buffalo', 'boşaltılırken', \"afyonkarahisar'a\", 'başlamadan', 'ağustos', 'ılık', 'işgali', 'pop', 'vermektedirler', 'göstererek', 'sahiptir', 'oldugunu', 'komün', 'planet', 'yapım', 'parçalardaki', 'bugünkü', 'değiştirmesi', 'nezareti', \"mata'nın\", 'katılan', 'pavia', 'stamp', 'zuma', 'getirildi', 'adını', 'alındığı', 'coaster', '1984', 'uzmanı', 'metrajlı', 'sasani', 'var', 'genelde', 'prensi', 'ali', 'vede', 'devekuşu', 'i̇nkılap', 'süre', \"barcelona'ya\", 'dergisi', 'adaya', '1966', 'terminatör', 'porto', 'arkadan', 'meksika', 'haftasonunda', 'kaigun', 'kızkardeşimin', 'halkının', 'dörtlü', 'sistemi', \"angeles'ta\", 'belirleyip', 'halkın', 'odaklandı', 'hişam', 'oynanan', 'franklin', 'hobisi', 'gölü', 'mezun', 'bolgeye', 'arasındaki', '1909', \"abdülmelik'in\", 'şarkılarındandır', 'maliyeti', 'ettikleri', 'boldklub', 'arsenal', '1782', 'ulaştırma', \"şehristanı'ndaki\", 'i̇mparatorluğu', 'başkentidir', 'edilip', 'fazla', 'ruhu', 'meteoroloji', 'tepki', 'smokie', 'ülkelerde', 'puanın', 'görmüştür', 'altın', 'sınırının', 'toplantıya', \"alanı'ndaki\", 'coubre', 'fenomen', 'körfezinden', 'i̇ngilizlerin', 'benbrook', 'sonraki', 'şuan', 'yıllarında', 'corua', 'kicker', 'kullanılır', 'ordusuna', 'sıradır', 'anılan', 'zaferde', '780', \"şam'dan\", 'düzenli', 'turnuvada', 'tasarlanmıştır', 'menkul', 'ilahi', \"kalesi'nin\", 'kullanılmamıştır', 'paulus', 'yangında', 'alkolik', 'polis', 'köy', 'kontu', 'çıkışı', 'organize', 'amcasını', 'ağaçlarının', 'dakikasında', '..', \"amerika'yı\", 'seta', 'kuruluş', 'suları', 'apollon', 'ermeni', 'mısır', 'gospel', 'dizisinde', 'havaalanı', 'takımıyla', 'çek', 'fa', 'nükleer', \"1'de\", 'muamelesi', 'yeri', 'kurulu', 'imzaladıkları', 'etmek', 'belirtti', 'greensboro', 'bulunup', 'taşıyan', 'düzenlenmekte', 'kullanıcıların', 'başlıca', 'takımda', 'turnuvasına', 'çoraplar', 'ilçesinde', \"münih'i\", \"bull'a\", 'vahim', 'yakıninda', 'mal', 'torres', 'sınırları', 'm', 'kabilesinin', \"i̇spanya'ya\", 'nazi', '61', 'muhadiye', 'to', 'francis', 'sick', 'ana', 'dağlarından', 'etmektedir', 'ansar', 'firması', 'alanlarda', 'askeri', 'eleştirilmektedir', 'sabırsızlandığını', \"2004'ü\", 'hanedanı', \"türkiye'de\", 'luis', 'başbakanı', 'hamburg', 'eşitlik', 'yıkılmıştır', 'içeriyordu', 'cumhurbaşkanı', \"almhult'da\", 'kaydetti', 'yapılan', '19081946', 'teknik', 'united', \"2006'da\", 'görevli', 'dizisidir', 'r&b', 'komployu', 'otoritesini', 'sıradışı', \"atina'daki\", 'kimliği', 'hemde', 'bölgeye', 'sanna', 'isimlerin', 'bulunmuş', 'abderalıların', 'kardeşidir', 'michael', 'türkiyedede', 'labık', 'azalmaktadır', 'devletiyle', 'eskisi', 'koşullarında', 'kızıl', 'anlamına', 'shakhtar', 'kabadayı', 'bulunuyor', 'örneği', 'oldu', 'güçlerin', 'sırasında', 'yayınevinden', 'durumdaki', 'içerisinde', \"almanya'nın\", 'abdülhamit', 'durum', 'kuzeyinde', 'birtakım', \"âli'nin\", 'geçmiş', 'bölge', 'kullanılışına', 'stephanus', 'topraklarına', \"league'in\", \"wanderers'a\", \"feigenbaum'a\", 'tony', 'chicago', \"christensen'le\", \"turnuvası'na\", 'yaptığı', \"cincinnati'de\", 'ona', 'öldürüldü', 'süper', 'alabama', 'robot', 'yüzyıldan', 'yaşamı', \"fc'ya\", 'stadyumu', 'stoke', 'takım', 'ton/hektar', 'kişilerden', 'kararı', 'yarı', 'kazanmak', \"aversa'yı\", 'söylemesi', 'atarlar', 'dizi', 'hurricane', 'laredo', 'new', \"kitabı'na\", 'sınıfında', 'lucchese', 'çevresinde', 'osmanlılar', 'freezing', 'çekilişi', 'çocuk', 'oluşan', 'folün', 'savaşı', 'kelebek', 'komitesi', 'kardeşinin', 'sl', 'yüzünden', 'jon', 'lelystad', \"sudan'ın\", 'gyllenhaal', 'abigail', 'doğmuşlardır', 'bolton', 'kenarında', 'ses', '1381', 'sürgün', 'firmada', 'zorlukları', 'günü', '1998', 'sonuçlanan', 'sürece', 'yorgun', 'tokk', 'dolaşmış', 'ufo', 'kurmak', 'paraya', 'yetistirilen', 'yayınları', 'nın', 'nash', 'sevgisini', 'dernekleri', 'kapasitesine', 'çarptı', 'boş', 'rachel', 'nihayetinde', 'pasif', 'doğabilimci', \"uganda'da\", 'yanında', 'deli', 'şah', 'kazan', 'bildirmek', \"liverpool'un\", 'hayden', \"topluluğu'na\", 'emmy', 'belleğine', 'amacını', \"ahmet'in\", 'reading', 'never', 'post', 'gönderebilme', 'polder', 'aile', 'şehrindedir', 'into', 'çekoslovak', '16', 'esnasında', 'oğlu', 'kabile', '31.', 'boşandı', 'oynayanlar', \"1'lik\", 'kaybetmiştir', 'dernek', 'dışardan', \"city'den\", 'metropoliten', 'türkleri', 'arapça', 'i̇şte', 'baskı', 'alındı', 'jawiya', 'manstıur', 'filmini', 'casanova', 'bekleneni', '33.', 'rakamıyla', 'rusça', 'te', 'octaviae', \"epalinges'de\", 'başlıcalarıdır', \"norman'lar\", \"okulu'ndan\", 'kurulmasıyla', \"reiner'ın\", 'tarihte', 'territoire', \"şubat'ta\", 'eleştirildi', 'stratovolkanı', 'göreve', 'destekleriyle', 'görüp', 'robert', 'söyledi', 'rahime', \"antlaşması'yla\", 'bilim', 'yollandı', 'ozu', 'çıkarılarak', 'ad', 'mahkemesi', 'hilton', 'çekoslovakya', 'çıkardı', 'lady', '14', 'hazırlamıştır', \"i̇ngiltere'de\", 'kendisinden', '41', 'ovaları', 'olusturular', 'yönetim', 'mayıs', '68.', 'dominic', 'topuna', 'ortaklığı', 'oscar', 'yüzölçümü', '1199', 'yansıtmaya', 'mevcuttur', 'anlatımı', 'baskılarla', 'servetiyle', 'edilmesine', 'çiftlikler', 'ancak', 'sürüldü', 'kişiyi', 'total', \"aversa'nın\", '27', 'işleriyle', 'doğu', 'octavia', 'tir', 'düzeyi', \"stills'le\", 'öldürüldüğü', 'iii.', 'badahşan', 'türkünün', 'kurulduğu', 'nowhere', 'geçmeyi', 'zenginlik', 'mühendisliği', 'romanın', 'düzenlenen', 'arms', 'tasarısına', '12', 'çatışmanın', 'country', 'ata', 'eder', 'anayasada', 'spor', 'daladier', '1849', 'yanlısıydı', 'saegertown', 'bahadur', 'ican', 'sanmıyorum', 'türklerden', 'andries', 'vermiştir', 'dağlardan', 'geçmek', 'tatillerini', 'mount', 'yapılmaktadır', 'ülkelerden', \"berrer'i\", 'kasrı', 'başbakanlık', 'i̇talyanca', '67.', 'idaresine', 'frank', 'topladı', '49', \"körfezi'ne\", 'galba', \"1986'da\", 'yerine', 'karşılığında', 'güçlükleri', 'karşılaşmasında', 'gönderilmeyeceğini', 'sanatçılardan', 'bombardıman', 'gruplardaki', \"danimarka'nın\", 'bulunduğu', 'halen', \"1977'de\", 'tasarlamış', \"eskişehir'e\", 'yuma', 'şekilde', 'ürünleri', 'macera', 'kolorado', 'time', 'paylaşım', 'annesi', 'devlet', 'devrettiği', 'başladılar', 'serbest', \"stone'nın\", 'formasıyla', 'ulaştığı', 'birini', \"1963'te\", 'isteği', 'efekt', 'maid', 'sayılarına', 'hazar', 'nights', 'atamasını', 'crosby', 'ilçe', 'üçüncü', 'açarken', 'oranına', 'geçiren', 'üniversite', 'sololarıyla', 'ermenice', 'kalma', 'verecek', 'i̇ngilizlere', 'anlayan', 'egemenliği', 'umuduyla', \"cdu'nun\", 'los', 'geliştiricisi', \"devleti'nin\", 'd', 'christian', 'birimden', \"321.'liğe\", \"destan'ın\", 'berlinli', 'uzaklaştırıldığında', 'güçlendirmiştir', 'ikişer', 'kutluğ', 'rainulf', 'sebebiyle', 'i̇skoçya', 'basına', 'dolardır', 'hoş', 'çıkardığı', 'çıkmış', 'diktatör', 'intikamını', 'bab', 'devletlerinden', 'sinemaya', 'sarsarak', \"chelsea'nin\", 'gösterilmiş', 'intikam', 'dönen', 'koleksiyonculuğudur', 'iklime', 'langley', 'seriye', 'kiss', \"hançeri'ni\", 'latince', 'anlaşma', 'cruces', \"octavia'dan\", 'yapılmıştır', \"türksoy'un\", '1981', \"usher'ın\", 'willard', 'huzurlu', 'fiyatlarda', 'josef', 'devi', 'başpiskoposluk', 'takıma', \"slovakya'nın\", 'aek', 'mahmud', 'asaleti', 'kontluğu', '3:10', 'pazarlarında', 'şarkılardan', 'bryan', 'konuma', 'kaleme', 'dostu', 'düz', 'blue', 'rekor', \"george'un\", '1080', 'kiralık', 'boğdan', 'şampiyonlar', 'kaydı', 'yedi', 'anti', 'olurken', 'uyarlanan', 'ya', 'topraklarının', \"declaration'ın\", 'olmstead', 'yeterince', '24', 'müşteriyi', 'eşit', 'seyirci', 'saldırı', 'taleplerin', 'üstlenmişlerdi', 'yaşta', 'almancaya', 'üretirler', 'küçüksu', 'yazılan', 'federal', 'sayımına', \"konseyi'nin\", 'randstad', 'cografyacilar', 'yol', \"mit'de\", 'ticari', 'müjgan', 'bulur', 'basketbol', 'yayınlanan', 'branch', 'uzunluğunda', 'maskeli', 'murad', 'abnormal', 'lucien', \"2003'de\", 'bayan', 'malk', 'öğrencisiyken', 'grup', 'yardımcı', 'düzeyde', 'bebek', 'juarez', '66', 'madrid', 'mülkelri', 'gösterilmektedir', 'köylü', 'kaydetmiştir', 'evlendirilmiştir', 'sorunlarına', 'şarkısını', 'hey', '1973', 'ralf', 'menard', \"fc'de\", \"1960'ların\", \"ormanı'nda\", \"times'dan\", 'meksico', 'tedarik', 'elisa', 'uyarlanmıştı', '2828', 'in', 'yaşındaydı', 'arjantinli', 'takımının', 'siparişin', 'borçların', 'öykülerin', 'siyasal', \"hasselbaink'le\", 'oyuncu', 'değiştirebilmektedirler', 'nüfuslu', \"united'un\", 'kötüsüdür', 'broadsheet', 'basınını', 'i̇bad', 'duyunca', 'comes', 'kıyısında', 'yöntemleri', 'andrea', 'ovasının', \"türkiye'nin\", 'devredilmiştir', 'açıklamasını', 'kalkarlar', 'çevirdi', 'hükûmetinin', 'edileceği', '1993', '2009', 'sırasındaki', 'liderlere', 'gösterilmiştir', 'soccer', 'şarabi', 'kitabın', 'antlaşması', 'şeklindeki', 'kısıtlı', 'bilimler', 'ismiyle', 'kilise', 'kadroda', 'nüfusun', \"miranda'yı\", 'endüstrilerinin', 'ulaş', 'vadisinde', 'sahipliği', 'koşuldu', 'camii', 'kazanmasını', 'uttar', '113.', 'şarkıcı', 'toplanmış', 'çöl', 'derneğe', 'kuzeydoğudan', 'ham', 'raa', 'etmeyeceğiz', '2001', \"1976'dan\", 'kliniğe', \"transvaal'in\", 'vererek', 'başlığı', 'bakanlarının', 'akıllı', 'yabancı', 'fırtınaları', 'valiliği', 'whitwell', 'zirvesi', 'kızları', 'üyelerinin', 'politika', \"grbi'in\", 'çalıştı', 'depreme', 'dört', 'asala', 'ekonomik', 'antonius', 'kalesini', 'dairesinin', 'kara', 'tüketicileri', \"eyaleti'nin\", \"3'ncü\", 'müdahalesine', 'öğrencileri', 'le', 'dalda', \"rusya'nın\", 'rock', '2801', 'çeyrek', 'şampiyon', 'dolarlık', 'serisinin', 'çevresindeki', 'eyadéma', 'akademi', 'hasat', 'samangan', 'gülistu', 'mihail', 'center', 'stadyum', 'takdirde', 'bulunmadığı', 'yaşa', 'şey', 'yönetimi', 'my', \"1894'te\", 'paso', 'avec', 'denetlenmesini', 'taşı', 'uçuyor', 'iş', 'yargılanması', 'unutup', 'goldrush', 'madalya', 'hollanda', 'karşılaşmada', 'john', 'çalışmalarından', \"leven'in\", 'generali', \"liverpool'daki\", 'yarısında', 'göçmenlerin', 'komedyen', 'arap', \"iniesta'ya\", 'papa', 'akabinde', 'sponsorluk', '2808', 'numara', 'üçüncüsü', 'içişleri', 'ciddi', \"horse'la\", 'biri', 'nehrinin', 'savaşmıştır', 'i̇stanbul', 'lemuel', 'reddetmiş', 'programının', 'veraset', 'earl', 'değildirler', 'arkasında', 'taşınmış', \"gower'e\", \"avustralya'ya\", 'senelik', \"senatosu'nun\", 'hiç', '83.', 'claudia', 'howard', 'kasabalarda', 'hareketin', 'meclisine', 'kruger', 'tarzında', 'ordinary', \"1984'de\", 'tırın', \"city'ye\", \"pickard'ın\", 'yaydığı', 'hull', 'hawar', 'güçlendirdi', 'fresko', 'kumları', 'filmi', 'cercle', \"pandora'da\", 'izlemeye', 'ailesine', 'gayreti', 'kökenli', 'ortalarında', 'kimyager', 'seçim', 'zamanlarda', 'dayanıklı', 'çıkmaya', 'kanyonunda', 'deneme', 'almayan', 'glenn', 'olmasına', 'avatarlar', \"mısır'da\", 'alındığını', 'dizide', \"kurul'da\", 'kariyerini', 'yerel', 'sorunu', 'çıkmıştı', 'joe', 'ırkçılığı', 'kardesinin', 'sayılıyordu', 'tüm', 'kale', 'ilkesi', 'söylenemez', 'stüdyo', 'karşılan', '1985', 'edinmiştir', 'çiftin', 'kullanılmıştır', 'yoğun', 'ayından', 'izledi', 'çalışacağı', 'toplamasına', 'güney', 'atan', 'şansölyesidir', 'vincenzo', 'studi', 'emriyle', 'karaya', 'surat', 'televizyondan', 'vatandaşlığı', 'açılması', 'oyun', 'granda', 'tenis', 'dhkp', 'caesar', '2625', 'değildir', 'zirvesine', 'washington', 'cüzdan', \"avrupa'da\", 'mimarı', 'buluşması', 'kocasıyla', 'kariyerinin', 'harrell', '6000', 'meadville', 'edecek', 'dolayısıyla', 'soylu', 'auf', '1904', 'halifesidir', \"romanya'lı\", 'işletmesinin', 'science', 'kupanın', \"i̇ran'ın\", 'tekrar', 'getirterek', \"togo'da\", 'gizli', 'içerir', 'kamikaze', \"1970'de\", 'heykeldir', 'i̇nternetten', 'premier', 'ordunun', 'topraklarını', 'league', 'freedom', '9800', 'malı', 'finalinde', '40', 'blackburn', 'sezonunu', 'parçası', 'esko', \"2001'den\", 'heykeli', 'rheinland', 'görmektedir', 'ayrıca', 'bulamaması', 'başarının', 'acatı', 'arkadaşları', 'şarkısı', 'sürgüne', 'yıllarda', 'tasha', 'çocukların', 'amarelle', 'öncülü', 'mickey', 'ıli', 'bölümü', '1', '7400', \"i̇zmir'de\", \"hitler'le\", 'saltıkov', 'küre', 'tanzimatın', 'berlinlilerin', 'oyuna', 'katılamayan', 'gülistan', 'ava', 'bağlayan', 'gulliver', 'meslekleri', 'almancayı', 'elebaşlarından', 'sultan', 'düşman', 'sonuçlandı', 'şeriat', 'terra', 'toplama', 'dünyaca', 'örgütün', 'kıyafetlerle', 'ENDPAD']\n",
            "[[   2 1549    3    4    5    6    7    8 6757 6757 6757 6757 6757 6757\n",
            "  6757 6757 6757 6757 6757 6757 6757 6757 6757 6757 6757 6757 6757 6757\n",
            "  6757 6757 6757 6757 6757 6757 6757 6757 6757 6757 6757 6757 6757 6757\n",
            "  6757 6757 6757 6757 6757 6757 6757 6757 6757 6757 6757 6757 6757 6757\n",
            "  6757 6757 6757 6757 6757 6757 6757 6757 6757 6757 6757 6757 6757 6757\n",
            "  6757 6757 6757 6757 6757 6757 6757 6757 6757 6757 6757 6757 6757 6757\n",
            "  6757 6757 6757 6757 6757 6757 6757 6757 6757 6757 6757 6757 6757 6757\n",
            "  6757 6757 6757 6757 6757 6757 6757 6757 6757 6757 6757 6757 6757 6757\n",
            "  6757 6757 6757 6757 6757 6757 6757 6757 6757 6757 6757 6757 6757 6757\n",
            "  6757 6757 6757 6757 6757 6757 6757 6757 6757 6757 6757 6757 6757 6757\n",
            "  6757 6757 6757 6757 6757 6757 6757 6757 6757 6757 6757 6757 6757 6757\n",
            "  6757 6757 6757 6757 6757 6757 6757 6757 6757 6757 6757 6757 6757 6757\n",
            "  6757 6757 6757 6757 6757 6757 6757 6757 6757 6757 6757 6757 6757 6757\n",
            "  6757 6757 6757 6757 6757 6757 6757 6757 6757 6757 6757 6757 6757 6757\n",
            "  6757 6757 6757 6757]]\n",
            "{'I-ORGANIZATION': 0, 'I-MISC': 1, 'I-PERSON': 2, 'B-LOCATION': 3, 'B-ORGANIZATION': 4, 'B-PERSON': 5, 'O': 6, 'B-MISC': 7, 'I-LOCATION': 8}\n",
            "{0: 'I-ORGANIZATION', 1: 'I-MISC', 2: 'I-PERSON', 3: 'B-LOCATION', 4: 'B-ORGANIZATION', 5: 'B-PERSON', 6: 'O', 7: 'B-MISC', 8: 'I-LOCATION'}\n",
            "[0 0 0 0 0 0 0 0 0 0 0 0 0 0 0 0 0 0 0 0 0 0 0 0 0 0 0 0 0 0 0 0 0 0 0 0 0\n",
            " 0 0 0 0 0 0 0 0 0 0 0 0 0 0 0 0 0 0 0 0 0 0 0 0 0 0 0 0 0 0 0 0 0 0 0 0 0\n",
            " 0 0 0 0 0 0 0 0 0 0 0 0 0 0 0 0 0 0 0 0 0 0 0 0 0 0 0 0 0 0 0 0 0 0 0 0 0\n",
            " 0 0 0 0 0 0 0 0 0 0 0 0 0 0 0 0 0 0 0 0 0 0 0 0 0 0 0 0 0 0 0 0 0 0 0 0 0\n",
            " 0 0 0 0 0 0 0 0 0 0 0 0 0 0 0 0 0 0 0 0 0 0 0 0 0 0 0 0 0 0 0 0 0 0 0 0 0\n",
            " 0 0 0 0 0 0 0 0 0 0 0 0 0 0 0]\n",
            "etmeye -> I-ORGANIZATION\n",
            ", -> I-ORGANIZATION\n",
            "rafael -> I-ORGANIZATION\n",
            "kazanmış -> I-ORGANIZATION\n",
            "buyin -> I-ORGANIZATION\n",
            "öğrenci -> I-ORGANIZATION\n",
            "filmidir -> I-ORGANIZATION\n",
            "kaçırdı -> I-ORGANIZATION\n"
          ],
          "name": "stdout"
        }
      ]
    }
  ]
}